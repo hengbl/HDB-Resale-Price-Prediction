{
 "cells": [
  {
   "cell_type": "markdown",
   "id": "e0770bf8-eab0-49d1-b716-89e8f2fff011",
   "metadata": {},
   "source": [
    "# Part 4: Machine Learning \n",
    "\n",
    "<img src=\"https://www.fsm.ac.in/blog/wp-content/uploads/2022/08/ml-e1610553826718.jpg\" width=\"800\" height=\"800\">"
   ]
  },
  {
   "cell_type": "markdown",
   "id": "7e5e09c3-4f77-4e3c-a597-b77bcd7bcf41",
   "metadata": {},
   "source": [
    "# Import Dependencies"
   ]
  },
  {
   "cell_type": "code",
   "execution_count": 1,
   "id": "1bbd4af0-cd10-4c37-afb0-ef369670880b",
   "metadata": {},
   "outputs": [],
   "source": [
    "import pandas as pd\n",
    "import numpy as np\n",
    "import matplotlib.pyplot as plt\n",
    "import warnings\n",
    "warnings.filterwarnings(\"ignore\")\n",
    "\n",
    "from sklearn.model_selection import train_test_split\n",
    "from sklearn.preprocessing import StandardScaler\n",
    "from sklearn.metrics import mean_absolute_error, mean_squared_error, r2_score\n",
    "from sklearn.model_selection import cross_val_score\n",
    "from sklearn.model_selection import GridSearchCV\n",
    "\n",
    "from sklearn.linear_model import LinearRegression\n",
    "from sklearn.neighbors import KNeighborsRegressor\n",
    "from sklearn.tree import DecisionTreeRegressor\n",
    "from sklearn.ensemble import RandomForestRegressor\n",
    "from sklearn.ensemble import AdaBoostRegressor\n",
    "from xgboost import XGBRegressor\n",
    "from sklearn.ensemble import StackingRegressor\n",
    "from sklearn.ensemble import VotingRegressor"
   ]
  },
  {
   "cell_type": "markdown",
   "id": "7209a28c-d36b-4298-b451-381be853f3ac",
   "metadata": {},
   "source": [
    "# Read CSV"
   ]
  },
  {
   "cell_type": "code",
   "execution_count": 2,
   "id": "dfa961e0-e16a-4b97-931d-5b59ec57fc8e",
   "metadata": {},
   "outputs": [
    {
     "data": {
      "text/html": [
       "<div>\n",
       "<style scoped>\n",
       "    .dataframe tbody tr th:only-of-type {\n",
       "        vertical-align: middle;\n",
       "    }\n",
       "\n",
       "    .dataframe tbody tr th {\n",
       "        vertical-align: top;\n",
       "    }\n",
       "\n",
       "    .dataframe thead th {\n",
       "        text-align: right;\n",
       "    }\n",
       "</style>\n",
       "<table border=\"1\" class=\"dataframe\">\n",
       "  <thead>\n",
       "    <tr style=\"text-align: right;\">\n",
       "      <th></th>\n",
       "      <th>resale_price</th>\n",
       "      <th>floor_area_sqm</th>\n",
       "      <th>occupancy_period</th>\n",
       "      <th>Nearest MRT Distance</th>\n",
       "      <th>Nearest Mall Distance</th>\n",
       "      <th>Number of Bus Stops</th>\n",
       "      <th>Nearest Bus Stop Distance</th>\n",
       "      <th>Nearest NPC Distance</th>\n",
       "      <th>Nearest School Distance</th>\n",
       "      <th>Nearest Green Area Distance</th>\n",
       "      <th>...</th>\n",
       "      <th>year_2015</th>\n",
       "      <th>year_2016</th>\n",
       "      <th>year_2017</th>\n",
       "      <th>year_2018</th>\n",
       "      <th>year_2019</th>\n",
       "      <th>year_2020</th>\n",
       "      <th>year_2021</th>\n",
       "      <th>storey_type_Lower</th>\n",
       "      <th>storey_type_Middle</th>\n",
       "      <th>storey_type_Upper</th>\n",
       "    </tr>\n",
       "  </thead>\n",
       "  <tbody>\n",
       "    <tr>\n",
       "      <th>0</th>\n",
       "      <td>232000.0</td>\n",
       "      <td>44.0</td>\n",
       "      <td>38</td>\n",
       "      <td>1.003997</td>\n",
       "      <td>1.000654</td>\n",
       "      <td>2.0</td>\n",
       "      <td>0.091925</td>\n",
       "      <td>0.829747</td>\n",
       "      <td>0.219348</td>\n",
       "      <td>0.693469</td>\n",
       "      <td>...</td>\n",
       "      <td>0.0</td>\n",
       "      <td>0.0</td>\n",
       "      <td>1.0</td>\n",
       "      <td>0.0</td>\n",
       "      <td>0.0</td>\n",
       "      <td>0.0</td>\n",
       "      <td>0.0</td>\n",
       "      <td>1.0</td>\n",
       "      <td>0.0</td>\n",
       "      <td>0.0</td>\n",
       "    </tr>\n",
       "    <tr>\n",
       "      <th>1</th>\n",
       "      <td>250000.0</td>\n",
       "      <td>67.0</td>\n",
       "      <td>39</td>\n",
       "      <td>0.189875</td>\n",
       "      <td>1.157763</td>\n",
       "      <td>3.0</td>\n",
       "      <td>0.166313</td>\n",
       "      <td>1.506198</td>\n",
       "      <td>0.242224</td>\n",
       "      <td>0.636510</td>\n",
       "      <td>...</td>\n",
       "      <td>0.0</td>\n",
       "      <td>0.0</td>\n",
       "      <td>1.0</td>\n",
       "      <td>0.0</td>\n",
       "      <td>0.0</td>\n",
       "      <td>0.0</td>\n",
       "      <td>0.0</td>\n",
       "      <td>1.0</td>\n",
       "      <td>0.0</td>\n",
       "      <td>0.0</td>\n",
       "    </tr>\n",
       "    <tr>\n",
       "      <th>2</th>\n",
       "      <td>262000.0</td>\n",
       "      <td>67.0</td>\n",
       "      <td>37</td>\n",
       "      <td>0.535117</td>\n",
       "      <td>1.938852</td>\n",
       "      <td>2.0</td>\n",
       "      <td>0.123479</td>\n",
       "      <td>1.182304</td>\n",
       "      <td>0.777627</td>\n",
       "      <td>1.113168</td>\n",
       "      <td>...</td>\n",
       "      <td>0.0</td>\n",
       "      <td>0.0</td>\n",
       "      <td>1.0</td>\n",
       "      <td>0.0</td>\n",
       "      <td>0.0</td>\n",
       "      <td>0.0</td>\n",
       "      <td>0.0</td>\n",
       "      <td>1.0</td>\n",
       "      <td>0.0</td>\n",
       "      <td>0.0</td>\n",
       "    </tr>\n",
       "    <tr>\n",
       "      <th>3</th>\n",
       "      <td>265000.0</td>\n",
       "      <td>68.0</td>\n",
       "      <td>37</td>\n",
       "      <td>0.945529</td>\n",
       "      <td>0.892904</td>\n",
       "      <td>2.0</td>\n",
       "      <td>0.069453</td>\n",
       "      <td>0.737154</td>\n",
       "      <td>0.517985</td>\n",
       "      <td>0.898934</td>\n",
       "      <td>...</td>\n",
       "      <td>0.0</td>\n",
       "      <td>0.0</td>\n",
       "      <td>1.0</td>\n",
       "      <td>0.0</td>\n",
       "      <td>0.0</td>\n",
       "      <td>0.0</td>\n",
       "      <td>0.0</td>\n",
       "      <td>1.0</td>\n",
       "      <td>0.0</td>\n",
       "      <td>0.0</td>\n",
       "    </tr>\n",
       "    <tr>\n",
       "      <th>4</th>\n",
       "      <td>265000.0</td>\n",
       "      <td>67.0</td>\n",
       "      <td>37</td>\n",
       "      <td>0.501151</td>\n",
       "      <td>1.983038</td>\n",
       "      <td>3.0</td>\n",
       "      <td>0.155488</td>\n",
       "      <td>1.192218</td>\n",
       "      <td>0.782772</td>\n",
       "      <td>1.157278</td>\n",
       "      <td>...</td>\n",
       "      <td>0.0</td>\n",
       "      <td>0.0</td>\n",
       "      <td>1.0</td>\n",
       "      <td>0.0</td>\n",
       "      <td>0.0</td>\n",
       "      <td>0.0</td>\n",
       "      <td>0.0</td>\n",
       "      <td>1.0</td>\n",
       "      <td>0.0</td>\n",
       "      <td>0.0</td>\n",
       "    </tr>\n",
       "  </tbody>\n",
       "</table>\n",
       "<p>5 rows × 30 columns</p>\n",
       "</div>"
      ],
      "text/plain": [
       "   resale_price  floor_area_sqm  occupancy_period  Nearest MRT Distance  \\\n",
       "0      232000.0            44.0                38              1.003997   \n",
       "1      250000.0            67.0                39              0.189875   \n",
       "2      262000.0            67.0                37              0.535117   \n",
       "3      265000.0            68.0                37              0.945529   \n",
       "4      265000.0            67.0                37              0.501151   \n",
       "\n",
       "   Nearest Mall Distance  Number of Bus Stops  Nearest Bus Stop Distance  \\\n",
       "0               1.000654                  2.0                   0.091925   \n",
       "1               1.157763                  3.0                   0.166313   \n",
       "2               1.938852                  2.0                   0.123479   \n",
       "3               0.892904                  2.0                   0.069453   \n",
       "4               1.983038                  3.0                   0.155488   \n",
       "\n",
       "   Nearest NPC Distance  Nearest School Distance  Nearest Green Area Distance  \\\n",
       "0              0.829747                 0.219348                     0.693469   \n",
       "1              1.506198                 0.242224                     0.636510   \n",
       "2              1.182304                 0.777627                     1.113168   \n",
       "3              0.737154                 0.517985                     0.898934   \n",
       "4              1.192218                 0.782772                     1.157278   \n",
       "\n",
       "   ...  year_2015  year_2016  year_2017  year_2018  year_2019  year_2020  \\\n",
       "0  ...        0.0        0.0        1.0        0.0        0.0        0.0   \n",
       "1  ...        0.0        0.0        1.0        0.0        0.0        0.0   \n",
       "2  ...        0.0        0.0        1.0        0.0        0.0        0.0   \n",
       "3  ...        0.0        0.0        1.0        0.0        0.0        0.0   \n",
       "4  ...        0.0        0.0        1.0        0.0        0.0        0.0   \n",
       "\n",
       "   year_2021  storey_type_Lower  storey_type_Middle  storey_type_Upper  \n",
       "0        0.0                1.0                 0.0                0.0  \n",
       "1        0.0                1.0                 0.0                0.0  \n",
       "2        0.0                1.0                 0.0                0.0  \n",
       "3        0.0                1.0                 0.0                0.0  \n",
       "4        0.0                1.0                 0.0                0.0  \n",
       "\n",
       "[5 rows x 30 columns]"
      ]
     },
     "execution_count": 2,
     "metadata": {},
     "output_type": "execute_result"
    }
   ],
   "source": [
    "df = pd.read_csv(\"df_final.csv\")\n",
    "df.head()"
   ]
  },
  {
   "cell_type": "code",
   "execution_count": 3,
   "id": "c095d095-b988-441d-a4c3-d55ede89b89c",
   "metadata": {},
   "outputs": [
    {
     "name": "stdout",
     "output_type": "stream",
     "text": [
      "<class 'pandas.core.frame.DataFrame'>\n",
      "RangeIndex: 208389 entries, 0 to 208388\n",
      "Data columns (total 30 columns):\n",
      " #   Column                       Non-Null Count   Dtype  \n",
      "---  ------                       --------------   -----  \n",
      " 0   resale_price                 208389 non-null  float64\n",
      " 1   floor_area_sqm               208389 non-null  float64\n",
      " 2   occupancy_period             208389 non-null  int64  \n",
      " 3   Nearest MRT Distance         208389 non-null  float64\n",
      " 4   Nearest Mall Distance        208389 non-null  float64\n",
      " 5   Number of Bus Stops          208389 non-null  float64\n",
      " 6   Nearest Bus Stop Distance    208389 non-null  float64\n",
      " 7   Nearest NPC Distance         208389 non-null  float64\n",
      " 8   Nearest School Distance      208389 non-null  float64\n",
      " 9   Nearest Green Area Distance  208389 non-null  float64\n",
      " 10  crimes_recorded              208389 non-null  int64  \n",
      " 11  upmarket_mrt_index           208389 non-null  float64\n",
      " 12  upmarket_model_index         208389 non-null  float64\n",
      " 13  upmarket_town_index          208389 non-null  float64\n",
      " 14  upmarket_mall_index          208389 non-null  float64\n",
      " 15  upmarket_school_index        208389 non-null  float64\n",
      " 16  upmarket_green_index         208389 non-null  float64\n",
      " 17  year_2012                    208389 non-null  float64\n",
      " 18  year_2013                    208389 non-null  float64\n",
      " 19  year_2014                    208389 non-null  float64\n",
      " 20  year_2015                    208389 non-null  float64\n",
      " 21  year_2016                    208389 non-null  float64\n",
      " 22  year_2017                    208389 non-null  float64\n",
      " 23  year_2018                    208389 non-null  float64\n",
      " 24  year_2019                    208389 non-null  float64\n",
      " 25  year_2020                    208389 non-null  float64\n",
      " 26  year_2021                    208389 non-null  float64\n",
      " 27  storey_type_Lower            208389 non-null  float64\n",
      " 28  storey_type_Middle           208389 non-null  float64\n",
      " 29  storey_type_Upper            208389 non-null  float64\n",
      "dtypes: float64(28), int64(2)\n",
      "memory usage: 47.7 MB\n"
     ]
    }
   ],
   "source": [
    "df.info()"
   ]
  },
  {
   "cell_type": "markdown",
   "id": "8bbe5472-c328-4b65-b8b0-078479f9e824",
   "metadata": {},
   "source": [
    "# Overview of ML Training and Evaluation\n",
    "\n",
    "<hr>\n",
    "\n",
    "In this project we aim to build an ML model that will allow us to predict the price of HDB resale flat in Singapore given inputs such as the floor area, year of registration and nearby amenities,etc.\n",
    "We will be employing the following models we have learnt in CS3244 to help us achieve our goal:\n",
    "- `Lasso Regression`\n",
    "- `Ridge Regression`\n",
    "- `K Nearest Neighbour`\n",
    "- `Decision Tree`\n",
    "- `Random Forest`\n",
    "- `AdaBoost` \n",
    "- `XGBoost`\n",
    "\n",
    "Furthermore, we will also be using techniques that we have learnt such as different feature selection cross-validation as well as hyper-parameter tuning using GridSearchCV and manual observation in order to optimize our model performance.\n",
    "\n",
    "Our general training and evaluation methodology is outlined below. "
   ]
  },
  {
   "cell_type": "markdown",
   "id": "4d9c9966-1463-443a-8adf-dde7acd0ffa9",
   "metadata": {},
   "source": [
    "### General steps to train the model:\n",
    "1) `Train-val-test split` on the full dataset.\n",
    "2) `Standard Scaler` to scale our dataset. Tree-based methods do not require scaling but we decided to use scaled data consistently for all our models training.\n",
    "4) Split the training set into trainset and valset.\n",
    "5) Carry out `feature selection` using feature importance / weights to observe if it reduces any noise and improve model performance.\n",
    "6) Fit the trainset on the base model. Calculate the performace of the model using `negative mean squared error`.\n",
    "7) Predict the valset using the fitted model. Calculate the validation error.\n",
    "8) Fine-tune the hyper-parameters and repeat steps 4 & 5 to reduce the training and validation error.\n",
    "9) Evaluate the model with the best hyper-parameters using `K-Fold Cross Validation` with `negative mean squared error`.\n",
    "10) Predict the test set and calculate the `mean squared error`, `mean absolute error`, `R2 score`.\n"
   ]
  },
  {
   "cell_type": "markdown",
   "id": "50c66269-99e6-4366-82f4-a6c3679961c7",
   "metadata": {},
   "source": [
    "# Train-Val-Test Split"
   ]
  },
  {
   "cell_type": "code",
   "execution_count": 4,
   "id": "e0f70176-c4ea-44a4-b55a-f3f3fda3b956",
   "metadata": {},
   "outputs": [],
   "source": [
    "X = df.drop(\"resale_price\", axis=1)\n",
    "y = df[\"resale_price\"]\n",
    "\n",
    "X_train, X_test, y_train, y_test = train_test_split(X, y, test_size=0.2, random_state=42)\n",
    "\n",
    "scaler = StandardScaler()\n",
    "X_train_scaled = scaler.fit_transform(X_train)\n",
    "X_test_scaled = scaler.transform(X_test)\n",
    "\n",
    "X_trainset, X_valset, y_trainset, y_valset = train_test_split(X_train_scaled, y_train, test_size=0.2)"
   ]
  },
  {
   "cell_type": "markdown",
   "id": "ecfe8de2-b9bb-4449-99b8-0ed6828e2da2",
   "metadata": {},
   "source": [
    "# 1) Linear Regression"
   ]
  },
  {
   "cell_type": "markdown",
   "id": "c4dd7734-9781-48d9-ba58-20141b4c3890",
   "metadata": {},
   "source": [
    "## 1.1) Train a baseline `Linear Regression` model"
   ]
  },
  {
   "cell_type": "code",
   "execution_count": 5,
   "id": "eb604a17-9208-4dca-8183-d3bb5384e36d",
   "metadata": {},
   "outputs": [
    {
     "name": "stdout",
     "output_type": "stream",
     "text": [
      "Mean Squared Error: 6025257609.130421\n",
      "Mean Absolute Error: 57851.66438335892\n",
      "R-squared: 0.7216491978719629\n",
      "\n",
      "Learned Coefficients:\n",
      "                        Feature       Weights\n",
      "0                floor_area_sqm  7.771223e+04\n",
      "1              occupancy_period -1.270451e+04\n",
      "2          Nearest MRT Distance -9.127969e+03\n",
      "3         Nearest Mall Distance  6.626425e+03\n",
      "4           Number of Bus Stops -9.207296e+03\n",
      "5     Nearest Bus Stop Distance -6.226689e+02\n",
      "6          Nearest NPC Distance -9.042108e+02\n",
      "7       Nearest School Distance  1.427547e+04\n",
      "8   Nearest Green Area Distance -1.311267e+04\n",
      "9               crimes_recorded  1.061669e+04\n",
      "10           upmarket_mrt_index  1.247776e+04\n",
      "11         upmarket_model_index  2.140900e+04\n",
      "12          upmarket_town_index  4.854920e+02\n",
      "13          upmarket_mall_index  1.214038e+04\n",
      "14        upmarket_school_index  3.167894e+04\n",
      "15         upmarket_green_index  1.643535e+03\n",
      "16                    year_2012  5.587431e+15\n",
      "17                    year_2013  5.067802e+15\n",
      "18                    year_2014  5.055602e+15\n",
      "19                    year_2015  5.328551e+15\n",
      "20                    year_2016  5.545242e+15\n",
      "21                    year_2017  5.664670e+15\n",
      "22                    year_2018  6.119855e+15\n",
      "23                    year_2019  5.879057e+15\n",
      "24                    year_2020  6.013826e+15\n",
      "25                    year_2021  6.588155e+15\n",
      "26            storey_type_Lower  1.243032e+16\n",
      "27           storey_type_Middle  1.112158e+16\n",
      "28            storey_type_Upper  6.712135e+15\n"
     ]
    }
   ],
   "source": [
    "# Train linear regression model\n",
    "LR_model = LinearRegression()\n",
    "LR_model.fit(X_train_scaled, y_train)\n",
    "\n",
    "# Predictions on the testing set\n",
    "y_pred = LR_model.predict(X_test_scaled)\n",
    "\n",
    "# Calculate mean squared error, mean absolute error, and R-squared\n",
    "mse = mean_squared_error(y_test, y_pred)\n",
    "mae = mean_absolute_error(y_test, y_pred)\n",
    "r2 = r2_score(y_test, y_pred)\n",
    "\n",
    "# Print results\n",
    "print(\"Mean Squared Error:\", mse)\n",
    "print(\"Mean Absolute Error:\", mae)\n",
    "print(\"R-squared:\", r2)\n",
    "\n",
    "# Print respective weights of the features\n",
    "weights = pd.DataFrame({'Feature': X.columns, 'Weights': LR_model.coef_})\n",
    "print(\"\\nLearned Coefficients:\")\n",
    "print(weights)"
   ]
  },
  {
   "cell_type": "markdown",
   "id": "31d13d8d-1a6d-420a-9508-1cbb551df28b",
   "metadata": {},
   "source": [
    "The absolute value of the weights indicate the extent to which the change in a specific feature will result in a change in the resale price of HDB flats. Thus, a smaller absolute value would indicate that the feature is less significant. To remove insignificant features, we will remove those with abs(weights) < 1000."
   ]
  },
  {
   "cell_type": "markdown",
   "id": "1ba4304c-89ac-4216-8bb4-7a1b0f8970bc",
   "metadata": {},
   "source": [
    "## 1.2) Feature Selection"
   ]
  },
  {
   "cell_type": "code",
   "execution_count": 6,
   "id": "d203d614-e39f-4d07-8ea2-741f4299fc02",
   "metadata": {},
   "outputs": [
    {
     "name": "stdout",
     "output_type": "stream",
     "text": [
      "Mean Squared Error: 6026023620.014118\n",
      "Mean Absolute Error: 57846.793617832176\n",
      "R-squared: 0.7216138102159078\n",
      "\n",
      "Learned Coefficients:\n",
      "                        Feature       Weights\n",
      "0                floor_area_sqm  7.777066e+04\n",
      "1              occupancy_period -1.253337e+04\n",
      "2          Nearest MRT Distance -9.150584e+03\n",
      "3         Nearest Mall Distance  6.448209e+03\n",
      "4           Number of Bus Stops -8.872120e+03\n",
      "5       Nearest School Distance  1.414958e+04\n",
      "6   Nearest Green Area Distance -1.320464e+04\n",
      "7               crimes_recorded  1.046459e+04\n",
      "8            upmarket_mrt_index  1.263380e+04\n",
      "9          upmarket_model_index  2.143764e+04\n",
      "10          upmarket_mall_index  1.213179e+04\n",
      "11        upmarket_school_index  3.172171e+04\n",
      "12         upmarket_green_index  1.869166e+03\n",
      "13                    year_2012  2.047326e+15\n",
      "14                    year_2013  1.856925e+15\n",
      "15                    year_2014  1.852455e+15\n",
      "16                    year_2015  1.952468e+15\n",
      "17                    year_2016  2.031867e+15\n",
      "18                    year_2017  2.075627e+15\n",
      "19                    year_2018  2.242414e+15\n",
      "20                    year_2019  2.154182e+15\n",
      "21                    year_2020  2.203564e+15\n",
      "22                    year_2021  2.414007e+15\n",
      "23            storey_type_Lower  9.336935e+15\n",
      "24           storey_type_Middle  8.353885e+15\n",
      "25            storey_type_Upper  5.041765e+15\n"
     ]
    }
   ],
   "source": [
    "# Remove insignificant features\n",
    "X_2 = df.drop(columns=['resale_price', 'Nearest Bus Stop Distance', 'Nearest NPC Distance', 'upmarket_town_index'])\n",
    "y = df['resale_price']\n",
    "\n",
    "# Split data into training and testing sets\n",
    "X_train_2, X_test_2, y_train, y_test = train_test_split(X_2, y, test_size=0.2, random_state=42)\n",
    "\n",
    "# Scale features\n",
    "scaler = StandardScaler()\n",
    "X_train_2_scaled = scaler.fit_transform(X_train_2)\n",
    "X_test_2_scaled = scaler.transform(X_test_2)\n",
    "\n",
    "# Train linear regression model\n",
    "LR_model = LinearRegression()\n",
    "LR_model.fit(X_train_2_scaled, y_train)\n",
    "\n",
    "# Predictions on the testing set\n",
    "y_pred = LR_model.predict(X_test_2_scaled)\n",
    "\n",
    "# Calculate mean squared error, mean absolute error, and R-squared\n",
    "mse = mean_squared_error(y_test, y_pred)\n",
    "mae = mean_absolute_error(y_test, y_pred)\n",
    "r2 = r2_score(y_test, y_pred)\n",
    "\n",
    "# Print results\n",
    "print(\"Mean Squared Error:\", mse)\n",
    "print(\"Mean Absolute Error:\", mae)\n",
    "print(\"R-squared:\", r2)\n",
    "\n",
    "# Print respective weights of the features\n",
    "weights = pd.DataFrame({'Feature': X_2.columns, 'Weights': LR_model.coef_})\n",
    "print(\"\\nLearned Coefficients:\")\n",
    "print(weights)"
   ]
  },
  {
   "cell_type": "markdown",
   "id": "64c63df8-1932-4c88-970a-9c49eaa97d0f",
   "metadata": {},
   "source": [
    "After removing the insignificant features, the MSE increased while the MAE and R-squared decrease. This indicates that the model's performance did not improve.\n",
    "\n",
    "There are a few possible reasons as to why the model did not improve after removing these features.\n",
    "\n",
    "1) **Correlation with other features:** The removed features might be highly correlated with other features that remain in the model. As the information captured by the removed features are still present in the remaining features, removing these feature may not significantly impact the predictive power of the model. 'Nearest Bus Stop Distance' could be highly correlated to features such as 'Nearest MRT Distance' and 'Nearest Mall Distance' due to the fact that bus stops are often built near mrt stations and malls to improve accessibility and connectivity of the area. \n",
    "\n",
    "2) **Underfitting:** Removing features might lead to underfitting if the model becomes too simple and cannot capture the underlying patterns in the data effectively. Thus, the model's performance may not improve despite removing supposedly insignificant features.\n",
    "\n",
    "3) **Noise in data:** Features that appear to be less significant based on their weights may still contain useful information. Removing these features might lead to the loss of valuable predictive information and degrade model performance.\n",
    "\n",
    "Thus, we will not be removing these features."
   ]
  },
  {
   "cell_type": "markdown",
   "id": "e4db6db6-6f45-487c-90ca-691ef6057a8a",
   "metadata": {},
   "source": [
    "## 1.3) Lasso Regression"
   ]
  },
  {
   "cell_type": "markdown",
   "id": "154aade9-b411-427b-8d4b-207b4338a348",
   "metadata": {},
   "source": [
    "## 1.3.1) Feature Selection\n"
   ]
  },
  {
   "cell_type": "markdown",
   "id": "06da8466-1538-4850-99f5-f354eff89785",
   "metadata": {},
   "source": [
    "As normal Linear Regression do not have any hyper-parameters to tune. We will be exploring Lasso and Ridge Regression as we can tune the alpha values."
   ]
  },
  {
   "cell_type": "code",
   "execution_count": 5,
   "id": "a507790e-c0fd-4c2b-887f-9cb26ead5388",
   "metadata": {},
   "outputs": [
    {
     "name": "stdout",
     "output_type": "stream",
     "text": [
      "Non-zero Coefficients:\n",
      "                        Feature   Coefficient\n",
      "0                floor_area_sqm  77902.375059\n",
      "14        upmarket_school_index  31672.698185\n",
      "26            storey_type_Lower -21484.339803\n",
      "11         upmarket_model_index  21399.949448\n",
      "7       Nearest School Distance  14267.555778\n",
      "25                    year_2021  13443.511743\n",
      "8   Nearest Green Area Distance -13114.488619\n",
      "1              occupancy_period -12640.912332\n",
      "10           upmarket_mrt_index  12469.158799\n",
      "13          upmarket_mall_index  12142.511102\n",
      "9               crimes_recorded  10625.300728\n",
      "4           Number of Bus Stops  -9205.783324\n",
      "2          Nearest MRT Distance  -9129.218271\n",
      "22                    year_2018  -7163.276525\n",
      "23                    year_2019  -7097.757768\n",
      "3         Nearest Mall Distance   6618.433930\n",
      "17                    year_2013   6549.915681\n",
      "16                    year_2012  -5531.225639\n",
      "28            storey_type_Upper   4837.207659\n",
      "21                    year_2017  -4193.243154\n",
      "19                    year_2015  -4094.560392\n",
      "20                    year_2016  -3555.352943\n",
      "27           storey_type_Middle  -3081.474467\n",
      "24                    year_2020  -2268.178711\n",
      "15         upmarket_green_index   1643.190890\n",
      "6          Nearest NPC Distance   -896.140363\n",
      "5     Nearest Bus Stop Distance   -618.597620\n",
      "12          upmarket_town_index    483.950172\n",
      "18                    year_2014    255.869432\n"
     ]
    }
   ],
   "source": [
    "# Import package\n",
    "from sklearn.linear_model import Lasso\n",
    "\n",
    "# Create and fit Lasso regression model\n",
    "lasso = Lasso(alpha=0.01)\n",
    "lasso.fit(X_train_scaled, y_train)\n",
    "\n",
    "# Get feature importance (non-zero coefficients)\n",
    "coefficients = pd.DataFrame({'Feature': X.columns, 'Coefficient': lasso.coef_})\n",
    "non_zero_coefficients = coefficients[coefficients['Coefficient'] != 0]\n",
    "\n",
    "# Sort coefficients by absolute value to see most important features\n",
    "non_zero_coefficients = non_zero_coefficients.reindex(non_zero_coefficients['Coefficient'].abs().sort_values(ascending=False).index)\n",
    "\n",
    "# Print feature importance\n",
    "print(\"Non-zero Coefficients:\")\n",
    "print(non_zero_coefficients)"
   ]
  },
  {
   "cell_type": "markdown",
   "id": "521697b3-e82a-4c7a-bd60-9441d1e7fa6c",
   "metadata": {},
   "source": [
    "Remove features with absolute values of coefficients < 1000 in order to remove the insignificant features."
   ]
  },
  {
   "cell_type": "code",
   "execution_count": 117,
   "id": "dcf7e063-23b6-454e-a5c0-52dc4dd81413",
   "metadata": {},
   "outputs": [
    {
     "name": "stdout",
     "output_type": "stream",
     "text": [
      "Mean Squared Error: 6026023638.765695\n",
      "Mean Absolute Error: 57853.71494144677\n",
      "R-squared: 0.7216138093496349\n"
     ]
    }
   ],
   "source": [
    "# Split data into X and y\n",
    "X_3 = df.drop(columns=['resale_price', 'upmarket_town_index', 'year_2014', 'Nearest Bus Stop Distance', 'Nearest NPC Distance'])\n",
    "y = df['resale_price']\n",
    "\n",
    "# Split data into training and testing sets\n",
    "X_train_3, X_test_3, y_train, y_test = train_test_split(X_3, y, test_size=0.2, random_state=42)\n",
    "\n",
    "# Standardize features\n",
    "scaler = StandardScaler()\n",
    "X_train_3_scaled = scaler.fit_transform(X_train_3)\n",
    "X_test_3_scaled = scaler.transform(X_test_3)\n",
    "\n",
    "# Create and fit the Lasso regression model\n",
    "lasso_model = Lasso(alpha=0.01)\n",
    "lasso_model.fit(X_train_3_scaled, y_train)\n",
    "\n",
    "# Make predictions on the test set\n",
    "y_pred = lasso_model.predict(X_test_3_scaled)\n",
    "\n",
    "# Calculate evaluation metrics\n",
    "mse = mean_squared_error(y_test, y_pred)\n",
    "mae = mean_absolute_error(y_test, y_pred)\n",
    "r2 = r2_score(y_test, y_pred)\n",
    "\n",
    "# Print results\n",
    "print(\"Mean Squared Error:\", mse)\n",
    "print(\"Mean Absolute Error:\", mae)\n",
    "print(\"R-squared:\", r2)"
   ]
  },
  {
   "cell_type": "markdown",
   "id": "d2e32e1d-ac0e-425e-98b0-a0e9c6a7487a",
   "metadata": {},
   "source": [
    "After removing the insignificant features, the MSE and MAE increased while the R-squared decreased, thus the model performance did not improve after removing the insignificant features.\n",
    "\n",
    "There are a few possible reasons as to why the model did not improve after removing these features.\n",
    "\n",
    "1) **Correlation with other features:** This explanation is similar to the one above.\n",
    "\n",
    "2) **Model Complexity:** Lasso regression already penalizes the model for complexity by shrinking less significant coefficients to zero. Removing additional features may overly simplify the model, leading to underfitting and poorer performance on unseen data.\n",
    "\n",
    "3) **Selection Bias:** The features identified as insignificant by Lasso regression might not truly be irrelevant to the target variable. There could be biases in the data or limitations in the model's ability to capture complex relationships, leading to incorrect identification of features as insignificant.\n",
    "\n",
    "Thus, these features will not be removed."
   ]
  },
  {
   "cell_type": "markdown",
   "id": "85165f25-caba-4c69-b159-7e62f638b202",
   "metadata": {},
   "source": [
    "## 1.3.2) Hyper-parameters Tuning"
   ]
  },
  {
   "cell_type": "code",
   "execution_count": 6,
   "id": "cae65d48-a9dd-4ed8-99e9-ff2d28dd12f0",
   "metadata": {},
   "outputs": [
    {
     "name": "stdout",
     "output_type": "stream",
     "text": [
      "Results for Lasso Regression with alpha = 0.01:\n",
      "----------------------------------------\n",
      "Training score: -5871775462.912897\n",
      "----------------------------------------\n",
      "Validation score: -6025195387.617455\n",
      "----------------------------------------\n",
      "Results for Lasso Regression with alpha = 0.1:\n",
      "----------------------------------------\n",
      "Training score: -5871775463.164447\n",
      "----------------------------------------\n",
      "Validation score: -6025195452.1767435\n",
      "----------------------------------------\n",
      "Results for Lasso Regression with alpha = 1:\n",
      "----------------------------------------\n",
      "Training score: -5871775490.1425\n",
      "----------------------------------------\n",
      "Validation score: -6025191735.461945\n",
      "----------------------------------------\n",
      "Results for Lasso Regression with alpha = 10:\n",
      "----------------------------------------\n",
      "Training score: -5871778189.808679\n",
      "----------------------------------------\n",
      "Validation score: -6025161332.058276\n",
      "----------------------------------------\n",
      "Results for Lasso Regression with alpha = 100:\n",
      "----------------------------------------\n",
      "Training score: -5872049465.361867\n",
      "----------------------------------------\n",
      "Validation score: -6025100022.609905\n",
      "----------------------------------------\n"
     ]
    },
    {
     "data": {
      "image/png": "[encoded data removed]",
      "text/plain": [
       "<Figure size 800x600 with 1 Axes>"
      ]
     },
     "metadata": {},
     "output_type": "display_data"
    }
   ],
   "source": [
    "# Determine the range of alpha values to be tested\n",
    "alpha_range = [0.01, 0.1, 1, 10, 100]\n",
    "train_scores = []\n",
    "val_scores = []\n",
    "\n",
    "# Testing the model with different alpha values\n",
    "for alpha_value in alpha_range:\n",
    "    lasso_model = Lasso(alpha=alpha_value, max_iter=10000)\n",
    "    lasso_model.fit(X_train_scaled, y_train)\n",
    "    print(f\"Results for Lasso Regression with alpha = {alpha_value}:\")\n",
    "    print(\"----------------------------------------\")\n",
    "\n",
    "    train_pred = lasso_model.predict(X_train_scaled)\n",
    "    train_score = mean_squared_error(y_train, train_pred)\n",
    "    train_scores.append(-1 * train_score)  # Multiply by -1 to make negative\n",
    "    print(f\"Training score: -{train_score}\")\n",
    "    print(\"----------------------------------------\")\n",
    "\n",
    "    val_pred = lasso_model.predict(X_test_scaled)\n",
    "    val_score = mean_squared_error(y_test, val_pred)\n",
    "    val_scores.append(-1 * val_score)  # Multiply by -1 to make negative\n",
    "    print(f\"Validation score: -{val_score}\")\n",
    "    print(\"----------------------------------------\")\n",
    "\n",
    "# Plot scatter plot\n",
    "plt.figure(figsize=(8, 6))\n",
    "plt.scatter(alpha_range, train_scores, label='Training Score')\n",
    "plt.scatter(alpha_range, val_scores, label='Validation Score')\n",
    "plt.title('Scores vs Alpha Values for Lasso Regression')\n",
    "plt.xlabel('Alpha')\n",
    "plt.ylabel('Negative Mean Squared Error')\n",
    "plt.xscale('log')\n",
    "plt.legend()\n",
    "plt.grid(True)\n",
    "plt.show()"
   ]
  },
  {
   "cell_type": "markdown",
   "id": "4251daca-b2e5-4480-8884-7389ac7ccb6f",
   "metadata": {},
   "source": [
    "It is observed that as the alpha value increases, both the training and validation score decreases, indicating a decrease in model performance. This suggests that higher values of alpha lead to stronger regularization, which can help prevent overfitting but may also reduce the model's ability to capture the underlying patterns in the data. In order to obtain a balance in the bias and variance, the 5 fold cross validation is used to determine the optimal alpha value."
   ]
  },
  {
   "cell_type": "markdown",
   "id": "eddd0e8d-0bd5-446a-a9ba-ac373b3fec88",
   "metadata": {},
   "source": [
    "## 1.3.3) `5-fold cross validation` to evaluate Linear Regression with chosen parameter"
   ]
  },
  {
   "cell_type": "code",
   "execution_count": 7,
   "id": "27f2187e-c7f0-411e-b484-917e935cfb8d",
   "metadata": {},
   "outputs": [
    {
     "name": "stdout",
     "output_type": "stream",
     "text": [
      "The mean score is -5874487284.324749\n"
     ]
    }
   ],
   "source": [
    "# Lasso regression model with determined hyper-parameters\n",
    "lasso_final = Lasso(alpha=0.01)\n",
    "\n",
    "# Cross-validation\n",
    "cv_scores = cross_val_score(lasso_final, X_train_scaled, y_train, cv=5, scoring='neg_mean_squared_error')\n",
    "\n",
    "# Calculate mean score\n",
    "print(f\"The mean score is {np.mean(cv_scores)}\")"
   ]
  },
  {
   "cell_type": "code",
   "execution_count": 8,
   "id": "0fe49b21-7d1c-464a-82ae-feafd2eab9bb",
   "metadata": {},
   "outputs": [
    {
     "name": "stdout",
     "output_type": "stream",
     "text": [
      "The mean score is -5874487316.330685\n"
     ]
    }
   ],
   "source": [
    "# Lasso regression model with determined hyper-parameters\n",
    "lasso_final = Lasso(alpha=1)\n",
    "\n",
    "# Cross-validation\n",
    "cv_scores = cross_val_score(lasso_final, X_train_scaled, y_train, cv=5, scoring='neg_mean_squared_error')\n",
    "\n",
    "# Calculate mean score\n",
    "print(f\"The mean score is {np.mean(cv_scores)}\")"
   ]
  },
  {
   "cell_type": "code",
   "execution_count": 9,
   "id": "63617f87-234d-4cbe-a2de-0ddc6c126652",
   "metadata": {},
   "outputs": [
    {
     "name": "stdout",
     "output_type": "stream",
     "text": [
      "The mean score is -5874761966.572614\n"
     ]
    }
   ],
   "source": [
    "# Lasso regression model with determined hyper-parameters\n",
    "lasso_final = Lasso(alpha=100)\n",
    "\n",
    "# Cross-validation\n",
    "cv_scores = cross_val_score(lasso_final, X_train_scaled, y_train, cv=5, scoring='neg_mean_squared_error')\n",
    "\n",
    "# Calculate mean score\n",
    "print(f\"The mean score is {np.mean(cv_scores)}\")"
   ]
  },
  {
   "cell_type": "markdown",
   "id": "1a83f4c1-11e8-42e6-a306-9d24a3facadd",
   "metadata": {},
   "source": [
    "Based on the results of hyper-parameter tuning and 5-fold cross-validation, we can choose the optimal alpha value by selecting the one that minimizes the mean score (mean squared error). The alpha value which gives the lowest mean score is alpha = 0.01. This value provides the best balance between training performance and generalization to unseen data."
   ]
  },
  {
   "cell_type": "markdown",
   "id": "27d7891a-e41c-407d-bdc5-929d568f8df9",
   "metadata": {},
   "source": [
    "## 1.3.4) Predicting test set with fitted model\n"
   ]
  },
  {
   "cell_type": "code",
   "execution_count": 11,
   "id": "6fc3a833-f933-448c-a4ad-a354fd48a4ee",
   "metadata": {},
   "outputs": [
    {
     "name": "stdout",
     "output_type": "stream",
     "text": [
      "Mean Squared Error: 6025195387.617455\n",
      "Mean Absolute Error: 57858.13632363138\n",
      "R-squared: 0.7216520723396069\n"
     ]
    }
   ],
   "source": [
    "# Fit Lasso regression model on the training set\n",
    "lasso_final = Lasso(alpha=0.01)\n",
    "lasso_final.fit(X_train_scaled, y_train)\n",
    "\n",
    "# Make predictions on test set\n",
    "test_pred = lasso_final.predict(X_test_scaled)\n",
    "\n",
    "# Calculate mean squared error, mean absolute error, and R-squared\n",
    "test_MSE = mean_squared_error(y_test, test_pred)\n",
    "test_MAE = mean_absolute_error(y_test, test_pred)\n",
    "test_R2 = r2_score(y_test, test_pred)\n",
    "\n",
    "# Print results\n",
    "print(\"Mean Squared Error:\", test_MSE)\n",
    "print(\"Mean Absolute Error:\", test_MAE)\n",
    "print(\"R-squared:\", test_R2)"
   ]
  },
  {
   "cell_type": "markdown",
   "id": "835cc06c-3abb-4ad7-bff6-5831f7720fb1",
   "metadata": {},
   "source": [
    "**Original Regression Model Results:**\n",
    "<br>Mean Squared Error: 6025257609.130421\n",
    "<br>Mean Absolute Error: 57851.66438335892\n",
    "<br>R-squared: 0.7216491978719629\n",
    "\n",
    "**New Fitted Model Results:**\n",
    "<br>Mean Squared Error: 6025195387.617455\n",
    "<br>Mean Absolute Error: 57858.13632363138\n",
    "<br>R-squared: 0.7216520723396069\n",
    "\n",
    "**Conclusion:**\n",
    "<br>Based on these metrics, the new fitted model does not offer significant improvement over the original regression model. The differences in performance between the two models are minimal and may not be practically significant. This is due to the fact that both models were using the same alpha value."
   ]
  },
  {
   "cell_type": "markdown",
   "id": "40d3b325-f1ec-47b7-8394-512f36a52473",
   "metadata": {},
   "source": [
    "## 1.4) Ridge regression"
   ]
  },
  {
   "cell_type": "markdown",
   "id": "77dbb2c1-b24d-4d2d-80a9-65d23d1b9ca9",
   "metadata": {},
   "source": [
    "## 1.4.1) Feature Selection"
   ]
  },
  {
   "cell_type": "code",
   "execution_count": 14,
   "id": "085d190d-0843-46d5-8498-6638e978f9ac",
   "metadata": {},
   "outputs": [
    {
     "name": "stdout",
     "output_type": "stream",
     "text": [
      "Coefficients:\n",
      "                        Feature   Coefficient\n",
      "0                floor_area_sqm  77902.322006\n",
      "14        upmarket_school_index  31672.667495\n",
      "11         upmarket_model_index  21399.977516\n",
      "25                    year_2021  14908.752019\n",
      "7       Nearest School Distance  14267.555605\n",
      "8   Nearest Green Area Distance -13114.481285\n",
      "1              occupancy_period -12640.927048\n",
      "10           upmarket_mrt_index  12469.163210\n",
      "13          upmarket_mall_index  12142.509774\n",
      "26            storey_type_Lower -11145.696470\n",
      "9               crimes_recorded  10625.295473\n",
      "28            storey_type_Upper  10419.874991\n",
      "4           Number of Bus Stops  -9205.792541\n",
      "2          Nearest MRT Distance  -9129.223144\n",
      "17                    year_2013   7677.032028\n",
      "3         Nearest Mall Distance   6618.444164\n",
      "27           storey_type_Middle   6168.637736\n",
      "22                    year_2018  -5802.191719\n",
      "23                    year_2019  -5790.229274\n",
      "16                    year_2012  -4288.551564\n",
      "21                    year_2017  -2933.395062\n",
      "19                    year_2015  -2909.466114\n",
      "20                    year_2016  -2322.066474\n",
      "15         upmarket_green_index   1643.204013\n",
      "18                    year_2014   1380.274519\n",
      "24                    year_2020   -930.681101\n",
      "6          Nearest NPC Distance   -896.154046\n",
      "5     Nearest Bus Stop Distance   -618.611571\n",
      "12          upmarket_town_index    483.969616\n"
     ]
    }
   ],
   "source": [
    "# Import package\n",
    "from sklearn.linear_model import Ridge\n",
    "\n",
    "# Create and fit Ridge regression model\n",
    "ridge = Ridge(alpha=0.1)\n",
    "ridge.fit(X_train_scaled, y_train)\n",
    "\n",
    "# Get feature importance (coefficients)\n",
    "coefficients = pd.DataFrame({'Feature': X.columns, 'Coefficient': ridge.coef_})\n",
    "\n",
    "# Sort coefficients by absolute value to see most important features\n",
    "coefficients = coefficients.reindex(coefficients['Coefficient'].abs().sort_values(ascending=False).index)\n",
    "\n",
    "# Print feature importance\n",
    "print(\"Coefficients:\")\n",
    "print(coefficients)"
   ]
  },
  {
   "cell_type": "markdown",
   "id": "9b8c8e49-2e32-4c76-8b65-29a538475e3d",
   "metadata": {},
   "source": [
    "Remove features with absolute values of coefficients < 1000 in order to remove the insignificant features."
   ]
  },
  {
   "cell_type": "code",
   "execution_count": 15,
   "id": "891a7fb1-d0dd-4afb-92e3-5437c58addf1",
   "metadata": {},
   "outputs": [
    {
     "name": "stdout",
     "output_type": "stream",
     "text": [
      "Mean Squared Error: 6026023628.542587\n",
      "Mean Absolute Error: 57853.716245678945\n",
      "R-squared: 0.7216138098219151\n"
     ]
    }
   ],
   "source": [
    "# Split data into X and y\n",
    "X_4 = df.drop(columns=['resale_price', 'upmarket_town_index', 'year_2020', 'Nearest Bus Stop Distance', 'Nearest NPC Distance'])\n",
    "y = df['resale_price']\n",
    "\n",
    "# Split the data into training and testing sets\n",
    "X_train_4, X_test_4, y_train, y_test = train_test_split(X_4, y, test_size=0.2, random_state=42)\n",
    "\n",
    "# Standardize features\n",
    "scaler = StandardScaler()\n",
    "X_train_4_scaled = scaler.fit_transform(X_train_4)\n",
    "X_test_4_scaled = scaler.transform(X_test_4)\n",
    "\n",
    "# Create and fit the Ridge regression model\n",
    "ridge_model = Ridge(alpha=0.01)\n",
    "ridge_model.fit(X_train_4_scaled, y_train)\n",
    "\n",
    "# Make predictions on the test set\n",
    "y_pred = ridge_model.predict(X_test_4_scaled)\n",
    "\n",
    "# Calculate evaluation metrics\n",
    "mse = mean_squared_error(y_test, y_pred)\n",
    "mae = mean_absolute_error(y_test, y_pred)\n",
    "r2 = r2_score(y_test, y_pred)\n",
    "\n",
    "# Print results\n",
    "print(\"Mean Squared Error:\", mse)\n",
    "print(\"Mean Absolute Error:\", mae)\n",
    "print(\"R-squared:\", r2)"
   ]
  },
  {
   "cell_type": "markdown",
   "id": "09e5813e-cfa1-4b7a-b193-42c38543876d",
   "metadata": {},
   "source": [
    "After removing the insignificant features, the MSE and MAE increased while the R-squared decreased, thus the model performance has not improved.\n",
    "\n",
    "There are a few possible reasons as to why the model did not improve after removing these features.\n",
    "\n",
    "1) **Weak Feature Importance:** Ridge regression penalizes large coefficients but does not necessarily set them to zero. If the removed features had relatively small coefficients that were not significantly affecting the model's predictions, their removal may not lead to noticeable improvements in performance.\n",
    "\n",
    "2) **Collinearity:** Ridge regression can handle multicollinearity to some extent by shrinking the coefficients of correlated features together. If the removed features were highly correlated with other features, their influence on the model may have been compensated for by other correlated features.\n",
    "\n",
    "3) **Insufficient Regularization:** The chosen value of alpha may not have been sufficient to effectively shrink the coefficients of the removed features to zero. In such cases, removing these features would have little impact on the model's performance.\n",
    "\n",
    "Thus, these features will not be removed. "
   ]
  },
  {
   "cell_type": "markdown",
   "id": "f7820f8e-aae8-44b0-b503-cb277b33b20f",
   "metadata": {},
   "source": [
    "## 1.4.2) Hyper-parameters Tuning"
   ]
  },
  {
   "cell_type": "code",
   "execution_count": 125,
   "id": "f6dad653-626f-4808-a433-66aa6afce52a",
   "metadata": {},
   "outputs": [
    {
     "name": "stdout",
     "output_type": "stream",
     "text": [
      "Results for Ridge Regression with alpha = 0.01:\n",
      "----------------------------------------\n",
      "Training score: -5871775462.910396\n",
      "----------------------------------------\n",
      "Validation score: -6025195376.606925\n",
      "----------------------------------------\n",
      "Results for Ridge Regression with alpha = 0.1:\n",
      "----------------------------------------\n",
      "Training score: -5871775462.914312\n",
      "----------------------------------------\n",
      "Validation score: -6025195341.847217\n",
      "----------------------------------------\n",
      "Results for Ridge Regression with alpha = 1:\n",
      "----------------------------------------\n",
      "Training score: -5871775463.305981\n",
      "----------------------------------------\n",
      "Validation score: -6025194994.609134\n",
      "----------------------------------------\n",
      "Results for Ridge Regression with alpha = 10:\n",
      "----------------------------------------\n",
      "Training score: -5871775502.464805\n",
      "----------------------------------------\n",
      "Validation score: -6025191558.120505\n",
      "----------------------------------------\n",
      "Results for Ridge Regression with alpha = 100:\n",
      "----------------------------------------\n",
      "Training score: -5871779410.247481\n",
      "----------------------------------------\n",
      "Validation score: -6025160774.308459\n",
      "----------------------------------------\n"
     ]
    },
    {
     "data": {
      "image/png": "[encoded data removed]",
      "text/plain": [
       "<Figure size 800x600 with 1 Axes>"
      ]
     },
     "metadata": {},
     "output_type": "display_data"
    }
   ],
   "source": [
    "# Determine the range of alpha values to be tested\n",
    "alpha_range = [0.01, 0.1, 1, 10, 100]\n",
    "train_scores_ridge = []\n",
    "val_scores_ridge = []\n",
    "\n",
    "# Testing the model with different alpha values\n",
    "for alpha_value in alpha_range:\n",
    "    ridge_model = Ridge(alpha=alpha_value)\n",
    "    ridge_model.fit(X_train_scaled, y_train)\n",
    "    print(f\"Results for Ridge Regression with alpha = {alpha_value}:\")\n",
    "    print(\"----------------------------------------\")\n",
    "\n",
    "    train_pred_ridge = ridge_model.predict(X_train_scaled)\n",
    "    train_score_ridge = mean_squared_error(y_train, train_pred_ridge)\n",
    "    train_scores_ridge.append(-1 * train_score_ridge)\n",
    "    print(f\"Training score: -{train_score_ridge}\")\n",
    "    print(\"----------------------------------------\")\n",
    "\n",
    "    val_pred_ridge = ridge_model.predict(X_test_scaled)\n",
    "    val_score_ridge = mean_squared_error(y_test, val_pred_ridge)\n",
    "    val_scores_ridge.append(-1 * val_score_ridge)\n",
    "    print(f\"Validation score: -{val_score_ridge}\")\n",
    "    print(\"----------------------------------------\")\n",
    "\n",
    "# Plot scatter plot\n",
    "plt.figure(figsize=(8, 6))\n",
    "plt.scatter(alpha_range, train_scores_ridge, label='Training Score (Ridge)')\n",
    "plt.scatter(alpha_range, val_scores_ridge, label='Validation Score (Ridge)')\n",
    "plt.title('Scores vs Alpha Values for Ridge Regression')\n",
    "plt.xlabel('Alpha')\n",
    "plt.ylabel('Negative Mean Squared Error')\n",
    "plt.xscale('log')\n",
    "plt.legend()\n",
    "plt.grid(True)\n",
    "plt.show()"
   ]
  },
  {
   "cell_type": "markdown",
   "id": "ddce31aa-46cb-4202-952f-59213e9ee407",
   "metadata": {},
   "source": [
    "It is observed that as the alpha value increases, the absolute value of the training score increases and validation score decreases. Overall, the trend shows that the model's performance remains relatively stable for lower values of alpha (0.01 and 0.1), but deteriorates as alpha increases (10 and 100). This suggests that moderate regularization is beneficial for preventing overfitting and improving generalization, but too much regularization can lead to underfitting and poorer performance on both the training and validation datasets. In order to obtain a balance in the bias and variance, the 5 fold cross validation is used to determine the optimal alpha value."
   ]
  },
  {
   "cell_type": "markdown",
   "id": "8425c102-a4b3-4987-8637-363ae24d8aea",
   "metadata": {},
   "source": [
    "## 1.4.3) `5-fold cross validation` to evaluate Ridge Regression with chosen parameter"
   ]
  },
  {
   "cell_type": "code",
   "execution_count": 126,
   "id": "d6767d61-7e19-4047-b9d1-1551499bb3ad",
   "metadata": {},
   "outputs": [
    {
     "name": "stdout",
     "output_type": "stream",
     "text": [
      "The mean score is -5874487283.987239\n"
     ]
    }
   ],
   "source": [
    "# Ridge regression model with determined hyper-parameters\n",
    "ridge_final = Ridge(alpha=0.01)\n",
    "\n",
    "# Cross-validation\n",
    "cv_scores = cross_val_score(ridge_final, X_train_scaled, y_train, cv=5, scoring='neg_mean_squared_error')\n",
    "\n",
    "# Calculate mean score\n",
    "print(f\"The mean score is {np.mean(cv_scores)}\")"
   ]
  },
  {
   "cell_type": "code",
   "execution_count": 127,
   "id": "0392dfa5-9048-4700-833a-636686ce0cd3",
   "metadata": {},
   "outputs": [
    {
     "name": "stdout",
     "output_type": "stream",
     "text": [
      "The mean score is -5874487258.02415\n"
     ]
    }
   ],
   "source": [
    "# Ridge regression model with determined hyper-parameters\n",
    "ridge_final = Ridge(alpha=1)\n",
    "\n",
    "# Cross-validation\n",
    "cv_scores = cross_val_score(ridge_final, X_train_scaled, y_train, cv=5, scoring='neg_mean_squared_error')\n",
    "\n",
    "# Calculate mean score\n",
    "print(f\"The mean score is {np.mean(cv_scores)}\")"
   ]
  },
  {
   "cell_type": "code",
   "execution_count": 128,
   "id": "0c0a7794-76ed-43f1-85b4-c8cf62260568",
   "metadata": {},
   "outputs": [
    {
     "name": "stdout",
     "output_type": "stream",
     "text": [
      "The mean score is -5874490770.960852\n"
     ]
    }
   ],
   "source": [
    "# Ridge regression model with determined hyper-parameters\n",
    "ridge_final = Ridge(alpha=100)\n",
    "\n",
    "# Cross-validation\n",
    "cv_scores = cross_val_score(ridge_final, X_train_scaled, y_train, cv=5, scoring='neg_mean_squared_error')\n",
    "\n",
    "# Calculate mean score\n",
    "print(f\"The mean score is {np.mean(cv_scores)}\")"
   ]
  },
  {
   "cell_type": "markdown",
   "id": "15e4cb9c-cc62-4568-b353-f86a92ea4f50",
   "metadata": {},
   "source": [
    "Based on the results, the optimal alpha value is alpha = 1. This is because it has a relatively low training score, validation score, and mean score from cross-validation, indicating good performance and generalization.\n",
    "\n",
    "Alpha values smaller than 1 show slightly higher validation scores, indicating potential overfitting, while alpha values larger than 1 start to show increasing cross-validation scores, suggesting underfitting due to excessive regularization. Therefore, alpha = 1 strikes a balance between bias and variance, making it the optimal choice for the model."
   ]
  },
  {
   "cell_type": "markdown",
   "id": "0b6f1492-61d4-4ae1-b4e6-6e48c2850260",
   "metadata": {},
   "source": [
    "## 1.4.4) Predicting test set with fitted model"
   ]
  },
  {
   "cell_type": "code",
   "execution_count": 129,
   "id": "ec64c8a8-9bda-46df-ba99-04747e999a8e",
   "metadata": {},
   "outputs": [
    {
     "name": "stdout",
     "output_type": "stream",
     "text": [
      "Mean Squared Error: 6025194994.609134\n",
      "Mean Absolute Error: 57858.09588117242\n",
      "R-squared: 0.7216520904955411\n"
     ]
    }
   ],
   "source": [
    "# Fit Ridge regression model on the training set\n",
    "ridge_final = Ridge(alpha=1)\n",
    "ridge_final.fit(X_train_scaled, y_train)\n",
    "\n",
    "# Make predictions on test set\n",
    "test_pred = ridge_final.predict(X_test_scaled)\n",
    "\n",
    "# Calculate mean squared error, mean absolute error, and R-squared\n",
    "test_MSE = mean_squared_error(y_test, test_pred)\n",
    "test_MAE = mean_absolute_error(y_test, test_pred)\n",
    "test_R2 = r2_score(y_test, test_pred)\n",
    "\n",
    "# Print results\n",
    "print(\"Mean Squared Error:\", test_MSE)\n",
    "print(\"Mean Absolute Error:\", test_MAE)\n",
    "print(\"R-squared:\", test_R2)"
   ]
  },
  {
   "cell_type": "markdown",
   "id": "a19d48eb-4265-468c-b279-d41d0caeedb4",
   "metadata": {},
   "source": [
    "**Original Regression Model Results:**\n",
    "<br>Mean Squared Error: 6025257609.130421\n",
    "<br>Mean Absolute Error: 57851.66438335892\n",
    "<br>R-squared: 0.7216491978719629\n",
    "\n",
    "**New Fitted Model Results:**\n",
    "<br>Mean Squared Error: 6025194994.609134\n",
    "<br>Mean Absolute Error: 57858.09588117242\n",
    "<br>R-squared: 0.7216520904955411\n",
    "\n",
    "**Conclusion:**\n",
    "<br>Despite the slight differences in the mean squared error and mean absolute error between the original and new models, they are not significant. Both models have similar values for these metrics, indicating that they perform similarly in terms of predicting the target variable (resale_price).\n",
    "\n",
    "However, the R-squared value for the new fitted model is slightly higher than that of the original model. This suggests that the new model explains a slightly larger proportion of the variance in the target variable compared to the original model. While the improvement is marginal, it indicates a slightly better fit of the new model to the data.\n",
    "\n",
    "Overall, the new fitted model performs comparably to the original model, with a slight improvement in terms of explaining the variance in the target variable."
   ]
  },
  {
   "cell_type": "markdown",
   "id": "9e12ecf5-d7de-4646-b544-544303c35b26",
   "metadata": {},
   "source": [
    "# 2) K Nearest Neighbour"
   ]
  },
  {
   "cell_type": "markdown",
   "id": "0e74b8dc-7d3e-4eed-a31e-7d1693dcad5a",
   "metadata": {},
   "source": [
    "## 2.1) Train a baseline `KNN` model"
   ]
  },
  {
   "cell_type": "code",
   "execution_count": 21,
   "id": "c47ffa2e-091a-4ec6-b7e5-ca339b02e75d",
   "metadata": {},
   "outputs": [
    {
     "name": "stdout",
     "output_type": "stream",
     "text": [
      "Mean Squared Error: 2628244950.2251287\n",
      "Mean Absolute Error: 34825.13510336388\n",
      "R-squared: 0.87858210593759\n"
     ]
    }
   ],
   "source": [
    "# Create KNN regression model\n",
    "knn = KNeighborsRegressor(n_neighbors=5)\n",
    "\n",
    "# Train model\n",
    "knn.fit(X_train_scaled, y_train)\n",
    "\n",
    "# Predictions on the testing set\n",
    "y_pred = knn.predict(X_test_scaled)\n",
    "\n",
    "# Calculate mean squared error\n",
    "mse = mean_squared_error(y_test, y_pred)\n",
    "print(\"Mean Squared Error:\", mse)\n",
    "\n",
    "# Calculate mean absolute error\n",
    "mae = mean_absolute_error(y_test, y_pred)\n",
    "print(\"Mean Absolute Error:\", mae)\n",
    "\n",
    "# Calculate R-squared score\n",
    "r2 = r2_score(y_test, y_pred)\n",
    "print(\"R-squared:\", r2)"
   ]
  },
  {
   "cell_type": "markdown",
   "id": "3ac07dc0-487b-493e-a666-f4df343c2323",
   "metadata": {},
   "source": [
    "For kNN specifically, RFE can be used to improve the model's performance by selecting the most relevant features and potentially reducing noise and overfitting."
   ]
  },
  {
   "cell_type": "markdown",
   "id": "ae5d3df5-656d-4377-bbca-ac969e99d65c",
   "metadata": {},
   "source": [
    "## 2.2) Recursive Feature Elimination (RFE)"
   ]
  },
  {
   "cell_type": "code",
   "execution_count": 21,
   "id": "88c59fb8-3575-4600-b5e7-428f84c81251",
   "metadata": {},
   "outputs": [
    {
     "name": "stdout",
     "output_type": "stream",
     "text": [
      "Mean Squared Error: 2138041478.1834462\n",
      "Mean Absolute Error: 30328.167188684674\n",
      "R-squared: 0.9012281965283031\n",
      "Selected Features: Index(['floor_area_sqm', 'Nearest School Distance',\n",
      "       'Nearest Green Area Distance', 'crimes_recorded',\n",
      "       'upmarket_model_index', 'upmarket_mall_index', 'upmarket_school_index',\n",
      "       'year_2012', 'year_2013', 'year_2014', 'year_2015', 'year_2016',\n",
      "       'year_2017', 'year_2018', 'year_2019', 'year_2020', 'year_2021',\n",
      "       'storey_type_Lower', 'storey_type_Middle', 'storey_type_Upper'],\n",
      "      dtype='object')\n"
     ]
    }
   ],
   "source": [
    "from sklearn.feature_selection import RFE\n",
    "\n",
    "# Initialize Linear Regression as estimator for RFE\n",
    "linear_regression = LinearRegression()\n",
    "\n",
    "# Initialize RFE with Linear Regression estimator\n",
    "rfe = RFE(estimator=linear_regression, n_features_to_select=20, step=1)\n",
    "\n",
    "# Fit RFE to training data\n",
    "rfe.fit(X_train_scaled, y_train)\n",
    "\n",
    "# Get selected features\n",
    "selected_features = X.columns[rfe.support_]\n",
    "\n",
    "# Train KNN model on the selected features\n",
    "knn = KNeighborsRegressor()\n",
    "knn.fit(X_train_scaled[:, rfe.support_], y_train)\n",
    "\n",
    "# Predictions on the testing set\n",
    "y_pred = knn.predict(X_test_scaled[:, rfe.support_])\n",
    "\n",
    "# Calculate mean squared error\n",
    "mse = mean_squared_error(y_test, y_pred)\n",
    "print(\"Mean Squared Error:\", mse)\n",
    "\n",
    "# Calculate mean absolute error\n",
    "mae = mean_absolute_error(y_test, y_pred)\n",
    "print(\"Mean Absolute Error:\", mae)\n",
    "\n",
    "# Calculate R-squared score\n",
    "r2 = r2_score(y_test, y_pred)\n",
    "print(\"R-squared:\", r2)\n",
    "\n",
    "# Print selected features\n",
    "print(\"Selected Features:\", selected_features)"
   ]
  },
  {
   "cell_type": "markdown",
   "id": "cf12f42d-683e-4bc2-8f12-77c77f2b1657",
   "metadata": {},
   "source": [
    "RFE reduced the MSE and MAE while the R-squared increase. A lower MSE indicates that the model's predictions are closer to the actual values, suggesting improved accuracy. Similarly, a lower MAE indicates that, on average, the model's predictions are closer to the true values. A higher R-squared value indicates that a larger proportion of the variance in the target variable is explained by the model, suggesting improved goodness of fit. Overall, these improvements suggest that the RFE technique helped identify and retain the most relevant features for predicting the target variable."
   ]
  },
  {
   "cell_type": "markdown",
   "id": "f53efb5a-4fd5-4e9c-83d0-6143106ebea4",
   "metadata": {},
   "source": [
    "## 2.3 Hyper-parameters Tuning"
   ]
  },
  {
   "cell_type": "markdown",
   "id": "e8031889-5e6f-49c3-9240-26ed40725f3c",
   "metadata": {},
   "source": [
    "### 2.2.1) Hyper-parameter 1: `n_neighbours`"
   ]
  },
  {
   "cell_type": "code",
   "execution_count": 24,
   "id": "92e52da0-0db6-421c-8514-c89e8d91230a",
   "metadata": {},
   "outputs": [
    {
     "name": "stdout",
     "output_type": "stream",
     "text": [
      "Results for KNN Regression with n_neighbors = 3:\n",
      "----------------------------------------\n",
      "Training score: -865473827.7434107\n",
      "----------------------------------------\n",
      "Validation score: -1917364808.5667622\n",
      "----------------------------------------\n",
      "Results for KNN Regression with n_neighbors = 5:\n",
      "----------------------------------------\n",
      "Training score: -1331081295.3047123\n",
      "----------------------------------------\n",
      "Validation score: -2138041478.1834462\n",
      "----------------------------------------\n",
      "Results for KNN Regression with n_neighbors = 7:\n",
      "----------------------------------------\n",
      "Training score: -1693593855.873533\n",
      "----------------------------------------\n",
      "Validation score: -2371527412.176842\n",
      "----------------------------------------\n",
      "Results for KNN Regression with n_neighbors = 9:\n",
      "----------------------------------------\n",
      "Training score: -1975613517.9741533\n",
      "----------------------------------------\n",
      "Validation score: -2576482779.7780857\n",
      "----------------------------------------\n"
     ]
    },
    {
     "data": {
      "image/png": "[encoded data removed]",
      "text/plain": [
       "<Figure size 800x600 with 1 Axes>"
      ]
     },
     "metadata": {},
     "output_type": "display_data"
    }
   ],
   "source": [
    "# Determine range of neighbors\n",
    "n_neighbors_range = [3, 5, 7, 9]\n",
    "train_scores_knn = []\n",
    "val_scores_knn = []\n",
    "\n",
    "# Testing the model with different n_neighbors values\n",
    "for n_neighbors_value in n_neighbors_range:\n",
    "    knn_model = KNeighborsRegressor(n_neighbors=n_neighbors_value)\n",
    "    knn_model.fit(X_train_scaled[:, rfe.support_], y_train)\n",
    "    print(f\"Results for KNN Regression with n_neighbors = {n_neighbors_value}:\")\n",
    "    print(\"----------------------------------------\")\n",
    "\n",
    "    train_pred_knn = knn_model.predict(X_train_scaled[:, rfe.support_])\n",
    "    train_score_knn = mean_squared_error(y_train, train_pred_knn)\n",
    "    train_scores_knn.append(-1 * train_score_knn)\n",
    "    print(f\"Training score: -{train_score_knn}\")\n",
    "    print(\"----------------------------------------\")\n",
    "\n",
    "    val_pred_knn = knn_model.predict(X_test_scaled[:, rfe.support_])\n",
    "    val_score_knn = mean_squared_error(y_test, val_pred_knn)\n",
    "    val_scores_knn.append(-1 * val_score_knn)\n",
    "    print(f\"Validation score: -{val_score_knn}\")\n",
    "    print(\"----------------------------------------\")\n",
    "\n",
    "# Plot scatter plot\n",
    "plt.figure(figsize=(8, 6))\n",
    "plt.scatter(n_neighbors_range, train_scores_knn, label='Training Score (KNN)')\n",
    "plt.scatter(n_neighbors_range, val_scores_knn, label='Validation Score (KNN)')\n",
    "plt.title('Scores vs N_neighbors for KNN Regression')\n",
    "plt.xlabel('N_neighbors')\n",
    "plt.ylabel('Negative Mean Squared Error')\n",
    "plt.legend()\n",
    "plt.grid(True)\n",
    "plt.show()"
   ]
  },
  {
   "cell_type": "markdown",
   "id": "802d81ca-be56-44a5-8689-c7ed2e9f2741",
   "metadata": {},
   "source": [
    "From these results, we observe that as the number of neighbors increases, both the training and validation scores (MSE) also increase. This suggests that the model's performance worsens with a higher number of neighbors, indicating potential overfitting as it becomes more sensitive to noise in the data.\n",
    "\n",
    "Therefore, based on the provided results, the optimal number of neighbors for the KNN regression model is n_neighbors = 3, as it has the lowest validation score among the tested values, indicating better generalization performance."
   ]
  },
  {
   "cell_type": "markdown",
   "id": "74b7bfd1-fe6e-4db4-ac20-56eae10cfd35",
   "metadata": {},
   "source": [
    "### 2.2.2) Hyper-parameter 2: `weights`"
   ]
  },
  {
   "cell_type": "code",
   "execution_count": 25,
   "id": "2aff5956-6de7-4f18-b49d-5771717d1875",
   "metadata": {},
   "outputs": [
    {
     "name": "stdout",
     "output_type": "stream",
     "text": [
      "Results for KNN Regression with weights = uniform:\n",
      "----------------------------------------\n",
      "Training score: -1331081295.3047123\n",
      "----------------------------------------\n",
      "Validation score: -2138041478.1834462\n",
      "----------------------------------------\n",
      "Results for KNN Regression with weights = distance:\n",
      "----------------------------------------\n",
      "Training score: -164773448.61412975\n",
      "----------------------------------------\n",
      "Validation score: -1728709159.9407017\n",
      "----------------------------------------\n"
     ]
    },
    {
     "data": {
      "image/png": "[encoded data removed]",
      "text/plain": [
       "<Figure size 800x600 with 1 Axes>"
      ]
     },
     "metadata": {},
     "output_type": "display_data"
    }
   ],
   "source": [
    "# Determine range of weights\n",
    "weights_options = ['uniform', 'distance']\n",
    "train_scores_weights = []\n",
    "val_scores_weights = []\n",
    "\n",
    "# Testing the model with different weights\n",
    "for weight_option in weights_options:\n",
    "    knn_model = KNeighborsRegressor(weights=weight_option)\n",
    "    knn_model.fit(X_train_scaled[:, rfe.support_], y_train)\n",
    "    print(f\"Results for KNN Regression with weights = {weight_option}:\")\n",
    "    print(\"----------------------------------------\")\n",
    "\n",
    "    train_pred_weights = knn_model.predict(X_train_scaled[:, rfe.support_])\n",
    "    train_score_weights = mean_squared_error(y_train, train_pred_weights)\n",
    "    train_scores_weights.append(-1 * train_score_weights)\n",
    "    print(f\"Training score: -{train_score_weights}\")\n",
    "    print(\"----------------------------------------\")\n",
    "\n",
    "    val_pred_weights = knn_model.predict(X_test_scaled[:, rfe.support_])\n",
    "    val_score_weights = mean_squared_error(y_test, val_pred_weights)\n",
    "    val_scores_weights.append(-1 * val_score_weights)\n",
    "    print(f\"Validation score: -{val_score_weights}\")\n",
    "    print(\"----------------------------------------\")\n",
    "\n",
    "# Plot scatter plot\n",
    "plt.figure(figsize=(8, 6))\n",
    "plt.scatter(weights_options, train_scores_weights, label='Training Score (KNN)')\n",
    "plt.scatter(weights_options, val_scores_weights, label='Validation Score (KNN)')\n",
    "plt.title('Scores vs Weights Options for KNN Regression')\n",
    "plt.xlabel('Weights')\n",
    "plt.ylabel('Negative Mean Squared Error')\n",
    "plt.legend()\n",
    "plt.grid(True)\n",
    "plt.show()"
   ]
  },
  {
   "cell_type": "markdown",
   "id": "8926c4cf-2dd5-4741-80ac-f6838570548f",
   "metadata": {},
   "source": [
    "It can be observed that using the \"distance\" weight option leads to significantly lower validation score (MSE) compared to using \"uniform\" weights. This indicates that assigning weights based on the distance to neighbors results in better model performance, as it gives more importance to closer neighbors in the prediction process.\n",
    "\n",
    "Therefore, based on the results, the optimal weight option for the KNN regression model is weights = distance."
   ]
  },
  {
   "cell_type": "markdown",
   "id": "8cfe530f-8edb-4c3a-be2a-eca84892d14b",
   "metadata": {},
   "source": [
    "### 2.2.3) Hyper-parameter 3: `p`"
   ]
  },
  {
   "cell_type": "code",
   "execution_count": 27,
   "id": "a144365e-e59b-4b93-be2c-ca771dec071d",
   "metadata": {},
   "outputs": [
    {
     "name": "stdout",
     "output_type": "stream",
     "text": [
      "Results for KNN Regression with p = 1:\n",
      "----------------------------------------\n",
      "Training score: -1206952560.4948297\n",
      "----------------------------------------\n",
      "Validation score: -1971423068.5953069\n",
      "----------------------------------------\n",
      "Results for KNN Regression with p = 2:\n",
      "----------------------------------------\n",
      "Training score: -1331081295.3047123\n",
      "----------------------------------------\n",
      "Validation score: -2138041478.1834462\n",
      "----------------------------------------\n"
     ]
    },
    {
     "data": {
      "image/png": "[encoded data removed]",
      "text/plain": [
       "<Figure size 800x600 with 1 Axes>"
      ]
     },
     "metadata": {},
     "output_type": "display_data"
    }
   ],
   "source": [
    "# Determine range of p\n",
    "p_values = [1, 2]  # 1 for Manhattan distance, 2 for Euclidean distance\n",
    "train_scores_p = []\n",
    "val_scores_p = []\n",
    "\n",
    "# Testing the model with different p values\n",
    "for p_value in p_values:\n",
    "    knn_model = KNeighborsRegressor(p=p_value)\n",
    "    knn_model.fit(X_train_scaled[:, rfe.support_], y_train)\n",
    "    print(f\"Results for KNN Regression with p = {p_value}:\")\n",
    "    print(\"----------------------------------------\")\n",
    "\n",
    "    train_pred_p = knn_model.predict(X_train_scaled[:, rfe.support_])\n",
    "    train_score_p = mean_squared_error(y_train, train_pred_p)\n",
    "    train_scores_p.append(-1 * train_score_p)\n",
    "    print(f\"Training score: -{train_score_p}\")\n",
    "    print(\"----------------------------------------\")\n",
    "\n",
    "    val_pred_p = knn_model.predict(X_test_scaled[:, rfe.support_])\n",
    "    val_score_p = mean_squared_error(y_test, val_pred_p)\n",
    "    val_scores_p.append(-1 * val_score_p)\n",
    "    print(f\"Validation score: -{val_score_p}\")\n",
    "    print(\"----------------------------------------\")\n",
    "\n",
    "# Plot scatter plot\n",
    "plt.figure(figsize=(8, 6))\n",
    "plt.scatter(p_values, train_scores_p, label='Training Score (KNN)')\n",
    "plt.scatter(p_values, val_scores_p, label='Validation Score (KNN)')\n",
    "plt.title('Scores vs p Values for KNN Regression')\n",
    "plt.xlabel('p')\n",
    "plt.ylabel('Negative Mean Squared Error')\n",
    "plt.legend()\n",
    "plt.grid(True)\n",
    "plt.show()"
   ]
  },
  {
   "cell_type": "markdown",
   "id": "f811eea4-5e11-4ec0-9ad6-cbfbc8d8158b",
   "metadata": {},
   "source": [
    "We observe that using the Manhattan distance metric (p = 1) leads to a lower validation score (MSE) compared to using the Euclidean distance metric (p = 2). This indicates that the model performs better when using the Manhattan distance metric for distance calculation.\n",
    "\n",
    "Therefore, based on the results, the optimal value for p in the KNN regression model is p = 1 (Manhattan distance)."
   ]
  },
  {
   "cell_type": "markdown",
   "id": "802271e2-b9db-42e5-9af2-17707fa94ac9",
   "metadata": {},
   "source": [
    "## 2.4) `5-fold cross validation` to evaluate KNN with chosen parameters"
   ]
  },
  {
   "cell_type": "code",
   "execution_count": 28,
   "id": "6f4fdec8-28f2-4261-abda-7cf2dff29323",
   "metadata": {},
   "outputs": [
    {
     "name": "stdout",
     "output_type": "stream",
     "text": [
      "The mean score is -1791216162.8694077\n"
     ]
    }
   ],
   "source": [
    "# Create KNN regression model with determined hyper-parameters\n",
    "knn_final = KNeighborsRegressor(n_neighbors=3, weights=\"distance\", p=1)\n",
    "\n",
    "# Cross-validation\n",
    "cv_scores_knn = cross_val_score(knn_final, X_train_scaled[:, rfe.support_], y_train, cv=5, scoring='neg_mean_squared_error')\n",
    "\n",
    "# Calculate mean score\n",
    "print(f\"The mean score is {np.mean(cv_scores_knn)}\")"
   ]
  },
  {
   "cell_type": "markdown",
   "id": "6645f2f4-e9f9-4c4c-90f1-156c382c0248",
   "metadata": {},
   "source": [
    "The MSE value decreased with the selected parameters."
   ]
  },
  {
   "cell_type": "markdown",
   "id": "c081aa8f-41fa-4813-9516-a098ec84f108",
   "metadata": {},
   "source": [
    "## 2.5) Predicting test set with fitted model"
   ]
  },
  {
   "cell_type": "code",
   "execution_count": 29,
   "id": "5fdb9e23-bb67-4f33-866f-4e0ab7deb7f9",
   "metadata": {},
   "outputs": [
    {
     "name": "stdout",
     "output_type": "stream",
     "text": [
      "Mean Squared Error: 1615971029.219269\n",
      "Mean Absolute Error: 26848.194104706294\n",
      "R-squared: 0.9253464563046674\n"
     ]
    }
   ],
   "source": [
    "# Fit KNN regression model on the training set\n",
    "knn_final.fit(X_train_scaled[:, rfe.support_], y_train)\n",
    "\n",
    "# Make predictions on the test set using selected features\n",
    "test_pred_knn = knn_final.predict(X_test_scaled[:, rfe.support_])\n",
    "\n",
    "# Calculate mean squared error, mean absolute error, and R-squared\n",
    "test_MSE_knn = mean_squared_error(y_test, test_pred_knn)\n",
    "test_MAE_knn = mean_absolute_error(y_test, test_pred_knn)\n",
    "test_R2_knn = r2_score(y_test, test_pred_knn)\n",
    "\n",
    "# Print results\n",
    "print(\"Mean Squared Error:\", test_MSE_knn)\n",
    "print(\"Mean Absolute Error:\", test_MAE_knn)\n",
    "print(\"R-squared:\", test_R2_knn)"
   ]
  },
  {
   "cell_type": "markdown",
   "id": "c2954a89-42a1-46f5-84bf-c860f78f149f",
   "metadata": {},
   "source": [
    "**Original Model Results:**\n",
    "<br>Mean Squared Error: 2138041478.1834462\n",
    "<br>Mean Absolute Error: 30328.167188684674\n",
    "<br>R-squared: 0.9012281965283031\n",
    "\n",
    "**New Fitted Model Results:** \n",
    "<br>Mean Squared Error: 1615971029.219269\n",
    "<br>Mean Absolute Error: 26848.194104706294\n",
    "<br>R-squared: 0.9253464563046674\n",
    "\n",
    "**Conclusion:**\n",
    "<br>After hyper-parameter tuning, the new fitted KNN model shows improvement across all evaluation metrics compared to the original model. The mean squared error (MSE) has decreased from approximately 2.14 billion to 1.62 billion, indicating that the new model has better predictive performance in terms of minimizing the squared differences between predicted and actual values. \n",
    "\n",
    "Similarly, the mean absolute error (MAE) has also decreased from approximately 30328 to 26848, suggesting that the average absolute difference between predicted and actual values has reduced. \n",
    "\n",
    "Moreover, the R-squared value has increased from approximately 0.901 to 0.925, indicating that the new model explains a higher proportion of the variance in the target variable.\n",
    "\n",
    "In conclusion, the hyper-parameter tuning process has resulted in a KNN model that performs better."
   ]
  },
  {
   "cell_type": "markdown",
   "id": "c77fd717-9d8d-4bd1-ba6e-097390033eea",
   "metadata": {},
   "source": [
    "# 3) Decision Tree"
   ]
  },
  {
   "cell_type": "markdown",
   "id": "0582aba3-bd4d-4ff7-8ecb-a37d17a11cfa",
   "metadata": {},
   "source": [
    "## 3.1) Train a baseline `Decision Tree` model\n",
    "\n",
    "We will begin by training a base model using default settings to evaluate its performance on our datasets. Based on these initial results, we will make adjustments to refine and enhance the model's effectiveness."
   ]
  },
  {
   "cell_type": "code",
   "execution_count": 30,
   "id": "77eb77bb-d488-40b2-9b5a-b9bdc0011cf9",
   "metadata": {},
   "outputs": [
    {
     "name": "stdout",
     "output_type": "stream",
     "text": [
      "Results:\n",
      "----------------------------------------\n",
      "Training score | -142549806.96325165\n",
      "----------------------------------------\n",
      "Validation score | -1440217812.5419922\n",
      "----------------------------------------\n"
     ]
    }
   ],
   "source": [
    "# default: {`criterion='squared_error', splitter='best', max_depth=None, min_samples_split=2, min_samples_leaf=1, min_weight_fraction_leaf=0.0, max_features=None, random_state=None, max_leaf_nodes=None, min_impurity_decrease=0.0, ccp_alpha=0.0`}\n",
    "\n",
    "# Initialize the Decision Tree Regressor\n",
    "dt_regressor = DecisionTreeRegressor(random_state=42)\n",
    "\n",
    "# Fit the model on the training data\n",
    "dt_regressor.fit(X_trainset, y_trainset)\n",
    "\n",
    "# Predict the labels of the test set\n",
    "train_pred = dt_regressor.predict(X_trainset)\n",
    "train_score = mean_squared_error(y_trainset, train_pred)\n",
    "\n",
    "# Print result\n",
    "print(\"Results:\")\n",
    "print(\"----------------------------------------\")\n",
    "print(f\"Training score | -{train_score}\")\n",
    "print(\"----------------------------------------\")\n",
    "\n",
    "# Predict the labels of the validation set\n",
    "val_pred = dt_regressor.predict(X_valset)\n",
    "val_score = mean_squared_error(y_valset, val_pred)\n",
    "\n",
    "# Print result\n",
    "print(f\"Validation score | -{val_score}\")\n",
    "print(\"----------------------------------------\")\n",
    "\n"
   ]
  },
  {
   "cell_type": "code",
   "execution_count": 31,
   "id": "b63a0196-e4ef-4f02-898d-0a4128d6bb40",
   "metadata": {},
   "outputs": [
    {
     "name": "stdout",
     "output_type": "stream",
     "text": [
      "Cross-validation: -1435970982.2081144\n"
     ]
    }
   ],
   "source": [
    "# model with tuned parameters\n",
    "dt_regressor = DecisionTreeRegressor(random_state=42)\n",
    "\n",
    "# evaluate cross validation score\n",
    "cv_scores = cross_val_score(dt_regressor, X_train_scaled, y_train, cv=5, scoring='neg_mean_squared_error')\n",
    "# print(cv_scores)\n",
    "print(f\"Cross-validation: {np.mean(cv_scores)}\")"
   ]
  },
  {
   "cell_type": "markdown",
   "id": "f9be6867-a3a3-4ea1-a13d-898c673b1472",
   "metadata": {},
   "source": [
    "#### Conclusion:\n",
    "\n",
    "- These scores indicate that the model is underperforming significantly, particularly on the validation set and during cross-validation. The large negative values suggest substantial errors between the predicted and actual values.\n",
    "\n",
    "- The model's training score is much better compared to its validation and cross-validation scores, which implies it might be overfitting the training data.\n",
    "\n",
    "- The substantial difference between the training and validation scores suggests a high variance problem, where the model is too complex relative to the amount of data provided or the features used are not providing the right information.\n",
    "\n",
    "- We will be doing the following to improve the model:\n",
    "\n",
    "  1. **Parameter Tuning**:\n",
    "    - Adjust the model's parameters such as `max_depth`, `min_samples_split`, `min_samples_leaf` and more to control overfitting.\n",
    "    - Use grid search to find the optimal settings.\n",
    "\n",
    "  2. **Simplifying the Model**:\n",
    "    - Reduce the complexity of the model by pruning (limiting the maximum depth of the tree) or by selecting fewer but more informative features.\n",
    "\n",
    "  3. **Feature Selection**:\n",
    "    - Reassess the features used for training the model. Remove features that are not affecting the model.\n",
    "\n",
    "  4. **Cross-Validation**:\n",
    "    - Employ more robust cross-validation techniques like K-Fold cross-validation to ensure the model's performance is consistent across different subsets of the dataset."
   ]
  },
  {
   "cell_type": "markdown",
   "id": "a0314db0-2699-4918-ba57-f344a8ed9733",
   "metadata": {},
   "source": [
    "## 3.2) Hyper-parameters Tuning"
   ]
  },
  {
   "cell_type": "markdown",
   "id": "92526a62-e12b-4917-ab1d-c0e03e262327",
   "metadata": {},
   "source": [
    "### Since the validation score is significantly worse than the training score, it indicates a case of overfitting.\n",
    "\n",
    "We will adust the following hyperparameters:\n",
    "\n",
    "`max_depth`: Restricting the depth of the tree can prevent the model from becoming overly complex and memorizing the training data. A shallower tree is less likely to overfit.\n",
    "\n",
    "`min_samples_split`: Increasing this value requires a node to have more samples before it can be split, which can lead to a simpler model.\n",
    "\n",
    "`min_samples_leaf`: Setting a minimum number of samples for a leaf node ensures that the model doesn't create leaves with very few samples, which could be a sign of overfitting to the noise in the training data.\n",
    "\n",
    "`max_features`: Limiting the number of features considered for each split can reduce the complexity of the model and can be particularly useful if some features are not informative.\n",
    "\n",
    "`min_impurity_decrease`: This parameter controls the threshold for splitting nodes. A higher value can reduce model complexity by requiring a larger reduction in impurity to justify a split.\n",
    "\n",
    "`ccp_alpha`: Cost complexity pruning (CCP) parameter can be used to prune the tree and avoid overfitting. A higher value of ccp_alpha will prune more aggressively, potentially leading to a simpler and more general model."
   ]
  },
  {
   "cell_type": "markdown",
   "id": "02682c9f-837e-49b5-b3a4-4b55e4092a20",
   "metadata": {},
   "source": [
    "#### The following functions are defined to compare the performance of the model before and after parameter tuning:"
   ]
  },
  {
   "cell_type": "code",
   "execution_count": 32,
   "id": "e3b1fb0d-9f85-4bf8-90d4-4641aad986ef",
   "metadata": {},
   "outputs": [],
   "source": [
    "# define a function to check 5 cross validation value\n",
    "def k_cross_para(old_max_depth=None, old_min_samples_split=2, old_min_samples_leaf=1, old_max_features=None, old_min_impurity_decrease=0, old_ccp_alpha=0,\n",
    "                 new_max_depth=None, new_min_samples_split=2, new_min_samples_leaf=1, new_max_features=None, new_min_impurity_decrease=0, new_ccp_alpha=0):\n",
    "\n",
    "    # Old model with initial parameters\n",
    "    old_dt_regressor = DecisionTreeRegressor(max_depth=old_max_depth, min_samples_split=old_min_samples_split, min_samples_leaf=old_min_samples_leaf,\n",
    "                                             max_features=old_max_features, min_impurity_decrease=old_min_impurity_decrease, ccp_alpha=old_ccp_alpha, random_state=42)\n",
    "\n",
    "    # Evaluate cross-validation score for the old model\n",
    "    old_cv_scores = cross_val_score(old_dt_regressor,  X_train_scaled, y_train, cv=5, scoring='neg_mean_squared_error')\n",
    "    print(\"5-Fold Cross Validation Comparison:\")\n",
    "    print(\"----------------------------------------\")\n",
    "    print(f\"Old Mean Score: {np.mean(old_cv_scores)}\")\n",
    "\n",
    "    # New model with tuned parameters\n",
    "    new_dt_regressor = DecisionTreeRegressor(max_depth=new_max_depth, min_samples_split=new_min_samples_split, min_samples_leaf=new_min_samples_leaf,\n",
    "                                             max_features=new_max_features, min_impurity_decrease=new_min_impurity_decrease, ccp_alpha=new_ccp_alpha, random_state=42)\n",
    "\n",
    "    # Evaluate cross-validation score for the new model\n",
    "    new_cv_scores = cross_val_score(new_dt_regressor,  X_train_scaled, y_train, cv=5, scoring='neg_mean_squared_error')\n",
    "    print(\"----------------------------------------\")\n",
    "    print(f\"New Mean Score: {np.mean(new_cv_scores)}\")\n",
    "    print(\"----------------------------------------\")\n"
   ]
  },
  {
   "cell_type": "code",
   "execution_count": 33,
   "id": "ce9f55de-f0f5-48d0-83be-e71b2765af60",
   "metadata": {},
   "outputs": [],
   "source": [
    "# define a function to compare the 2 models in terms of old and new training and validation test\n",
    "def test_valid_para(old_max_depth=None, old_min_samples_split=2, old_min_samples_leaf=1, old_max_features=None, old_min_impurity_decrease=0, old_ccp_alpha=0,\n",
    "                    new_max_depth=None, new_min_samples_split=2, new_min_samples_leaf=1, new_max_features=None, new_min_impurity_decrease=0, new_ccp_alpha=0):\n",
    "    # Old model with initial parameters\n",
    "    old_dt_regressor = DecisionTreeRegressor(max_depth=old_max_depth, min_samples_split=old_min_samples_split, min_samples_leaf=old_min_samples_leaf,\n",
    "                                             max_features=old_max_features, min_impurity_decrease=old_min_impurity_decrease, ccp_alpha=old_ccp_alpha, random_state=42)\n",
    "    old_dt_regressor.fit(X_trainset, y_trainset)\n",
    "    old_train_pred = old_dt_regressor.predict(X_trainset)\n",
    "    old_train_score = mean_squared_error(y_trainset, old_train_pred)\n",
    "    old_val_pred = old_dt_regressor.predict(X_valset)\n",
    "    old_val_score = mean_squared_error(y_valset, old_val_pred)\n",
    "\n",
    "    print(\"Old Results:\")\n",
    "    print(\"----------------------------------------\")\n",
    "    print(f\"Training score: -{old_train_score}\")\n",
    "    print(\"----------------------------------------\")\n",
    "    print(f\"Validation score: -{old_val_score}\")\n",
    "    print(\"----------------------------------------\\n\")\n",
    "\n",
    "    # New model with new parameters\n",
    "    new_dt_regressor = DecisionTreeRegressor(max_depth=new_max_depth, min_samples_split=new_min_samples_split, min_samples_leaf=new_min_samples_leaf,\n",
    "                                             max_features=new_max_features, min_impurity_decrease=new_min_impurity_decrease, ccp_alpha=new_ccp_alpha, random_state=42)\n",
    "    new_dt_regressor.fit(X_trainset, y_trainset)\n",
    "    new_train_pred = new_dt_regressor.predict(X_trainset)\n",
    "    new_train_score = mean_squared_error(y_trainset, new_train_pred)\n",
    "    new_val_pred = new_dt_regressor.predict(X_valset)\n",
    "    new_val_score = mean_squared_error(y_valset, new_val_pred)\n",
    "\n",
    "    print(\"New Results:\")\n",
    "    print(\"----------------------------------------\")\n",
    "    print(f\"Training score: -{new_train_score}\")\n",
    "    print(\"----------------------------------------\")\n",
    "    print(f\"Validation score: -{new_val_score}\")\n",
    "    print(\"----------------------------------------\")"
   ]
  },
  {
   "cell_type": "markdown",
   "id": "a18752f0-9a05-4a1e-a93d-8404d74a7dc1",
   "metadata": {},
   "source": [
    "### 3.2.1) Hyper-parameter 1: Change in `max_depth`"
   ]
  },
  {
   "cell_type": "markdown",
   "id": "c80e05f8-3113-47d2-9bc7-ffd61a369b1c",
   "metadata": {},
   "source": [
    "#### GridSearchCV"
   ]
  },
  {
   "cell_type": "code",
   "execution_count": 34,
   "id": "8aa73b5d-857f-4d48-9b2f-8f904850c0df",
   "metadata": {},
   "outputs": [
    {
     "name": "stdout",
     "output_type": "stream",
     "text": [
      "Best parameters: {'max_depth': 20}\n",
      "Best cross-validation score: 1350945702.305\n"
     ]
    }
   ],
   "source": [
    "# Setting the range of max_depth values to test\n",
    "param_grid = {'max_depth': range(1, 41)}\n",
    "\n",
    "# Creating the regressor\n",
    "tree = DecisionTreeRegressor(random_state=42)\n",
    "\n",
    "# Setting up the grid search with cross-validation\n",
    "grid_search = GridSearchCV(tree, param_grid, cv=5, scoring='neg_mean_squared_error', return_train_score=True)\n",
    "\n",
    "# Fit into the data\n",
    "grid_search.fit(X_train_scaled, y_train)\n",
    "\n",
    "# Print the best model/parameters\n",
    "print(\"Best parameters:\", grid_search.best_params_)\n",
    "print(\"Best cross-validation score: {:.3f}\".format(-grid_search.best_score_))"
   ]
  },
  {
   "cell_type": "code",
   "execution_count": 35,
   "id": "b69ff8cc-eefb-4b03-ac9e-9a36f6a48069",
   "metadata": {},
   "outputs": [
    {
     "data": {
      "image/png": "[encoded data removed]",
      "text/plain": [
       "<Figure size 1200x600 with 1 Axes>"
      ]
     },
     "metadata": {},
     "output_type": "display_data"
    }
   ],
   "source": [
    "# Plot the result\n",
    "results = grid_search.cv_results_\n",
    "max_depths = range(1, 41)\n",
    "scores = np.sqrt(-results[\"mean_test_score\"])\n",
    "\n",
    "plt.figure(figsize=(12, 6))\n",
    "plt.plot(max_depths, scores)\n",
    "plt.title('Effect of Max Depth on Model Performance')\n",
    "plt.xlabel('Max Depth')\n",
    "plt.ylabel('RMSE (lower is better)')\n",
    "plt.xticks(max_depths)\n",
    "plt.grid(True)\n",
    "plt.show()"
   ]
  },
  {
   "cell_type": "markdown",
   "id": "b00acfb0-09c9-4d32-9011-ffdeb4769214",
   "metadata": {},
   "source": [
    "##### Result of GridSearchCV:\n",
    "Based on GridSearchCV, we choose `max_depth=20` as it gives the lowest MSE as well as lowest RSME as shown in the graph, before the model becomes overfitting.\n"
   ]
  },
  {
   "cell_type": "markdown",
   "id": "b82812d5-4dfe-4eb0-957d-35cfdeade97a",
   "metadata": {},
   "source": [
    "#### Compare Old and New model:"
   ]
  },
  {
   "cell_type": "code",
   "execution_count": 36,
   "id": "e03e617e-321e-435c-b804-7e0d88b0c14d",
   "metadata": {},
   "outputs": [
    {
     "name": "stdout",
     "output_type": "stream",
     "text": [
      "5-Fold Cross Validation Comparison:\n",
      "----------------------------------------\n",
      "Old Mean Score: -1435970982.2081144\n",
      "----------------------------------------\n",
      "New Mean Score: -1350945702.3054423\n",
      "----------------------------------------\n",
      "\n",
      "Old Results:\n",
      "----------------------------------------\n",
      "Training score: -142549806.96325165\n",
      "----------------------------------------\n",
      "Validation score: -1440217812.5419922\n",
      "----------------------------------------\n",
      "\n",
      "New Results:\n",
      "----------------------------------------\n",
      "Training score: -443274176.8591107\n",
      "----------------------------------------\n",
      "Validation score: -1321494856.5016446\n",
      "----------------------------------------\n"
     ]
    }
   ],
   "source": [
    "# Compare the 2 models before and after the change\n",
    "k_cross_para(old_max_depth=None, old_min_samples_split=2, old_min_samples_leaf=1, old_max_features=None, old_min_impurity_decrease=0, old_ccp_alpha=0,\n",
    "             new_max_depth=20, new_min_samples_split=2, new_min_samples_leaf=1, new_max_features=None, new_min_impurity_decrease=0, new_ccp_alpha=0)\n",
    "print(\"\")\n",
    "\n",
    "test_valid_para(old_max_depth=None, old_min_samples_split=2, old_min_samples_leaf=1, old_max_features=None, old_min_impurity_decrease=0, old_ccp_alpha=0,\n",
    "             new_max_depth=20, new_min_samples_split=2, new_min_samples_leaf=1, new_max_features=None, new_min_impurity_decrease=0, new_ccp_alpha=0)"
   ]
  },
  {
   "cell_type": "markdown",
   "id": "63b62aa8-5aea-45ba-b28c-07d59e455edb",
   "metadata": {},
   "source": [
    "##### Result of Comparison between old and new model:\n",
    "- 5-Fold Cross-Validation Scores:\n",
    "  - **Old Mean Score**: The average cross-validation score before tuning was approximately -1,435,790,982.\n",
    "  - **New Mean Score**: After tuning, the average cross-validation score improved to approximately -1,350,945,702. The less negative score suggests a reduction in error and an improvement in the model's predictive accuracy.\n",
    "\n",
    "- Training vs. Validation Scores:\n",
    "  - **Old Results**:\n",
    "    - **Training Score**: The model had a training score of approximately -142,549,806. A lower magnitude in the training score compared to the validation score typically indicates a better fit on the training data.\n",
    "    - **Validation Score**: The validation score was approximately -1,440,217,812, which is higher in magnitude than the training score, indicating the model may have been overfitting to the training data and not generalizing as well to other data.\n",
    "    - **Gap**: The gap between the old training score and the old validation score was  ~ -1,297,668,006. This large gap indicated a substantial difference between training performance and validation performance, suggesting the model was overfitting.\n",
    "\n",
    "  - **New Results**:\n",
    "    - **Training Score**: After tuning, the training score became approximately -443,274,177, which is higher in magnitude than the old training score, suggesting that the model may fit a bit less to the training data.\n",
    "    - **Validation Score**: The new validation score improved to approximately -1,321,494,856. This improvement in the validation score suggests better generalization of the model to validation data compared to the old results.\n",
    "    - **Gap**: The gap between the training score and the validation score was ~ -878,220,679. This gap is smaller than the old results gap, indicating that the model is generalizing better after tuning.\n",
    "\n",
    "- The decrease in the gap from approximately -14,719,006 to approximately -878,220,679 demonstrates an improvement in the model's ability to generalize from the training data to the validation data.\n",
    "- This suggests that the tuning process has made the model more robust by possibly reducing its complexity or better optimizing the hyperparameters, such as max_depth, to enhance performance on other data."
   ]
  },
  {
   "cell_type": "markdown",
   "id": "a1daf151-2cff-4c0c-b28e-2da8593ca9a9",
   "metadata": {},
   "source": [
    "#### Conclusion\n",
    "\n",
    "- The tuning of `max_depth` has led to a model that generalizes better to unseen data, as evidenced by the improvement in the cross-validation score.\n",
    "\n",
    "- While the training error increased, indicating that the model may fit less tightly to the training data, this is generally a positive sign in terms of the model's ability to generalize.\n",
    "\n",
    "- It suggests that the model has likely become less complex, reducing the risk of overfitting.\n",
    "\n",
    "- Hence, we choose `max_depth = 20`."
   ]
  },
  {
   "cell_type": "markdown",
   "id": "d7380257-8676-46a1-9882-1f4ab60119c3",
   "metadata": {},
   "source": [
    "### 3.2.2) Hyper-parameter 2: Change in `min_samples_split`"
   ]
  },
  {
   "cell_type": "markdown",
   "id": "3fde2999-ae7b-4e49-a1b4-ce6f246256a5",
   "metadata": {},
   "source": [
    "#### Check using GridSearchCV"
   ]
  },
  {
   "cell_type": "code",
   "execution_count": 38,
   "id": "657d4021-589d-4706-a4d4-f36ac4e9618c",
   "metadata": {},
   "outputs": [
    {
     "name": "stdout",
     "output_type": "stream",
     "text": [
      "Best parameters: {'min_samples_split': 23}\n",
      "Best cross-validation score: 1237197820.817\n"
     ]
    }
   ],
   "source": [
    "# Setting the range of max_depth values to test\n",
    "param_grid = {'min_samples_split': range(2, 41)}\n",
    "\n",
    "# Creating the regressor\n",
    "tree = DecisionTreeRegressor(max_depth=20,random_state=42)\n",
    "\n",
    "# Setting up the grid search with cross-validation\n",
    "grid_search = GridSearchCV(tree, param_grid, cv=5, scoring='neg_mean_squared_error', return_train_score=True)\n",
    "\n",
    "# Fit into the data\n",
    "grid_search.fit(X_train_scaled, y_train)\n",
    "\n",
    "# Print the best model/parameters\n",
    "print(\"Best parameters:\", grid_search.best_params_)\n",
    "print(\"Best cross-validation score: {:.3f}\".format(-grid_search.best_score_))"
   ]
  },
  {
   "cell_type": "code",
   "execution_count": 39,
   "id": "29b796e1-658c-425a-a4fa-600cf291e83e",
   "metadata": {},
   "outputs": [
    {
     "data": {
      "image/png": "[encoded data removed]",
      "text/plain": [
       "<Figure size 1200x600 with 1 Axes>"
      ]
     },
     "metadata": {},
     "output_type": "display_data"
    }
   ],
   "source": [
    "# Plot the result\n",
    "results = grid_search.cv_results_\n",
    "min_samples_split = range(2, 41)\n",
    "scores = np.sqrt(-results[\"mean_test_score\"])\n",
    "\n",
    "plt.figure(figsize=(12, 6))\n",
    "plt.plot(min_samples_split, scores)\n",
    "plt.title('Effect of Min Samples Split on Model Performance')\n",
    "plt.xlabel('Max Depth')\n",
    "plt.ylabel('RMSE (lower is better)')\n",
    "plt.xticks(min_samples_split)\n",
    "plt.grid(True)\n",
    "plt.show()"
   ]
  },
  {
   "cell_type": "markdown",
   "id": "70dbc983-9869-458f-ab60-4a29717392a7",
   "metadata": {},
   "source": [
    "##### Result of GridSearchCV:\n",
    "Based on GridSearchCV, we choose `min_samples_split=23` as it gives the lowest MSE as well as lowest RSME as shown in the graph, before the model becomes overfitting.\n"
   ]
  },
  {
   "cell_type": "markdown",
   "id": "bb20c826-0f44-4818-a520-8d380ef1c4c8",
   "metadata": {},
   "source": [
    "#### Compare Old and New model:"
   ]
  },
  {
   "cell_type": "code",
   "execution_count": 40,
   "id": "5c4ed0e2-e6c9-42de-955d-d47c6ff6d90e",
   "metadata": {},
   "outputs": [
    {
     "name": "stdout",
     "output_type": "stream",
     "text": [
      "5-Fold Cross Validation Comparison:\n",
      "----------------------------------------\n",
      "Old Mean Score: -1350945702.3054423\n",
      "----------------------------------------\n",
      "New Mean Score: -1237197820.8169975\n",
      "----------------------------------------\n",
      "\n",
      "Old Results:\n",
      "----------------------------------------\n",
      "Training score: -443274176.8591107\n",
      "----------------------------------------\n",
      "Validation score: -1321494856.5016446\n",
      "----------------------------------------\n",
      "\n",
      "New Results:\n",
      "----------------------------------------\n",
      "Training score: -729197361.7558033\n",
      "----------------------------------------\n",
      "Validation score: -1208035210.5246816\n",
      "----------------------------------------\n"
     ]
    }
   ],
   "source": [
    "# Compare the 2 models before and after the change\n",
    "k_cross_para(old_max_depth=20, old_min_samples_split=2, old_min_samples_leaf=1, old_max_features=None, old_min_impurity_decrease=0, old_ccp_alpha=0,\n",
    "             new_max_depth=20, new_min_samples_split=23, new_min_samples_leaf=1, new_max_features=None, new_min_impurity_decrease=0, new_ccp_alpha=0)\n",
    "print(\"\")\n",
    "\n",
    "test_valid_para(old_max_depth=20, old_min_samples_split=2, old_min_samples_leaf=1, old_max_features=None, old_min_impurity_decrease=0, old_ccp_alpha=0,\n",
    "             new_max_depth=20, new_min_samples_split=23, new_min_samples_leaf=1, new_max_features=None, new_min_impurity_decrease=0, new_ccp_alpha=0)"
   ]
  },
  {
   "cell_type": "markdown",
   "id": "0eba5151-62fe-4d68-b437-31c5ff5d8d92",
   "metadata": {},
   "source": [
    "##### Result of Comparison between Old and New Model:\n",
    "\n",
    "- 5-Fold Cross-Validation Scores:\n",
    "  - **Old Mean Score**: The average cross-validation score before tuning was approximately -1,350,945,702.\n",
    "  - **New Mean Score**: After further tuning, the average cross-validation score improved to approximately -1,237,197,820. The less negative score suggests a reduction in error and an improvement in the model's predictive accuracy.\n",
    "\n",
    "- Training vs. Validation Scores:\n",
    "  - **Old Results**:\n",
    "    - **Training Score**: The model had a training score of approximately -443,274,176.\n",
    "    - **Validation Score**: The validation score was approximately -1,321,494,856, indicating a possible overfit to the training data as it performed worse on the validation set.\n",
    "    - **Gap**: The gap between the old training score and the old validation score was about -878,220,680, suggesting overfitting.\n",
    "\n",
    "  - **New Results**:\n",
    "    - **Training Score**: After additional tuning, the training score worsened to approximately -729,197,361, indicating that the model does not fit the training data as tightly as before.\n",
    "    - **Validation Score**: The new validation score improved to approximately -1,208,035,210, showing better performance on the validation set than previously.\n",
    "    - **Gap**: The gap between the new training score and the new validation score is now about -478,837,849, which is significantly smaller than the old gap, indicating improved generalization."
   ]
  },
  {
   "cell_type": "markdown",
   "id": "9c84c9ec-1d0c-4904-97d8-ece5909238af",
   "metadata": {},
   "source": [
    "#### Conclusion:\n",
    "- The further tuning of the model has resulted in a decrease in the overfitting, as shown by the reduced gap between the training and validation scores.\n",
    "- While the model's training error has increased, the reduction in the validation error and the smaller gap between training and validation scores are signs of a model that is generalizing better to unseen data.\n",
    "- Given the overall enhancement in generalization as seen in the cross-validation scores, this direction of model tuning is beneficial.\n",
    "- Therfore, we choose `min_samples_split=23`."
   ]
  },
  {
   "cell_type": "markdown",
   "id": "c455261e-a266-4d35-9ee4-cebaede47e4d",
   "metadata": {},
   "source": [
    "### 3.2.3) Hyper-parameter 3: Change in `min_samples_leaf`\n",
    "\n",
    "\n"
   ]
  },
  {
   "cell_type": "markdown",
   "id": "d9b968b7-f080-4ccd-92e5-dc52cda3c287",
   "metadata": {},
   "source": [
    "#### GridSearchCV"
   ]
  },
  {
   "cell_type": "code",
   "execution_count": 41,
   "id": "238386d5-22bb-4647-82f6-afd8449ee9f1",
   "metadata": {},
   "outputs": [
    {
     "name": "stdout",
     "output_type": "stream",
     "text": [
      "Best parameters: {'min_samples_leaf': 3}\n",
      "Best cross-validation score: 1232095789.802\n"
     ]
    }
   ],
   "source": [
    "# Setting the range of max_depth values to test\n",
    "param_grid = {'min_samples_leaf': range(1, 41)}\n",
    "\n",
    "# Creating the regressor\n",
    "tree = DecisionTreeRegressor(max_depth=20,min_samples_split=23,random_state=42)\n",
    "\n",
    "# Setting up the grid search with cross-validation\n",
    "grid_search = GridSearchCV(tree, param_grid, cv=5, scoring='neg_mean_squared_error', return_train_score=True)\n",
    "\n",
    "# Fit into the data\n",
    "grid_search.fit(X_train_scaled, y_train)\n",
    "\n",
    "# Print the best model/parameters\n",
    "print(\"Best parameters:\", grid_search.best_params_)\n",
    "print(\"Best cross-validation score: {:.3f}\".format(-grid_search.best_score_))"
   ]
  },
  {
   "cell_type": "code",
   "execution_count": 42,
   "id": "66548f4a-27a8-411e-bb55-5157b26f0426",
   "metadata": {},
   "outputs": [
    {
     "data": {
      "image/png": "[encoded data removed]",
      "text/plain": [
       "<Figure size 1200x600 with 1 Axes>"
      ]
     },
     "metadata": {},
     "output_type": "display_data"
    }
   ],
   "source": [
    "# Plot the result\n",
    "results = grid_search.cv_results_\n",
    "min_samples_leaf = range(1, 41)\n",
    "scores = np.sqrt(-results[\"mean_test_score\"])\n",
    "\n",
    "plt.figure(figsize=(12, 6))\n",
    "plt.plot(min_samples_leaf, scores)\n",
    "plt.title('Effect of Min Samples leaf on Model Performance')\n",
    "plt.xlabel('Max Depth')\n",
    "plt.ylabel('RMSE (lower is better)')\n",
    "plt.xticks(min_samples_leaf)\n",
    "plt.grid(True)\n",
    "plt.show()"
   ]
  },
  {
   "cell_type": "markdown",
   "id": "673202f3-fb52-4bc9-956a-3810e009b02a",
   "metadata": {},
   "source": [
    "##### Result of GridSearchCV:\n",
    "Based on GridSearchCV, we choose `min_samples_leaf=3` as it gives the lowest MSE as well as lowest RSME as shown in the graph, before the model becomes overfitting.\n"
   ]
  },
  {
   "cell_type": "markdown",
   "id": "babab7c7-1139-4f82-98e5-947f94fdc76f",
   "metadata": {},
   "source": [
    "#### Compare Old and New model:"
   ]
  },
  {
   "cell_type": "code",
   "execution_count": 43,
   "id": "d3e95e63-ea40-42bf-896c-4a4d7e1b09d5",
   "metadata": {},
   "outputs": [
    {
     "name": "stdout",
     "output_type": "stream",
     "text": [
      "5-Fold Cross Validation Comparison:\n",
      "----------------------------------------\n",
      "Old Mean Score: -1237197820.8169975\n",
      "----------------------------------------\n",
      "New Mean Score: -1232095789.8021088\n",
      "----------------------------------------\n",
      "\n",
      "Old Results:\n",
      "----------------------------------------\n",
      "Training score: -729197361.7558033\n",
      "----------------------------------------\n",
      "Validation score: -1208035210.5246816\n",
      "----------------------------------------\n",
      "\n",
      "New Results:\n",
      "----------------------------------------\n",
      "Training score: -761276297.7854286\n",
      "----------------------------------------\n",
      "Validation score: -1203739827.2252157\n",
      "----------------------------------------\n"
     ]
    }
   ],
   "source": [
    "# Compare the 2 models before and after the change\n",
    "k_cross_para(old_max_depth=20, old_min_samples_split=23, old_min_samples_leaf=1, old_max_features=None, old_min_impurity_decrease=0, old_ccp_alpha=0,\n",
    "             new_max_depth=20, new_min_samples_split=23, new_min_samples_leaf=3, new_max_features=None, new_min_impurity_decrease=0, new_ccp_alpha=0)\n",
    "print(\"\")\n",
    "\n",
    "test_valid_para(old_max_depth=20, old_min_samples_split=23, old_min_samples_leaf=1, old_max_features=None, old_min_impurity_decrease=0, old_ccp_alpha=0,\n",
    "             new_max_depth=20, new_min_samples_split=23, new_min_samples_leaf=3, new_max_features=None, new_min_impurity_decrease=0, new_ccp_alpha=0)"
   ]
  },
  {
   "cell_type": "markdown",
   "id": "7d67a7da-8781-4417-be0e-65d0ec9f548d",
   "metadata": {},
   "source": [
    "##### Result of Comparison between Old and New Model:\n",
    "\n",
    "- 5-Fold Cross-Validation Scores:\n",
    "\n",
    "  - **Old Mean Score**: The average cross-validation score before the latest tuning was approximately -1,237,197,820.\n",
    "  - **New Mean Score**: After the latest tuning, the average cross-validation score marginally improved to approximately -1,232,095,789. The less negative score suggests a small reduction in error and a slight improvement in the model's predictive accuracy.\n",
    "\n",
    "- Training vs. Validation Scores:\n",
    "  - **Old Results**:\n",
    "    - **Training Score**: The model had a training score of approximately -729,197,361.\n",
    "    - **Validation Score**: The validation score was approximately -1,208,035,210, which was the performance on the validation set before the latest tuning.\n",
    "    - **Gap**: The gap between the old training and validation scores was about -478,837,849, indicating the degree of overfitting before the latest tuning.\n",
    "  - **New Results**:\n",
    "    - **Training Score**: After the latest tuning, the training score worsened to approximately -761,276,298, suggesting a decrease in the model's fit to the training data.\n",
    "    - **Validation Score**: The new validation score improved to approximately -1,203,739,827, showing better performance on the validation set than before the latest tuning.\n",
    "    - **Gap**: The gap between the new training score and the new validation score has reduced to approximately -442,463,529, which is smaller than the old gap, indicating improved generalization."
   ]
  },
  {
   "cell_type": "markdown",
   "id": "8a3dc1ec-8017-4f20-a921-e0d028b8ac05",
   "metadata": {},
   "source": [
    "#### Conclusion:\n",
    "\n",
    "- The most recent tuning of the model has further reduced overfitting, as shown by the decreased gap between the training and validation scores.\n",
    "- An increase in the training error, coupled with a reduction in the validation error, indicates that the model is potentially less overfitted and may generalize better to unseen data.\n",
    "- The slight improvement in the cross-validation mean score and the smaller gap between the training and validation scores support the benefit of this direction of model tuning.\n",
    "- Therefore, based on the enhanced generalization observed in the cross-validation scores, we choose the hyperparameter setting that resulted in this model configuration, which appears to be `min_samples_split=23`."
   ]
  },
  {
   "cell_type": "markdown",
   "id": "f8be63df-5642-4f16-8cf4-33646a9c71e3",
   "metadata": {},
   "source": [
    "### 3.2.4) Hyper-parameter 4: Change in `max_features`"
   ]
  },
  {
   "cell_type": "markdown",
   "id": "975f6d91-2883-40c9-9163-aa58cce8ac47",
   "metadata": {},
   "source": [
    "#### GridSearchCV"
   ]
  },
  {
   "cell_type": "code",
   "execution_count": 44,
   "id": "590e4c9a-307a-4390-ab2f-b80d38d5436f",
   "metadata": {},
   "outputs": [
    {
     "name": "stdout",
     "output_type": "stream",
     "text": [
      "Best parameters: {'max_features': 25}\n",
      "Best cross-validation score: 1223470150.897\n"
     ]
    }
   ],
   "source": [
    "# Setting the range of max_depth values to test\n",
    "param_grid = {'max_features': range(1, 41)}\n",
    "\n",
    "# Creating the regressor\n",
    "tree = DecisionTreeRegressor(max_depth=20,min_samples_split=23,min_samples_leaf=3,random_state=42)\n",
    "\n",
    "# Setting up the grid search with cross-validation\n",
    "grid_search = GridSearchCV(tree, param_grid, cv=5, scoring='neg_mean_squared_error', return_train_score=True)\n",
    "\n",
    "# Fit into the data\n",
    "grid_search.fit(X_train_scaled, y_train)\n",
    "\n",
    "# Print the best model/parameters\n",
    "print(\"Best parameters:\", grid_search.best_params_)\n",
    "print(\"Best cross-validation score: {:.3f}\".format(-grid_search.best_score_))"
   ]
  },
  {
   "cell_type": "code",
   "execution_count": 45,
   "id": "b05f6c15-e9b6-4bc3-b2e8-1202bfc60023",
   "metadata": {},
   "outputs": [
    {
     "data": {
      "image/png": "[encoded data removed]",
      "text/plain": [
       "<Figure size 1200x600 with 1 Axes>"
      ]
     },
     "metadata": {},
     "output_type": "display_data"
    }
   ],
   "source": [
    "# Plot the result\n",
    "results = grid_search.cv_results_\n",
    "min_samples_split = range(1, 41)\n",
    "scores = np.sqrt(-results[\"mean_test_score\"])\n",
    "\n",
    "plt.figure(figsize=(12, 6))\n",
    "plt.plot(min_samples_split, scores)\n",
    "plt.title('Effect of Max Features on Model Performance')\n",
    "plt.xlabel('Max Features')\n",
    "plt.ylabel('RMSE (lower is better)')\n",
    "plt.xticks(min_samples_split)\n",
    "plt.grid(True)\n",
    "plt.show()"
   ]
  },
  {
   "cell_type": "markdown",
   "id": "f0b86c35-6bae-4be4-8fa9-b4e97c2466b9",
   "metadata": {},
   "source": [
    "##### Result of GridSearchCV:\n",
    "Based on GridSearchCV, we choose `max_features=25` as it gives the lowest MSE as well as lowest RSME as shown in the graph, before the model becomes overfitting.\n"
   ]
  },
  {
   "cell_type": "markdown",
   "id": "1e7168dd-b1dd-41fa-b528-e1f2d39c5eb7",
   "metadata": {},
   "source": [
    "#### Compare Old and New model:"
   ]
  },
  {
   "cell_type": "code",
   "execution_count": 46,
   "id": "eb43ce69-ea2f-4d12-9df4-5fe5f9a821d9",
   "metadata": {},
   "outputs": [
    {
     "name": "stdout",
     "output_type": "stream",
     "text": [
      "5-Fold Cross Validation Comparison:\n",
      "----------------------------------------\n",
      "Old Mean Score: -1232095789.8021088\n",
      "----------------------------------------\n",
      "New Mean Score: -1223470150.8974385\n",
      "----------------------------------------\n",
      "\n",
      "Old Results:\n",
      "----------------------------------------\n",
      "Training score: -761276297.7854286\n",
      "----------------------------------------\n",
      "Validation score: -1203739827.2252157\n",
      "----------------------------------------\n",
      "\n",
      "New Results:\n",
      "----------------------------------------\n",
      "Training score: -807420923.9916991\n",
      "----------------------------------------\n",
      "Validation score: -1233833858.974415\n",
      "----------------------------------------\n"
     ]
    }
   ],
   "source": [
    "# Compare the 2 models before and after the change\n",
    "k_cross_para(old_max_depth=20, old_min_samples_split=23, old_min_samples_leaf=3, old_max_features=None, old_min_impurity_decrease=0, old_ccp_alpha=0,\n",
    "             new_max_depth=20, new_min_samples_split=23, new_min_samples_leaf=3, new_max_features=25, new_min_impurity_decrease=0, new_ccp_alpha=0)\n",
    "print(\"\")\n",
    "\n",
    "test_valid_para(old_max_depth=20, old_min_samples_split=23, old_min_samples_leaf=3, old_max_features=None, old_min_impurity_decrease=0, old_ccp_alpha=0,\n",
    "             new_max_depth=20, new_min_samples_split=23, new_min_samples_leaf=3, new_max_features=25, new_min_impurity_decrease=0, new_ccp_alpha=0)"
   ]
  },
  {
   "cell_type": "markdown",
   "id": "c3f4f280-8b13-4d50-b9ed-c312feaa1693",
   "metadata": {},
   "source": [
    "##### Result of Comparison between Old and New Model:\n",
    "\n",
    "- 5-Fold Cross-Validation Scores:\n",
    "  - **Old Mean Score**: The average cross-validation score before the latest tuning was approximately -1,232,095,789.\n",
    "  - **New Mean Score**: After the latest tuning, the average cross-validation score showed a modest improvement to approximately -1,223,470,150. The less negative score suggests a small reduction in error and a slight improvement in the model's predictive accuracy.\n",
    "\n",
    "- Training vs. Validation Scores:\n",
    "  - **Old Results**:\n",
    "    - **Training Score**: The model had a training score of approximately -761,276,298 before the latest tuning.\n",
    "    - **Validation Score**: The validation score was approximately -1,203,739,827 before the latest tuning.\n",
    "    - **Gap**: The gap between the training and validation scores was approximately -442,463,529, indicating the degree of overfitting before the latest tuning.\n",
    "\n",
    "  - **New Results**:\n",
    "    - **Training Score**: After the latest tuning, the training score became approximately -807,420,924, showing a decrease in training error.\n",
    "    - **Validation Score**: The new validation score was approximately -1,233,383,859, which is slightly worse than the previous validation score.\n",
    "    - **Gap**: The gap between the new training score and the new validation score has increased to approximately -425,962,935, which is smaller than the old gap, suggesting a slight improvement in generalization despite the worse validation score.\n"
   ]
  },
  {
   "cell_type": "markdown",
   "id": "49a745e3-bec9-499f-abc6-11800981c01a",
   "metadata": {},
   "source": [
    "#### Conclusion:\n",
    "\n",
    "- The latest tuning of the model has resulted in a slight increase in the overfitting, as indicated by the increased gap between the training and validation scores.\n",
    "- The training error has slightly increased, and the validation error has slightly worsened, which may suggest that the latest model tuning has not been as beneficial as hoped.\n",
    "- However, since the increase in gap is minimal and the validation score is still below the cross-validation score, we prefer the better cross-validation score.\n",
    "- Hence, we choose `max_features=25`."
   ]
  },
  {
   "cell_type": "markdown",
   "id": "a0f2a026-c49a-4d06-8895-2077db5b61a6",
   "metadata": {},
   "source": [
    "### 3.2.5) Hyper-parameter 5: Change in `min_impurity_decrease`"
   ]
  },
  {
   "cell_type": "markdown",
   "id": "a68548c3-ac63-4933-a6b7-c556b79a9b87",
   "metadata": {},
   "source": [
    "#### GridSearchCV"
   ]
  },
  {
   "cell_type": "code",
   "execution_count": 47,
   "id": "50e559e3-46a8-4c54-931e-83ba305c79a6",
   "metadata": {},
   "outputs": [
    {
     "name": "stdout",
     "output_type": "stream",
     "text": [
      "Best parameters: {'min_impurity_decrease': 0}\n",
      "Best cross-validation score: 1223470150.897\n"
     ]
    }
   ],
   "source": [
    "# Setting the range of max_depth values to test\n",
    "param_grid = {'min_impurity_decrease': range(0, 41)}\n",
    "\n",
    "# Creating the regressor\n",
    "tree = DecisionTreeRegressor(max_depth=20,min_samples_split=23,min_samples_leaf=3,max_features=25,random_state=42)\n",
    "\n",
    "# Setting up the grid search with cross-validation\n",
    "grid_search = GridSearchCV(tree, param_grid, cv=5, scoring='neg_mean_squared_error', return_train_score=True)\n",
    "\n",
    "# Fit into the data\n",
    "grid_search.fit(X_train_scaled, y_train)\n",
    "\n",
    "# Print the best model/parameters\n",
    "print(\"Best parameters:\", grid_search.best_params_)\n",
    "print(\"Best cross-validation score: {:.3f}\".format(-grid_search.best_score_))"
   ]
  },
  {
   "cell_type": "code",
   "execution_count": 48,
   "id": "20bc80b7-238b-43f4-a6a1-b510d9559a99",
   "metadata": {},
   "outputs": [
    {
     "data": {
      "image/png": "[encoded data removed]",
      "text/plain": [
       "<Figure size 1200x600 with 1 Axes>"
      ]
     },
     "metadata": {},
     "output_type": "display_data"
    }
   ],
   "source": [
    "# Plot the result\n",
    "results = grid_search.cv_results_\n",
    "min_impurity_decrease = range(0, 41)\n",
    "scores = np.sqrt(-results[\"mean_test_score\"])\n",
    "\n",
    "plt.figure(figsize=(12, 6))\n",
    "plt.plot(min_impurity_decrease, scores)\n",
    "plt.title('Effect of Min Impurity Decrease on Model Performance')\n",
    "plt.xlabel('Min Impurity Decrease')\n",
    "plt.ylabel('RMSE (lower is better)')\n",
    "plt.xticks(min_samples_split)\n",
    "plt.grid(True)\n",
    "plt.show()"
   ]
  },
  {
   "cell_type": "markdown",
   "id": "c2678ec8-ab1d-4f8f-8b6a-f0ee93fb55b4",
   "metadata": {},
   "source": [
    "##### Result of GridSearchCV:\n",
    "Based on GridSearchCV, we choose `min_impurity_decrease=0`."
   ]
  },
  {
   "cell_type": "markdown",
   "id": "efdcdd20-dff3-4d18-8551-e71e064c5417",
   "metadata": {},
   "source": [
    "#### Conclusion:\n",
    "\n",
    "- Since the result is constant for any value of `min_impurity_decrease`, we will take the default value of `min_impurity_decrease`.\n"
   ]
  },
  {
   "cell_type": "markdown",
   "id": "f07c4e02-4a5b-437b-9cef-7c5bb831f787",
   "metadata": {},
   "source": [
    "### 3.2.6) Hyper-parameter 6: Change in `ccp_alpha`"
   ]
  },
  {
   "cell_type": "markdown",
   "id": "5e59762f-517b-4ae3-809d-2581b1810002",
   "metadata": {},
   "source": [
    "#### Check using GridSearchCV"
   ]
  },
  {
   "cell_type": "code",
   "execution_count": 49,
   "id": "892bb463-a14b-4c77-b4be-613a1d93f55a",
   "metadata": {},
   "outputs": [
    {
     "name": "stdout",
     "output_type": "stream",
     "text": [
      "Best parameters: {'ccp_alpha': 0}\n",
      "Best cross-validation score: 1223470150.897\n"
     ]
    }
   ],
   "source": [
    "# Setting the range of max_depth values to test\n",
    "param_grid = {'ccp_alpha': range(0, 41)}\n",
    "\n",
    "# Creating the regressor\n",
    "tree = DecisionTreeRegressor(max_depth=20,min_samples_split=23,min_samples_leaf=3,max_features=25,min_impurity_decrease=0,random_state=42)\n",
    "\n",
    "# Setting up the grid search with cross-validation\n",
    "grid_search = GridSearchCV(tree, param_grid, cv=5, scoring='neg_mean_squared_error', return_train_score=True)\n",
    "\n",
    "# Fit into the data\n",
    "grid_search.fit(X_train_scaled, y_train)\n",
    "\n",
    "# Print the best model/parameters\n",
    "print(\"Best parameters:\", grid_search.best_params_)\n",
    "print(\"Best cross-validation score: {:.3f}\".format(-grid_search.best_score_))"
   ]
  },
  {
   "cell_type": "code",
   "execution_count": 50,
   "id": "59788399-cb9d-46f6-ab18-25ed611a27df",
   "metadata": {},
   "outputs": [
    {
     "data": {
      "image/png": "[encoded data removed]",
      "text/plain": [
       "<Figure size 1200x600 with 1 Axes>"
      ]
     },
     "metadata": {},
     "output_type": "display_data"
    }
   ],
   "source": [
    "# Plot the result\n",
    "results = grid_search.cv_results_\n",
    "ccp_alpha = range(0, 41)\n",
    "scores = np.sqrt(-results[\"mean_test_score\"])\n",
    "\n",
    "plt.figure(figsize=(12, 6))\n",
    "plt.plot(ccp_alpha, scores)\n",
    "plt.title('Effect of ccp_alpha on Model Performance')\n",
    "plt.xlabel('ccp_alpha')\n",
    "plt.ylabel('RMSE (lower is better)')\n",
    "plt.xticks(min_samples_split)\n",
    "plt.grid(True)\n",
    "plt.show()"
   ]
  },
  {
   "cell_type": "markdown",
   "id": "05c82a6a-4aa8-413a-9fb2-1260492d7463",
   "metadata": {},
   "source": [
    "##### Result of GridSearchCV:\n",
    "\n",
    "Based on GridSearchCV, we choose `ccp_alpha=0`."
   ]
  },
  {
   "cell_type": "markdown",
   "id": "b770016d-20d1-497d-b77a-74676da8f1bb",
   "metadata": {},
   "source": [
    "#### Conclusion:\n",
    "\n",
    "Since the result is constant for any value of `ccp_alpha`, we will take the default value of `ccp_alpha`."
   ]
  },
  {
   "cell_type": "markdown",
   "id": "d4f0b6a0-54db-460c-b575-009bef320ac8",
   "metadata": {},
   "source": [
    "## 3.3) Feature Selection"
   ]
  },
  {
   "cell_type": "markdown",
   "id": "d791c15d-c3ea-4283-a4ff-ed4287a5b409",
   "metadata": {},
   "source": [
    "### Next, we will be looking at the feature importance and do feature selection to improve the model"
   ]
  },
  {
   "cell_type": "code",
   "execution_count": 52,
   "id": "e02d3725-c695-4789-8f24-441eb2c25a17",
   "metadata": {},
   "outputs": [
    {
     "name": "stdout",
     "output_type": "stream",
     "text": [
      "                   Feature Name  Importance Score\n",
      "0                floor_area_sqm          0.403392\n",
      "1         upmarket_school_index          0.198398\n",
      "2          upmarket_model_index          0.148646\n",
      "3              occupancy_period          0.041958\n",
      "4           upmarket_mall_index          0.036295\n",
      "5            upmarket_mrt_index          0.032829\n",
      "6           upmarket_town_index          0.029460\n",
      "7          upmarket_green_index          0.014767\n",
      "8         Nearest Mall Distance          0.012777\n",
      "9          Nearest MRT Distance          0.012344\n",
      "10  Nearest Green Area Distance          0.010809\n",
      "11      Nearest School Distance          0.009071\n",
      "12         Nearest NPC Distance          0.009010\n",
      "13                    year_2021          0.008940\n",
      "14              crimes_recorded          0.007936\n",
      "15            storey_type_Lower          0.007074\n",
      "16                    year_2013          0.003979\n",
      "17                    year_2012          0.002817\n",
      "18                    year_2014          0.001586\n",
      "19    Nearest Bus Stop Distance          0.001405\n",
      "20           storey_type_Middle          0.001360\n",
      "21                    year_2019          0.001219\n",
      "22                    year_2020          0.000939\n",
      "23                    year_2018          0.000744\n",
      "24            storey_type_Upper          0.000721\n",
      "25          Number of Bus Stops          0.000720\n",
      "26                    year_2015          0.000295\n",
      "27                    year_2016          0.000263\n",
      "28                    year_2017          0.000248\n"
     ]
    }
   ],
   "source": [
    "# Assuming X_train and y_train are your training data and labels\n",
    "model = DecisionTreeRegressor(max_depth=20,min_samples_split=23,min_samples_leaf=3,\n",
    "                              max_features=25,min_impurity_decrease=0, ccp_alpha=0,random_state=42)\n",
    "\n",
    "model.fit(X_trainset, y_trainset)\n",
    "\n",
    "feature_importances = model.feature_importances_\n",
    "\n",
    "features = X.columns\n",
    "importance_dict = dict(zip(features, feature_importances))\n",
    "sorted_importances = sorted(importance_dict.items(), key=lambda x: x[1], reverse=True)\n",
    "\n",
    "\n",
    "# Convert the dictionary to a DataFrame\n",
    "importances_df = pd.DataFrame(list(importance_dict.items()), columns=['Feature Name', 'Importance Score'])\n",
    "\n",
    "# Sort the DataFrame by importance score in descending order\n",
    "importances_df = importances_df.sort_values(by='Importance Score', ascending=False)\n",
    "\n",
    "# Reset index to have a clean table\n",
    "importances_df.reset_index(drop=True, inplace=True)\n",
    "\n",
    "# Display the DataFrame as a table\n",
    "print(importances_df)\n"
   ]
  },
  {
   "cell_type": "markdown",
   "id": "1f8fd5b2-386f-4d9c-b9f4-e485ddbd2303",
   "metadata": {},
   "source": [
    "### After looking at the values of feature importance, we decide to filter the score which is lower than 10th percentile."
   ]
  },
  {
   "cell_type": "code",
   "execution_count": 56,
   "id": "fb69ea38-00ce-407a-8f90-d37bf481d054",
   "metadata": {},
   "outputs": [
    {
     "name": "stdout",
     "output_type": "stream",
     "text": [
      "10th percentile threshold: 0.000634897088811146\n",
      "\n",
      "Features:\n",
      "0                  floor_area_sqm\n",
      "1           upmarket_school_index\n",
      "2            upmarket_model_index\n",
      "3                occupancy_period\n",
      "4             upmarket_mall_index\n",
      "5              upmarket_mrt_index\n",
      "6             upmarket_town_index\n",
      "7            upmarket_green_index\n",
      "8           Nearest Mall Distance\n",
      "9            Nearest MRT Distance\n",
      "10    Nearest Green Area Distance\n",
      "11        Nearest School Distance\n",
      "12           Nearest NPC Distance\n",
      "13                      year_2021\n",
      "14                crimes_recorded\n",
      "15              storey_type_Lower\n",
      "16                      year_2013\n",
      "17                      year_2012\n",
      "18                      year_2014\n",
      "19      Nearest Bus Stop Distance\n",
      "20             storey_type_Middle\n",
      "21                      year_2019\n",
      "22                      year_2020\n",
      "23                      year_2018\n",
      "24              storey_type_Upper\n",
      "25            Number of Bus Stops\n",
      "Name: Feature Name, dtype: object\n"
     ]
    }
   ],
   "source": [
    "# Set a threshold for feature importance, e.g., the 10th percentile of importances\n",
    "threshold = importances_df['Importance Score'].quantile(0.10)\n",
    "print(f\"10th percentile threshold: {threshold}\")\n",
    "print(\"\")\n",
    "\n",
    "# Filter out features below the threshold\n",
    "features_to_keep = importances_df[importances_df['Importance Score'] > threshold]['Feature Name']\n",
    "print(\"Features:\")\n",
    "print(features_to_keep)\n",
    "\n",
    "# Filter the training and validation set\n",
    "X_trainset_selected = pd.DataFrame(X_trainset, columns=X.columns)[features_to_keep]\n",
    "X_valset_selected = pd.DataFrame(X_valset, columns=X.columns)[features_to_keep]"
   ]
  },
  {
   "cell_type": "markdown",
   "id": "47593acf",
   "metadata": {},
   "source": [
    "In the feature selection process, years 2015, 2016, and 2017 were removed from the feature set due to their importance scores falling below the 10th percentile. This suggests that, relative to other features, these years held less predictive value for the model. The potential reasons for their lower importance in the context of the Singapore housing market are as follows:\n",
    "\n",
    "1. **Market Stability**: The years 2015 through 2017 might have been characterized by a relatively stable housing market with minimal price fluctuations. This stability results in less discernible patterns for the model to learn from, reducing the predictive value of these years compared to those with more pronounced market shifts.\n",
    "\n",
    "2. **Recent Trends**: Predictive models often place greater weight on more recent data when it shows stronger correlations with the target variable. If newer trends post-2017 present clearer signals for current housing prices, this could naturally diminish the relative importance of the earlier years within the model.\n",
    "\n",
    "3. **Government Policies**: It is possible that the period after 2017 saw significant policy interventions by the Singapore government that had a substantial impact on the housing market. This could include new regulations or changes to existing ones by the Housing Development Board (HDB), introduction or alteration of cooling measures, or adjustments to housing loan guidelines. Such measures can disrupt previous market trends, making the more recent years more relevant for predictions.\n",
    "\n",
    "4. **External Factors**: Broader economic indicators and developments such as changes in GDP growth, employment rates, and levels of foreign direct investment have a more direct impact on housing demand and prices. These factors might overshadow any specific year-based trends, especially if these economic conditions have more sharply defined changes post-2017.\n"
   ]
  },
  {
   "cell_type": "markdown",
   "id": "432b6af3-2828-4c3d-bf85-f79454a7719e",
   "metadata": {},
   "source": [
    "### Next, we will compare the model before and after feature selection"
   ]
  },
  {
   "cell_type": "code",
   "execution_count": 59,
   "id": "bae05279-ad2a-404c-b85d-e38ea4d9037e",
   "metadata": {},
   "outputs": [
    {
     "name": "stdout",
     "output_type": "stream",
     "text": [
      "5-Fold Cross Validation Comparison:\n",
      "----------------------------------------\n",
      "Old Mean Score: -1223470150.8974385\n",
      "----------------------------------------\n",
      "New Mean Score: -1237220844.6974561\n",
      "----------------------------------------\n",
      "\n",
      "Old Results:\n",
      "----------------------------------------\n",
      "Training score | -807420923.9916991\n",
      "----------------------------------------\n",
      "Validation score | -1233833858.974415\n",
      "----------------------------------------\n",
      "\n",
      "New Results:\n",
      "----------------------------------------\n",
      "Training score | -768975485.6690406\n",
      "----------------------------------------\n",
      "Validation score | -1213270142.4371004\n",
      "----------------------------------------\n"
     ]
    }
   ],
   "source": [
    "### Cross Validation Comparison\n",
    "\n",
    "## Before Feature Selection:\n",
    "# model with tuned parameters\n",
    "old_dt_regressor = DecisionTreeRegressor(max_depth=20,min_samples_split=23,min_samples_leaf=3,\n",
    "                                         max_features=25,min_impurity_decrease=0, ccp_alpha=0,random_state=42)\n",
    "\n",
    "# evaluate cross validation score\n",
    "old_cv_scores = cross_val_score(old_dt_regressor, X_train_scaled, y_train, cv=5, scoring='neg_mean_squared_error')\n",
    "print(\"5-Fold Cross Validation Comparison:\")\n",
    "print(\"----------------------------------------\")\n",
    "print(f\"Old Mean Score: {np.mean(old_cv_scores)}\")\n",
    "print(\"----------------------------------------\")\n",
    "\n",
    "## After Feature Selection:\n",
    "\n",
    "# feature selecton\n",
    "X_train_selected =  pd.DataFrame(X_train_scaled, columns=X.columns)[features_to_keep]\n",
    "\n",
    "# model with tuned parameters\n",
    "dt_regressor = DecisionTreeRegressor(max_depth=20,min_samples_split=23,min_samples_leaf=3,\n",
    "                                         max_features=25,min_impurity_decrease=0, ccp_alpha=0,random_state=42)\n",
    "\n",
    "# evaluate cross validation score\n",
    "cv_scores = cross_val_score(dt_regressor, X_train_selected, y_train, cv=5, scoring='neg_mean_squared_error')\n",
    "# print(cv_scores)\n",
    "print(f\"New Mean Score: {np.mean(cv_scores)}\")\n",
    "print(\"----------------------------------------\")\n",
    "print(\"\")\n",
    "\n",
    "### Training & Validation Score Comparision\n",
    "\n",
    "## Before Feature Selection\n",
    "\n",
    "# Initialize the Decision Tree Regressor\n",
    "old_dt_regressor = DecisionTreeRegressor(max_depth=20,min_samples_split=23,min_samples_leaf=3,max_features=25,\n",
    "                                         min_impurity_decrease=0, ccp_alpha=0,random_state=42)\n",
    "\n",
    "# Fit the model on the training data\n",
    "old_dt_regressor.fit(X_trainset, y_trainset)\n",
    "\n",
    "# Predict the labels of the test set\n",
    "old_train_pred = old_dt_regressor.predict(X_trainset)\n",
    "old_train_score = mean_squared_error(y_trainset, old_train_pred)\n",
    "\n",
    "# Print result\n",
    "print(\"Old Results:\")\n",
    "print(\"----------------------------------------\")\n",
    "print(f\"Training score | -{old_train_score}\")\n",
    "print(\"----------------------------------------\")\n",
    "\n",
    "# Predict the labels of the validation set\n",
    "old_val_pred = old_dt_regressor.predict(X_valset)\n",
    "old_val_score = mean_squared_error(y_valset, old_val_pred)\n",
    "\n",
    "# Print result\n",
    "print(f\"Validation score | -{old_val_score}\")\n",
    "print(\"----------------------------------------\")\n",
    "print(\"\")\n",
    "\n",
    "## After Feature Selection\n",
    "\n",
    "# Initialize the Decision Tree Regressor\n",
    "dt_regressor = DecisionTreeRegressor(max_depth=20,min_samples_split=23,min_samples_leaf=3,\n",
    "                                         max_features=25,min_impurity_decrease=0, ccp_alpha=0,random_state=42)\n",
    "\n",
    "# Fit the model on the training data\n",
    "dt_regressor.fit(X_trainset_selected, y_trainset)\n",
    "\n",
    "# Predict the labels of the test set\n",
    "train_pred = dt_regressor.predict(X_trainset_selected)\n",
    "train_score = mean_squared_error(y_trainset, train_pred)\n",
    "\n",
    "# Print result\n",
    "print(\"New Results:\")\n",
    "print(\"----------------------------------------\")\n",
    "print(f\"Training score | -{train_score}\")\n",
    "print(\"----------------------------------------\")\n",
    "\n",
    "# Predict the labels of the validation set\n",
    "val_pred = dt_regressor.predict(X_valset_selected)\n",
    "val_score = mean_squared_error(y_valset, val_pred)\n",
    "\n",
    "# Print result\n",
    "print(f\"Validation score | -{val_score}\")\n",
    "print(\"----------------------------------------\")"
   ]
  },
  {
   "cell_type": "markdown",
   "id": "5b46ee04-694d-4517-9238-fff1418b39a3",
   "metadata": {},
   "source": [
    "#### Result of Comparison between Old and New Model:\n",
    "\n",
    "- 5-Fold Cross-Validation Scores:\n",
    "  - **Old Mean Score:** The average cross-validation score before the latest tuning was approximately -1,223,470,150.\n",
    "  - **New Mean Score:** After the latest tuning, the average cross-validation score slightly worsened to approximately -1,237,220,844. The more negative score suggests a marginal increase in error and a small decrease in the model's predictive accuracy.\n",
    "\n",
    "- Training vs. Validation Scores:\n",
    "  - **Old Results:**\n",
    "    - **Training Score:** The model had a training score of approximately -807,420,924 before the latest tuning.\n",
    "    - **Validation Score:** The validation score was approximately -1,233,383,859 before the latest tuning.\n",
    "    - **Gap:** The gap between the training and validation scores was approximately -425,962,935, indicating the degree of overfitting before the latest tuning.\n",
    "\n",
    "  - **New Results:**\n",
    "    - **Training Score:** After the latest feature selection, the training score slightly improved to approximately -768,975,486, indicating a decrease in training error.\n",
    "    - **Validation Score:** The new validation score also improved to approximately -1,213,270,142, indicating better performance on the validation set.\n",
    "    - **Gap:**  The gap between the new training score and the new validation score has increased to approximately -444,294,656, which is larger than the old gap, suggesting a slight decrease in the model's generalization ability."
   ]
  },
  {
   "cell_type": "markdown",
   "id": "b2fc59af",
   "metadata": {},
   "source": [
    "The model performance deteriorated after removing the features for the years 2015, 2016, and 2017, despite their low feature importance scores, the following could be several potential reasons:\n",
    "\n",
    "1. **Collective Impact of Years**: Despite their individual low importance, the years 2015-2017 may collectively hold contextual information that aids the model’s understanding of trends, their removal thus detracting from overall predictive accuracy.\n",
    "\n",
    "2. **Model Complexity Reduction**: Simplifying the model by removing features can inadvertently eliminate subtle data patterns it previously utilized, highlighting the importance of a certain level of complexity for capturing the nuances in housing market data.\n",
    "\n",
    "3. **Interaction Disruption**: The interaction between the removed years and other features could have been integral to the model's predictions. Their absence may have disrupted these critical interactions, resulting in decreased performance.\n",
    "\n",
    "4. **Shift in Data Distribution**: Omitting features may alter the data distribution the model is trained on, potentially skewing the representation of the market dynamics and affecting the outcome."
   ]
  },
  {
   "cell_type": "markdown",
   "id": "875c961a-0605-4be5-8ddc-ebb9f3f9fdd3",
   "metadata": {},
   "source": [
    "**Conclusion:**\n",
    "- The most recent adjustments to the model have resulted in a marginal decrease in performance, as indicated by the worsened cross-validation and validation scores.\n",
    "- There has been a small increase in the training error and a slight worsening of the validation error, suggesting that the latest model tuning has not improved the model.\n",
    "- The gap between training and validation scores slightly increased, indicating that the model's ability to generalize has slightly worsened.\n",
    "- Given these results, we conclude that the new features did not yield a better model.\n",
    "- Hence, we decide to keep the original features for decision tree."
   ]
  },
  {
   "cell_type": "markdown",
   "id": "49814428-6c6c-4ae3-a0ae-bc0752b54b72",
   "metadata": {},
   "source": [
    "## 3.4) Predicting test set with fitted model"
   ]
  },
  {
   "cell_type": "code",
   "execution_count": 60,
   "id": "2b575e57-3964-46ce-b539-184fb58925ef",
   "metadata": {},
   "outputs": [
    {
     "name": "stdout",
     "output_type": "stream",
     "text": [
      "MSE Comparison:\n",
      "----------------------------------------\n",
      "Training score: -163718424.36785144\n",
      "----------------------------------------\n",
      "Test score: -1350328782.7545354\n",
      "----------------------------------------\n",
      "Difference: -1186610358.386684\n",
      "----------------------------------------\n",
      "\n",
      "Evaluation Matrix on test set: \n",
      "----------------------------------------\n",
      "MSE: 1350328782.7545354\n",
      "----------------------------------------\n",
      "MAE: 25813.97996277435\n",
      "----------------------------------------\n",
      "R2 Score: 0.937618418298542\n",
      "----------------------------------------\n"
     ]
    }
   ],
   "source": [
    "## Test initial result (Overfitting)\n",
    "\n",
    "# Initialize the Decision Tree Regressor\n",
    "dt_regressor = DecisionTreeRegressor(random_state=42)\n",
    "\n",
    "# Fit the model on the training data\n",
    "dt_regressor.fit(X_train_scaled, y_train)\n",
    "\n",
    "# Predict the labels of the training set\n",
    "train_pred = dt_regressor.predict(X_train_scaled)\n",
    "train_score = mean_squared_error(y_train, train_pred)\n",
    "\n",
    "# Print result\n",
    "print(\"MSE Comparison:\")\n",
    "print(\"----------------------------------------\")\n",
    "print(f\"Training score: -{train_score}\")\n",
    "print(\"----------------------------------------\")\n",
    "\n",
    "# Predict the labels of the vtesting set\n",
    "test_pred = dt_regressor.predict(X_test_scaled)\n",
    "test_score = mean_squared_error(y_test, test_pred)\n",
    "\n",
    "# Print result\n",
    "print(f\"Test score: -{test_score}\")\n",
    "print(\"----------------------------------------\")\n",
    "\n",
    "# Print Difference:\n",
    "print(f\"Difference: -{test_score - train_score}\")\n",
    "print(\"----------------------------------------\")\n",
    "print(\"\")\n",
    "\n",
    "# Evaluation Matrix\n",
    "test_MSE = mean_squared_error(y_test, test_pred)\n",
    "test_MAE = mean_absolute_error(y_test, test_pred)\n",
    "test_R2 = r2_score(y_test, test_pred)\n",
    "\n",
    "print(\"Evaluation Matrix on test set: \")\n",
    "print(\"----------------------------------------\")\n",
    "print(f\"MSE: {test_MSE}\")\n",
    "print(\"----------------------------------------\")\n",
    "print(f\"MAE: {test_MAE}\")\n",
    "print(\"----------------------------------------\")\n",
    "print(f\"R2 Score: {test_R2}\")\n",
    "print(\"----------------------------------------\")"
   ]
  },
  {
   "cell_type": "code",
   "execution_count": 61,
   "id": "fb9ef0d7-6bd6-4af2-a59d-0829411b03d3",
   "metadata": {},
   "outputs": [
    {
     "name": "stdout",
     "output_type": "stream",
     "text": [
      "MSE Comparison:\n",
      "----------------------------------------\n",
      "Training score: -761089300.893216\n",
      "----------------------------------------\n",
      "Test score: -1126052155.4078307\n",
      "----------------------------------------\n",
      "Difference: -364962854.5146147\n",
      "----------------------------------------\n",
      "\n",
      "Evaluation Matrix on test set: \n",
      "----------------------------------------\n",
      "MSE: 1126052155.4078307\n",
      "----------------------------------------\n",
      "MAE: 24092.687901581776\n",
      "----------------------------------------\n",
      "R2 Score: 0.9479793992175862\n",
      "----------------------------------------\n"
     ]
    }
   ],
   "source": [
    "## Test on New Hyperparamters (Less Overfitting)\n",
    "\n",
    "# Initialize the Decision Tree Regressor\n",
    "dt_regressor = DecisionTreeRegressor(max_depth=20,min_samples_split=23,min_samples_leaf=3,\n",
    "                                     max_features=25,min_impurity_decrease=0, ccp_alpha=0,random_state=42)\n",
    "\n",
    "\n",
    "# Fit the model on the training data\n",
    "dt_regressor.fit(X_train_scaled, y_train)\n",
    "\n",
    "\n",
    "# Predict the labels of the training set\n",
    "train_pred = dt_regressor.predict(X_train_scaled)\n",
    "train_score = mean_squared_error(y_train, train_pred)\n",
    "\n",
    "# Print result\n",
    "print(\"MSE Comparison:\")\n",
    "print(\"----------------------------------------\")\n",
    "print(f\"Training score: -{train_score}\")\n",
    "print(\"----------------------------------------\")\n",
    "\n",
    "# Predict the labels of the test set\n",
    "test_pred = dt_regressor.predict(X_test_scaled)\n",
    "test_score = mean_squared_error(y_test, test_pred)\n",
    "\n",
    "# Print result\n",
    "print(f\"Test score: -{test_score}\")\n",
    "print(\"----------------------------------------\")\n",
    "\n",
    "# Print Difference:\n",
    "print(f\"Difference: -{test_score - train_score}\")\n",
    "print(\"----------------------------------------\")\n",
    "print(\"\")\n",
    "\n",
    "# Evaluation Matrix\n",
    "test_MSE = mean_squared_error(y_test, test_pred)\n",
    "test_MAE = mean_absolute_error(y_test, test_pred)\n",
    "test_R2 = r2_score(y_test, test_pred)\n",
    "\n",
    "print(\"Evaluation Matrix on test set: \")\n",
    "print(\"----------------------------------------\")\n",
    "print(f\"MSE: {test_MSE}\")\n",
    "print(\"----------------------------------------\")\n",
    "print(f\"MAE: {test_MAE}\")\n",
    "print(\"----------------------------------------\")\n",
    "print(f\"R2 Score: {test_R2}\")\n",
    "print(\"----------------------------------------\")"
   ]
  },
  {
   "cell_type": "markdown",
   "id": "39a1a690-285f-4467-9cd2-03b77972da6a",
   "metadata": {},
   "source": [
    "#### Comparison between the old and new models:\n",
    "\n",
    "\n",
    "For the old model:\n",
    "- The Mean Squared Error (MSE) on the training set was -163,718,424.4, while on the test set, it was substantially higher at -1,350,328,782.8, indicating a significant difference between the training and test performance.\n",
    "- The difference in MSE between the training and test sets was -1,186,610,358.4, which is quite large and may suggest overfitting since the model performs well on the training data but much worse on unseen test data.\n",
    "- Other evaluation metrics on the test set showed an MSE of 1,350,328,782.8, a Mean Absolute Error (MAE) of 25,813.98, and an R2 score of 0.9376, which indicates that approximately 93.76% of the variance in the dependent variable is predictable from the independent variables.\n",
    "\n",
    "For the new model:\n",
    "- The MSE on the training set was -761,089,300.9, and on the test set, it was -1,126,052,155.4. Although still indicating a gap between training and test performance, the difference is notably smaller at -364,962,854.5.\n",
    "- This smaller difference suggests the new model is less overfitted and generalizes better to unseen data compared to the old model.\n",
    "- The evaluation metrics on the test set for the new model showed an improvement with an MSE of 1,126,052,155.4, an MAE of 24,092.69, and an R2 score of 0.9480, which indicates that about 94.80% of the variance is predictable."
   ]
  },
  {
   "cell_type": "markdown",
   "id": "ff179875-0ffb-4853-bca0-c139e5f872fc",
   "metadata": {},
   "source": [
    "### Conclusion:\n",
    "\n",
    "The new model represents a significant improvement over the old model in terms of generalization to unseen data. This is evident from the closer MSE values between the training and test sets and the higher R2 score, which suggests a better fit. Moreover, the improvement in the MAE indicates that, on average, the new model has a lower prediction error on the test set. Overall, the new model is more robust and reliable for making predictions on new data."
   ]
  },
  {
   "cell_type": "markdown",
   "id": "c222d058-1ee1-4e29-ace4-a7910de813b2",
   "metadata": {},
   "source": [
    "# 4) Bagging: Random Forest Regressor"
   ]
  },
  {
   "cell_type": "markdown",
   "id": "986b8dcd-7730-47a4-826e-fb2f13cecc3f",
   "metadata": {},
   "source": [
    "## 4.1) Train a baseline `Random Forest Classifier`"
   ]
  },
  {
   "cell_type": "markdown",
   "id": "a1e5b593-045c-4107-a24c-accfee75cfe4",
   "metadata": {},
   "source": [
    "Training a `baseline Random Forest Regressor`"
   ]
  },
  {
   "cell_type": "code",
   "execution_count": 62,
   "id": "6051ed6d-339a-4d55-a6a7-1b2765fe1420",
   "metadata": {},
   "outputs": [
    {
     "name": "stdout",
     "output_type": "stream",
     "text": [
      "Results:\n",
      "----------------------------------------\n",
      "Training score | -224988926.68802208\n",
      "----------------------------------------\n",
      "Validation score | -895294054.2693481\n",
      "----------------------------------------\n"
     ]
    }
   ],
   "source": [
    "# default: {n_estimator: 100, criterion: squared error, max_features: 1.0 (n_features)}\n",
    "rf_base = RandomForestRegressor()\n",
    "rf_base.fit(X_trainset, y_trainset)\n",
    "print(\"Results:\")\n",
    "print(\"----------------------------------------\")\n",
    "train_pred = rf_base.predict(X_trainset)\n",
    "train_score = mean_squared_error(y_trainset, train_pred)\n",
    "print(f\"Training score | -{train_score}\")\n",
    "print(\"----------------------------------------\")\n",
    "\n",
    "val_pred = rf_base.predict(X_valset)\n",
    "val_score = mean_squared_error(y_valset, val_pred)\n",
    "print(f\"Validation score | -{val_score}\")\n",
    "print(\"----------------------------------------\")"
   ]
  },
  {
   "cell_type": "markdown",
   "id": "6635920a-4510-432f-936d-086316daea93",
   "metadata": {},
   "source": [
    "### Since validation score is much lower than training score, the model is over-fitting to the training data.\n",
    "\n",
    "Training an `improved Random Forest Regressor` with new parameters."
   ]
  },
  {
   "cell_type": "code",
   "execution_count": 63,
   "id": "dc4b6aea-d40d-4d29-b7a0-fcf8f0804396",
   "metadata": {},
   "outputs": [
    {
     "name": "stdout",
     "output_type": "stream",
     "text": [
      "Results:\n",
      "----------------------------------------\n",
      "Training score | -2610173823.7352777\n",
      "----------------------------------------\n",
      "Validation score | -2746993121.6839943\n",
      "----------------------------------------\n"
     ]
    }
   ],
   "source": [
    "rf_improved = RandomForestRegressor(criterion=\"friedman_mse\", max_features=\"sqrt\", max_depth=10)\n",
    "rf_improved.fit(X_trainset, y_trainset)\n",
    "print(\"Results:\")\n",
    "print(\"----------------------------------------\")\n",
    "train_pred = rf_improved.predict(X_trainset)\n",
    "train_score = mean_squared_error(y_trainset, train_pred)\n",
    "print(f\"Training score | -{train_score}\")\n",
    "print(\"----------------------------------------\")\n",
    "\n",
    "val_pred = rf_improved.predict(X_valset)\n",
    "val_score = mean_squared_error(y_valset, val_pred)\n",
    "print(f\"Validation score | -{val_score}\")\n",
    "print(\"----------------------------------------\")"
   ]
  },
  {
   "cell_type": "markdown",
   "id": "6f5828f3-1cf3-429d-a58e-768caa77dc9d",
   "metadata": {},
   "source": [
    "## 4.2) Feature Selection"
   ]
  },
  {
   "cell_type": "markdown",
   "id": "bd666e83-6982-4fba-8556-2b6d898f0027",
   "metadata": {},
   "source": [
    "### Examine the `feature_importances_` of each feature that is being trained on. We can remove the feature with low importance to reduce noise during training."
   ]
  },
  {
   "cell_type": "code",
   "execution_count": 64,
   "id": "d7a3a4a3-5f5d-4b41-8294-6866564be0b7",
   "metadata": {},
   "outputs": [
    {
     "data": {
      "text/plain": [
       "floor_area_sqm                 0.322229\n",
       "upmarket_model_index           0.174419\n",
       "upmarket_school_index          0.106294\n",
       "upmarket_mrt_index             0.083271\n",
       "occupancy_period               0.064138\n",
       "upmarket_mall_index            0.055222\n",
       "upmarket_town_index            0.042776\n",
       "upmarket_green_index           0.041793\n",
       "storey_type_Lower              0.024386\n",
       "Nearest Green Area Distance    0.012574\n",
       "Nearest MRT Distance           0.011220\n",
       "Nearest Mall Distance          0.009653\n",
       "Nearest School Distance        0.008499\n",
       "year_2021                      0.007830\n",
       "crimes_recorded                0.007415\n",
       "storey_type_Middle             0.007345\n",
       "Nearest NPC Distance           0.006791\n",
       "storey_type_Upper              0.003892\n",
       "Nearest Bus Stop Distance      0.002758\n",
       "year_2012                      0.002124\n",
       "Number of Bus Stops            0.001735\n",
       "year_2013                      0.001485\n",
       "year_2019                      0.000759\n",
       "year_2018                      0.000669\n",
       "year_2020                      0.000329\n",
       "year_2016                      0.000106\n",
       "year_2014                      0.000100\n",
       "year_2017                      0.000095\n",
       "year_2015                      0.000094\n",
       "dtype: float64"
      ]
     },
     "execution_count": 64,
     "metadata": {},
     "output_type": "execute_result"
    }
   ],
   "source": [
    "pd.Series(rf_improved.feature_importances_, index=X_train.columns).sort_values(ascending=False)"
   ]
  },
  {
   "cell_type": "markdown",
   "id": "bacfeffc-2917-4794-b591-118afc0828fe",
   "metadata": {},
   "source": [
    "### Removing features that have a score of less than 0.001"
   ]
  },
  {
   "cell_type": "code",
   "execution_count": 65,
   "id": "bd94a091-8d3e-4b28-b3f3-6ccb9f5a5665",
   "metadata": {},
   "outputs": [
    {
     "name": "stdout",
     "output_type": "stream",
     "text": [
      "Results:\n",
      "----------------------------------------\n",
      "Training score | -2521656081.225113\n",
      "----------------------------------------\n",
      "Validation score | -2649331783.6684074\n",
      "----------------------------------------\n"
     ]
    }
   ],
   "source": [
    "feats_to_remove = [\"year_2018\", \"year_2019\", \"year_2020\", \"year_2015\", \"year_2014\", \"year_2017\", \"year_2016\"]\n",
    "X_trainset_2 = pd.DataFrame(X_trainset, columns=X.columns).drop(feats_to_remove, axis=1)\n",
    "X_valset_2 = pd.DataFrame(X_valset, columns=X.columns).drop(feats_to_remove, axis=1)\n",
    "\n",
    "rf_improved = RandomForestRegressor(criterion=\"friedman_mse\", max_features=\"sqrt\", max_depth=10)\n",
    "rf_improved.fit(X_trainset_2, y_trainset)\n",
    "print(\"Results:\")\n",
    "print(\"----------------------------------------\")\n",
    "train_pred = rf_improved.predict(X_trainset_2)\n",
    "train_score = mean_squared_error(y_trainset, train_pred)\n",
    "print(f\"Training score | -{train_score}\")\n",
    "print(\"----------------------------------------\")\n",
    "\n",
    "val_pred = rf_improved.predict(X_valset_2)\n",
    "val_score = mean_squared_error(y_valset, val_pred)\n",
    "print(f\"Validation score | -{val_score}\")\n",
    "print(\"----------------------------------------\")"
   ]
  },
  {
   "cell_type": "markdown",
   "id": "18e68d1f-bdcf-480c-8aba-c20583dd2df7",
   "metadata": {},
   "source": [
    "## 4.3) Hyper-parameters Tuning"
   ]
  },
  {
   "cell_type": "markdown",
   "id": "63307b80-aa67-4dcd-a292-d2ade418a034",
   "metadata": {},
   "source": [
    "### 4.3.1) Hyper-parameter 1: Increasing the `max_depth`"
   ]
  },
  {
   "cell_type": "code",
   "execution_count": 66,
   "id": "4ebf0a92-925d-474c-b6df-bd113b521e75",
   "metadata": {},
   "outputs": [
    {
     "name": "stdout",
     "output_type": "stream",
     "text": [
      "Results for Random Forest of depth 20:\n",
      "----------------------------------------\n",
      "Training score | -446236808.6595917\n",
      "----------------------------------------\n",
      "Validation score | -934372205.6816868\n",
      "----------------------------------------\n",
      "Results for Random Forest of depth 30:\n",
      "----------------------------------------\n",
      "Training score | -238498656.472894\n",
      "----------------------------------------\n",
      "Validation score | -910927247.2028184\n",
      "----------------------------------------\n",
      "Results for Random Forest of depth 40:\n",
      "----------------------------------------\n",
      "Training score | -228191019.4442773\n",
      "----------------------------------------\n",
      "Validation score | -909242487.2063065\n",
      "----------------------------------------\n"
     ]
    }
   ],
   "source": [
    "max_depth_range = [20,30,40]\n",
    "for md in max_depth_range:\n",
    "    rf_improved = RandomForestRegressor(criterion=\"friedman_mse\", max_features=\"sqrt\", max_depth=md)\n",
    "    rf_improved.fit(X_trainset_2, y_trainset)\n",
    "    print(f\"Results for Random Forest of depth {md}:\")\n",
    "    print(\"----------------------------------------\")\n",
    "    train_pred = rf_improved.predict(X_trainset_2)\n",
    "    train_score = mean_squared_error(y_trainset, train_pred)\n",
    "    print(f\"Training score | -{train_score}\")\n",
    "    print(\"----------------------------------------\")\n",
    "    \n",
    "    val_pred = rf_improved.predict(X_valset_2)\n",
    "    val_score = mean_squared_error(y_valset, val_pred)\n",
    "    print(f\"Validation score | -{val_score}\")\n",
    "    print(\"----------------------------------------\")"
   ]
  },
  {
   "cell_type": "markdown",
   "id": "185ffaf6-72b6-4f22-a2a1-359a6f8358b1",
   "metadata": {},
   "source": [
    "We will use a `max depth = 40` since the validation score increases as max depth increases."
   ]
  },
  {
   "cell_type": "markdown",
   "id": "41560fa8-e05c-4afd-8e31-0de7850f861a",
   "metadata": {},
   "source": [
    "### 4.3.2) Hyper-parameter 2: Increasing the `min_samples_split`"
   ]
  },
  {
   "cell_type": "code",
   "execution_count": 72,
   "id": "2909f19e-33f7-4e50-93fb-15abfba4ec5c",
   "metadata": {},
   "outputs": [
    {
     "name": "stdout",
     "output_type": "stream",
     "text": [
      "Results for Random Forest of min_samples_split = 2:\n",
      "----------------------------------------\n",
      "Training score | -228883288.43311423\n",
      "----------------------------------------\n",
      "Validation score | -920751799.556755\n",
      "----------------------------------------\n",
      "Results for Random Forest of min_samples_split = 4:\n",
      "----------------------------------------\n",
      "Training score | -328765039.92053866\n",
      "----------------------------------------\n",
      "Validation score | -892698755.8625011\n",
      "----------------------------------------\n",
      "Results for Random Forest of min_samples_split = 6:\n",
      "----------------------------------------\n",
      "Training score | -405276774.03569424\n",
      "----------------------------------------\n",
      "Validation score | -888461669.8777815\n",
      "----------------------------------------\n",
      "Results for Random Forest of min_samples_split = 8:\n",
      "----------------------------------------\n",
      "Training score | -465608133.9314037\n",
      "----------------------------------------\n",
      "Validation score | -903064506.190734\n",
      "----------------------------------------\n",
      "Results for Random Forest of min_samples_split = 10:\n",
      "----------------------------------------\n",
      "Training score | -513782932.16391146\n",
      "----------------------------------------\n",
      "Validation score | -909025933.4064087\n",
      "----------------------------------------\n"
     ]
    }
   ],
   "source": [
    "min_samples_split_range = range(2,11,2)\n",
    "for num_sample in min_samples_split_range:\n",
    "    rf_improved = RandomForestRegressor(criterion=\"friedman_mse\", max_features=\"sqrt\", max_depth=40, min_samples_split=num_sample)\n",
    "    rf_improved.fit(X_trainset_2, y_trainset)\n",
    "    print(f\"Results for Random Forest of min_samples_split = {num_sample}:\")\n",
    "    print(\"----------------------------------------\")\n",
    "    train_pred = rf_improved.predict(X_trainset_2)\n",
    "    train_score = mean_squared_error(y_trainset, train_pred)\n",
    "    print(f\"Training score | -{train_score}\")\n",
    "    print(\"----------------------------------------\")\n",
    "    \n",
    "    val_pred = rf_improved.predict(X_valset_2)\n",
    "    val_score = mean_squared_error(y_valset, val_pred)\n",
    "    print(f\"Validation score | -{val_score}\")\n",
    "    print(\"----------------------------------------\")"
   ]
  },
  {
   "cell_type": "markdown",
   "id": "8ae2770e-45de-4fb4-8301-b8908d67fd11",
   "metadata": {},
   "source": [
    "As the min_samples_split increases, the training error increases but validation error decreases before increasing again.\n",
    "\n",
    "We will use a `min_samples_split = 6` as it gives the highest validation score. Even though the training score is lower compared to smaller `min_samples_split` as the underlying trees formed are less deep and complex, it prevents over-fitting and generalises better to unseen data, as seen by the higher validation score. "
   ]
  },
  {
   "cell_type": "markdown",
   "id": "47a1a64a-594e-4f33-b4cb-d3d6dd83df12",
   "metadata": {},
   "source": [
    "### 4.3.3) Hyper-parameter 3: Increasing the `min_samples_leaf`"
   ]
  },
  {
   "cell_type": "code",
   "execution_count": 73,
   "id": "bd6dc3ff-25b4-426a-870e-a5e19acd944b",
   "metadata": {},
   "outputs": [
    {
     "name": "stdout",
     "output_type": "stream",
     "text": [
      "Results for Random Forest of min_samples_leaf = 1:\n",
      "----------------------------------------\n",
      "Training score | -405993722.871577\n",
      "----------------------------------------\n",
      "Validation score | -894781384.8458922\n",
      "----------------------------------------\n",
      "Results for Random Forest of min_samples_leaf = 2:\n",
      "----------------------------------------\n",
      "Training score | -474853924.0581178\n",
      "----------------------------------------\n",
      "Validation score | -914319946.5744604\n",
      "----------------------------------------\n",
      "Results for Random Forest of min_samples_leaf = 3:\n",
      "----------------------------------------\n",
      "Training score | -542792322.1046107\n",
      "----------------------------------------\n",
      "Validation score | -935197266.9524499\n",
      "----------------------------------------\n"
     ]
    }
   ],
   "source": [
    "min_samples_leaf_range = range(1,4)\n",
    "for num_sample in min_samples_leaf_range:\n",
    "    rf_improved = RandomForestRegressor(criterion=\"friedman_mse\", max_features=\"sqrt\", max_depth=40, min_samples_split=6,\n",
    "                                       min_samples_leaf=num_sample)\n",
    "    rf_improved.fit(X_trainset_2, y_trainset)\n",
    "    print(f\"Results for Random Forest of min_samples_leaf = {num_sample}:\")\n",
    "    print(\"----------------------------------------\")\n",
    "    train_pred = rf_improved.predict(X_trainset_2)\n",
    "    train_score = mean_squared_error(y_trainset, train_pred)\n",
    "    print(f\"Training score | -{train_score}\")\n",
    "    print(\"----------------------------------------\")\n",
    "    \n",
    "    val_pred = rf_improved.predict(X_valset_2)\n",
    "    val_score = mean_squared_error(y_valset, val_pred)\n",
    "    print(f\"Validation score | -{val_score}\")\n",
    "    print(\"----------------------------------------\")"
   ]
  },
  {
   "cell_type": "markdown",
   "id": "8018affe-d2fc-4d24-acde-80828bb0eed8",
   "metadata": {},
   "source": [
    "As the min_samples_leaf increases, the training error increases and there is little to no improvement in the validation score.\n",
    "\n",
    "We will stick with the default `min_samples_leaf = 1`."
   ]
  },
  {
   "cell_type": "markdown",
   "id": "a8446d74-2d86-4c04-979c-cc9752a6e824",
   "metadata": {},
   "source": [
    "### 4.3.4) Hyper-parameter 4: Increasing the `n_estimators`"
   ]
  },
  {
   "cell_type": "code",
   "execution_count": 74,
   "id": "545d8c97-e908-4d36-9306-9337dcd3e118",
   "metadata": {},
   "outputs": [
    {
     "name": "stdout",
     "output_type": "stream",
     "text": [
      "Results for Random Forest of n_estimators = 100:\n",
      "----------------------------------------\n",
      "Training score | -406257942.3696855\n",
      "----------------------------------------\n",
      "Validation score | -889595124.3016137\n",
      "----------------------------------------\n",
      "Results for Random Forest of n_estimators = 150:\n",
      "----------------------------------------\n",
      "Training score | -403638976.5072692\n",
      "----------------------------------------\n",
      "Validation score | -887104415.648146\n",
      "----------------------------------------\n",
      "Results for Random Forest of n_estimators = 200:\n",
      "----------------------------------------\n",
      "Training score | -403307484.8706247\n",
      "----------------------------------------\n",
      "Validation score | -887732582.8929225\n",
      "----------------------------------------\n",
      "Results for Random Forest of n_estimators = 250:\n",
      "----------------------------------------\n",
      "Training score | -401174143.72639996\n",
      "----------------------------------------\n",
      "Validation score | -883627493.3105894\n",
      "----------------------------------------\n",
      "Results for Random Forest of n_estimators = 300:\n",
      "----------------------------------------\n",
      "Training score | -400632201.00315464\n",
      "----------------------------------------\n",
      "Validation score | -883173127.3952667\n",
      "----------------------------------------\n",
      "Results for Random Forest of n_estimators = 350:\n",
      "----------------------------------------\n",
      "Training score | -399956484.3209666\n",
      "----------------------------------------\n",
      "Validation score | -880143973.8263779\n",
      "----------------------------------------\n",
      "Results for Random Forest of n_estimators = 400:\n",
      "----------------------------------------\n",
      "Training score | -401279061.3622329\n",
      "----------------------------------------\n",
      "Validation score | -885105477.5555147\n",
      "----------------------------------------\n"
     ]
    }
   ],
   "source": [
    "n_estimators_range = range(100,401,50)\n",
    "for n_est in n_estimators_range:\n",
    "    rf_improved = RandomForestRegressor(criterion=\"friedman_mse\", max_features=\"sqrt\", max_depth=40, min_samples_split=6,\n",
    "                                       min_samples_leaf=1, n_estimators=n_est)\n",
    "    rf_improved.fit(X_trainset_2, y_trainset)\n",
    "    print(f\"Results for Random Forest of n_estimators = {n_est}:\")\n",
    "    print(\"----------------------------------------\")\n",
    "    train_pred = rf_improved.predict(X_trainset_2)\n",
    "    train_score = mean_squared_error(y_trainset, train_pred)\n",
    "    print(f\"Training score | -{train_score}\")\n",
    "    print(\"----------------------------------------\")\n",
    "    \n",
    "    val_pred = rf_improved.predict(X_valset_2)\n",
    "    val_score = mean_squared_error(y_valset, val_pred)\n",
    "    print(f\"Validation score | -{val_score}\")\n",
    "    print(\"----------------------------------------\")"
   ]
  },
  {
   "cell_type": "markdown",
   "id": "4080ce91-23fd-4987-8eb0-dfaed821384b",
   "metadata": {},
   "source": [
    "We will use `n_estimators = 350` as both the training and validation score starts to decrease past this point."
   ]
  },
  {
   "cell_type": "markdown",
   "id": "7d6f11e9-8943-4ebc-8381-729b1c070307",
   "metadata": {},
   "source": [
    "### 4.3.5) Hyper-parameter 5: Changing `max_features`"
   ]
  },
  {
   "cell_type": "code",
   "execution_count": 76,
   "id": "968c4001-d5ba-4bcd-b91d-6eabc3d6520c",
   "metadata": {},
   "outputs": [
    {
     "name": "stdout",
     "output_type": "stream",
     "text": [
      "Results for Random Forest of max_features = 5:\n",
      "----------------------------------------\n",
      "Training score | -376650138.61414385\n",
      "----------------------------------------\n",
      "Validation score | -858357290.0824443\n",
      "----------------------------------------\n",
      "Results for Random Forest of max_features = 10:\n",
      "----------------------------------------\n",
      "Training score | -327330932.5694849\n",
      "----------------------------------------\n",
      "Validation score | -836761006.0387218\n",
      "----------------------------------------\n",
      "Results for Random Forest of max_features = 15:\n",
      "----------------------------------------\n",
      "Training score | -311353842.98913205\n",
      "----------------------------------------\n",
      "Validation score | -840398319.1443694\n",
      "----------------------------------------\n",
      "Results for Random Forest of max_features = 20:\n",
      "----------------------------------------\n",
      "Training score | -306308386.4688549\n",
      "----------------------------------------\n",
      "Validation score | -858061615.660895\n",
      "----------------------------------------\n",
      "Results for Random Forest of max_features = log2:\n",
      "----------------------------------------\n",
      "Training score | -401036607.7292525\n",
      "----------------------------------------\n",
      "Validation score | -882941573.739774\n",
      "----------------------------------------\n",
      "Results for Random Forest of max_features = sqrt:\n",
      "----------------------------------------\n",
      "Training score | -400810082.96876884\n",
      "----------------------------------------\n",
      "Validation score | -881656588.0894333\n",
      "----------------------------------------\n"
     ]
    }
   ],
   "source": [
    "max_features_range = [5,10,15,20,'log2','sqrt']\n",
    "for max_feat in max_features_range:\n",
    "    rf_improved = RandomForestRegressor(criterion=\"friedman_mse\", max_features=max_feat, max_depth=40, min_samples_split=6,\n",
    "                                       min_samples_leaf=1, n_estimators=350)\n",
    "    rf_improved.fit(X_trainset_2, y_trainset)\n",
    "    print(f\"Results for Random Forest of max_features = {max_feat}:\")\n",
    "    print(\"----------------------------------------\")\n",
    "    train_pred = rf_improved.predict(X_trainset_2)\n",
    "    train_score = mean_squared_error(y_trainset, train_pred)\n",
    "    print(f\"Training score | -{train_score}\")\n",
    "    print(\"----------------------------------------\")\n",
    "    \n",
    "    val_pred = rf_improved.predict(X_valset_2)\n",
    "    val_score = mean_squared_error(y_valset, val_pred)\n",
    "    print(f\"Validation score | -{val_score}\")\n",
    "    print(\"----------------------------------------\")"
   ]
  },
  {
   "cell_type": "markdown",
   "id": "4b95251d-5825-49ec-857c-c14810cef0c0",
   "metadata": {},
   "source": [
    "## 4.4) `5-fold cross validation` to evaluate the Random Forest with the chosen parameters"
   ]
  },
  {
   "cell_type": "code",
   "execution_count": 79,
   "id": "956fe5ff-74e3-45c7-bf0f-e70318ca9e5f",
   "metadata": {},
   "outputs": [
    {
     "name": "stdout",
     "output_type": "stream",
     "text": [
      "The mean score is -838722404.219312\n"
     ]
    }
   ],
   "source": [
    "X_train_2 = pd.DataFrame(X_train_scaled, columns=X.columns).drop(feats_to_remove, axis=1)\n",
    "\n",
    "rf_final = RandomForestRegressor(criterion=\"friedman_mse\", max_features=10, max_depth=40, min_samples_split=6,\n",
    "                                       min_samples_leaf=1, n_estimators=350)\n",
    "cv_scores = cross_val_score(rf_final, X_train_2, y_train, cv=5, scoring='neg_mean_squared_error')\n",
    "print(f\"The mean score is {np.mean(cv_scores)}\")"
   ]
  },
  {
   "cell_type": "markdown",
   "id": "aea0d546-6c0e-4c2a-95ba-4784eb44e95b",
   "metadata": {},
   "source": [
    "## 4.5) Predicting test set using fitted model"
   ]
  },
  {
   "cell_type": "code",
   "execution_count": 80,
   "id": "ba951bd1-29c7-4188-a261-356556ce9720",
   "metadata": {},
   "outputs": [
    {
     "name": "stdout",
     "output_type": "stream",
     "text": [
      "Test MSE | 814176142.801758\n",
      "Test MAE | 20834.698990301058\n",
      "Test R2 Score | 0.9623872376711395\n"
     ]
    }
   ],
   "source": [
    "rf_final.fit(X_train_2, y_train)\n",
    "\n",
    "X_test_2 = pd.DataFrame(X_test_scaled, columns=X.columns).drop(feats_to_remove, axis=1)\n",
    "test_pred = rf_final.predict(X_test_2)\n",
    "test_MSE = mean_squared_error(y_test, test_pred)\n",
    "test_MAE = mean_absolute_error(y_test, test_pred)\n",
    "test_R2 = r2_score(y_test, test_pred)\n",
    "print(f\"Test MSE | {test_MSE}\")\n",
    "print(f\"Test MAE | {test_MAE}\")\n",
    "print(f\"Test R2 Score | {test_R2}\")"
   ]
  },
  {
   "cell_type": "markdown",
   "id": "6a27b355-ed45-45a6-9a25-24fb7d37ec9a",
   "metadata": {},
   "source": [
    "# 5) Boosting: AdaBoost Regressor"
   ]
  },
  {
   "cell_type": "markdown",
   "id": "c2e28773-8124-45e0-8b32-5972846b4c40",
   "metadata": {},
   "source": [
    "## 5.1) Train a `baseline AdaBoost Regressor`"
   ]
  },
  {
   "cell_type": "code",
   "execution_count": 81,
   "id": "3714fb1e-8492-4645-8cbc-937d90ea35d9",
   "metadata": {},
   "outputs": [
    {
     "name": "stdout",
     "output_type": "stream",
     "text": [
      "Results:\n",
      "----------------------------------------\n",
      "Training score | -10166407044.344078\n",
      "----------------------------------------\n",
      "Validation score | -10243877004.22571\n",
      "----------------------------------------\n"
     ]
    }
   ],
   "source": [
    "# default: {n_estimator: 50, learning_rate: 1.0}\n",
    "ada_base = AdaBoostRegressor()\n",
    "ada_base.fit(X_trainset, y_trainset)\n",
    "print(\"Results:\")\n",
    "print(\"----------------------------------------\")\n",
    "train_pred = ada_base.predict(X_trainset)\n",
    "train_score = mean_squared_error(y_trainset, train_pred)\n",
    "print(f\"Training score | -{train_score}\")\n",
    "print(\"----------------------------------------\")\n",
    "\n",
    "val_pred = ada_base.predict(X_valset)\n",
    "val_score = mean_squared_error(y_valset, val_pred)\n",
    "print(f\"Validation score | -{val_score}\")\n",
    "print(\"----------------------------------------\")"
   ]
  },
  {
   "cell_type": "markdown",
   "id": "474c1919-b996-4737-942e-76ad9e9d5487",
   "metadata": {},
   "source": [
    "Training an `improved AdaBoost Regressor` with new parameters.\n",
    "\n",
    "I will be the using the same hyper-parameters for the base decision tree model as Random Forest."
   ]
  },
  {
   "cell_type": "code",
   "execution_count": 82,
   "id": "a6b07fdb-8210-4159-9e45-f88ce43e6ed2",
   "metadata": {},
   "outputs": [
    {
     "name": "stdout",
     "output_type": "stream",
     "text": [
      "Results:\n",
      "----------------------------------------\n",
      "Training score | -268150265.235567\n",
      "----------------------------------------\n",
      "Validation score | -931589551.544175\n",
      "----------------------------------------\n"
     ]
    }
   ],
   "source": [
    "base = DecisionTreeRegressor(criterion=\"friedman_mse\", max_features=15, max_depth=30, min_samples_split=3, min_samples_leaf=1)\n",
    "ada_improved = AdaBoostRegressor(estimator=base)\n",
    "\n",
    "ada_improved.fit(X_trainset, y_trainset)\n",
    "print(\"Results:\")\n",
    "print(\"----------------------------------------\")\n",
    "train_pred = ada_improved.predict(X_trainset)\n",
    "train_score = mean_squared_error(y_trainset, train_pred)\n",
    "print(f\"Training score | -{train_score}\")\n",
    "print(\"----------------------------------------\")\n",
    "\n",
    "val_pred = ada_improved.predict(X_valset)\n",
    "val_score = mean_squared_error(y_valset, val_pred)\n",
    "print(f\"Validation score | -{val_score}\")\n",
    "print(\"----------------------------------------\")"
   ]
  },
  {
   "cell_type": "markdown",
   "id": "f25002ea-623e-4ae9-9830-be7da5c36a62",
   "metadata": {},
   "source": [
    "### The training error is much lower than the validation error which shows that there is an over-fitting to training data."
   ]
  },
  {
   "cell_type": "code",
   "execution_count": 83,
   "id": "460912c4-79d6-4651-86b5-07a23b116b18",
   "metadata": {
    "scrolled": true
   },
   "outputs": [
    {
     "name": "stdout",
     "output_type": "stream",
     "text": [
      "Results for AdaBoost Regressor of max_features = 5 & max_depth = 5:\n",
      "----------------------------------------\n",
      "Training score | -6904505470.360036\n",
      "----------------------------------------\n",
      "Validation score | -6983699238.487668\n",
      "----------------------------------------\n",
      "Results for AdaBoost Regressor of max_features = 5 & max_depth = 10:\n",
      "----------------------------------------\n",
      "Training score | -1730410960.2184772\n",
      "----------------------------------------\n",
      "Validation score | -1918947296.9473476\n",
      "----------------------------------------\n",
      "Results for AdaBoost Regressor of max_features = 5 & max_depth = 15:\n",
      "----------------------------------------\n",
      "Training score | -736310685.8506908\n",
      "----------------------------------------\n",
      "Validation score | -1088353463.1355379\n",
      "----------------------------------------\n",
      "Results for AdaBoost Regressor of max_features = 5 & max_depth = 20:\n",
      "----------------------------------------\n",
      "Training score | -428716555.77962077\n",
      "----------------------------------------\n",
      "Validation score | -975971546.2215325\n",
      "----------------------------------------\n",
      "Results for AdaBoost Regressor of max_features = 5 & max_depth = 25:\n",
      "----------------------------------------\n",
      "Training score | -312404905.99730915\n",
      "----------------------------------------\n",
      "Validation score | -964012876.9994788\n",
      "----------------------------------------\n",
      "Results for AdaBoost Regressor of max_features = 10 & max_depth = 5:\n",
      "----------------------------------------\n",
      "Training score | -5223966793.118997\n",
      "----------------------------------------\n",
      "Validation score | -5307420092.54551\n",
      "----------------------------------------\n",
      "Results for AdaBoost Regressor of max_features = 10 & max_depth = 10:\n",
      "----------------------------------------\n",
      "Training score | -1407245883.085887\n",
      "----------------------------------------\n",
      "Validation score | -1573139945.8915262\n",
      "----------------------------------------\n",
      "Results for AdaBoost Regressor of max_features = 10 & max_depth = 15:\n",
      "----------------------------------------\n",
      "Training score | -640466044.2096391\n",
      "----------------------------------------\n",
      "Validation score | -985019173.0699539\n",
      "----------------------------------------\n",
      "Results for AdaBoost Regressor of max_features = 10 & max_depth = 20:\n",
      "----------------------------------------\n",
      "Training score | -398393932.848214\n",
      "----------------------------------------\n",
      "Validation score | -917193125.0036662\n",
      "----------------------------------------\n",
      "Results for AdaBoost Regressor of max_features = 10 & max_depth = 25:\n",
      "----------------------------------------\n",
      "Training score | -298039027.7901386\n",
      "----------------------------------------\n",
      "Validation score | -924433605.1601678\n",
      "----------------------------------------\n",
      "Results for AdaBoost Regressor of max_features = 15 & max_depth = 5:\n",
      "----------------------------------------\n",
      "Training score | -5134885334.013524\n",
      "----------------------------------------\n",
      "Validation score | -5220284517.855625\n",
      "----------------------------------------\n",
      "Results for AdaBoost Regressor of max_features = 15 & max_depth = 10:\n",
      "----------------------------------------\n",
      "Training score | -1311585928.2203324\n",
      "----------------------------------------\n",
      "Validation score | -1484394649.0093746\n",
      "----------------------------------------\n",
      "Results for AdaBoost Regressor of max_features = 15 & max_depth = 15:\n",
      "----------------------------------------\n",
      "Training score | -622952284.7019182\n",
      "----------------------------------------\n",
      "Validation score | -969721912.4200857\n",
      "----------------------------------------\n",
      "Results for AdaBoost Regressor of max_features = 15 & max_depth = 20:\n",
      "----------------------------------------\n",
      "Training score | -403861182.6104815\n",
      "----------------------------------------\n",
      "Validation score | -914792001.6121258\n",
      "----------------------------------------\n",
      "Results for AdaBoost Regressor of max_features = 15 & max_depth = 25:\n",
      "----------------------------------------\n",
      "Training score | -308044822.85171986\n",
      "----------------------------------------\n",
      "Validation score | -919372159.7265537\n",
      "----------------------------------------\n",
      "Results for AdaBoost Regressor of max_features = 20 & max_depth = 5:\n",
      "----------------------------------------\n",
      "Training score | -4975157944.053256\n",
      "----------------------------------------\n",
      "Validation score | -5034910964.57583\n",
      "----------------------------------------\n",
      "Results for AdaBoost Regressor of max_features = 20 & max_depth = 10:\n",
      "----------------------------------------\n",
      "Training score | -1263786387.6769323\n",
      "----------------------------------------\n",
      "Validation score | -1436695467.3905356\n",
      "----------------------------------------\n",
      "Results for AdaBoost Regressor of max_features = 20 & max_depth = 15:\n",
      "----------------------------------------\n",
      "Training score | -619554275.8451285\n",
      "----------------------------------------\n",
      "Validation score | -972449992.853296\n",
      "----------------------------------------\n",
      "Results for AdaBoost Regressor of max_features = 20 & max_depth = 20:\n",
      "----------------------------------------\n",
      "Training score | -404357775.9283249\n",
      "----------------------------------------\n",
      "Validation score | -912899418.1475719\n",
      "----------------------------------------\n",
      "Results for AdaBoost Regressor of max_features = 20 & max_depth = 25:\n",
      "----------------------------------------\n",
      "Training score | -289285172.16119593\n",
      "----------------------------------------\n",
      "Validation score | -924334201.9993156\n",
      "----------------------------------------\n"
     ]
    }
   ],
   "source": [
    "max_features_range = range(5,21,5)\n",
    "max_depth_range = range(5,26,5)\n",
    "\n",
    "for max_feat in max_features_range:\n",
    "    for md in max_depth_range:\n",
    "        \n",
    "        base = DecisionTreeRegressor(criterion=\"friedman_mse\", max_features=max_feat, max_depth=md, \n",
    "                                     min_samples_split=3, min_samples_leaf=1)\n",
    "        ada_improved = AdaBoostRegressor(estimator=base)\n",
    "        ada_improved.fit(X_trainset, y_trainset)\n",
    "        print(f\"Results for AdaBoost Regressor of max_features = {max_feat} & max_depth = {md}:\")\n",
    "        print(\"----------------------------------------\")\n",
    "        train_pred = ada_improved.predict(X_trainset)\n",
    "        train_score = mean_squared_error(y_trainset, train_pred)\n",
    "        print(f\"Training score | -{train_score}\")\n",
    "        print(\"----------------------------------------\")\n",
    "        \n",
    "        val_pred = ada_improved.predict(X_valset)\n",
    "        val_score = mean_squared_error(y_valset, val_pred)\n",
    "        print(f\"Validation score | -{val_score}\")\n",
    "        print(\"----------------------------------------\")"
   ]
  },
  {
   "cell_type": "markdown",
   "id": "0b2cd038-d8bd-4bbe-8622-8a6ef0b6e449",
   "metadata": {},
   "source": [
    "The base model with `max_features = 20` & `max_depth = 20` has the best trade-off between training and validation score hence we will be using them as parameter for the subsequent fine-tuning.\n",
    "\n",
    "The `training score` is **-404357775.9283249** & `validation score` is **-912899418.1475719**"
   ]
  },
  {
   "cell_type": "markdown",
   "id": "32cc1d50-9ff5-4e3d-a24e-2911a48b4a0d",
   "metadata": {},
   "source": [
    "## 5.2) Feature Selection\n",
    "### Examine the `feature_importances_`"
   ]
  },
  {
   "cell_type": "code",
   "execution_count": 84,
   "id": "8b654d76-83d5-4a6a-913c-10853e9a9b3c",
   "metadata": {},
   "outputs": [
    {
     "data": {
      "text/plain": [
       "floor_area_sqm                 0.290778\n",
       "upmarket_model_index           0.253873\n",
       "upmarket_town_index            0.076985\n",
       "upmarket_school_index          0.072424\n",
       "upmarket_mrt_index             0.052014\n",
       "occupancy_period               0.045057\n",
       "Nearest Bus Stop Distance      0.039677\n",
       "upmarket_mall_index            0.030588\n",
       "storey_type_Upper              0.019533\n",
       "year_2021                      0.019314\n",
       "crimes_recorded                0.016245\n",
       "upmarket_green_index           0.012941\n",
       "Nearest MRT Distance           0.010525\n",
       "Nearest Mall Distance          0.009663\n",
       "Nearest Green Area Distance    0.009256\n",
       "Nearest School Distance        0.008830\n",
       "storey_type_Lower              0.007698\n",
       "Nearest NPC Distance           0.007221\n",
       "Number of Bus Stops            0.006319\n",
       "storey_type_Middle             0.001994\n",
       "year_2012                      0.001653\n",
       "year_2013                      0.001603\n",
       "year_2019                      0.001533\n",
       "year_2018                      0.001013\n",
       "year_2020                      0.000911\n",
       "year_2016                      0.000653\n",
       "year_2014                      0.000598\n",
       "year_2015                      0.000571\n",
       "year_2017                      0.000531\n",
       "dtype: float64"
      ]
     },
     "execution_count": 84,
     "metadata": {},
     "output_type": "execute_result"
    }
   ],
   "source": [
    "base = DecisionTreeRegressor(criterion=\"friedman_mse\", max_features=20, max_depth=20, min_samples_split=3, min_samples_leaf=1)\n",
    "ada_improved = AdaBoostRegressor(estimator=base)\n",
    "ada_improved.fit(X_trainset, y_trainset)\n",
    "\n",
    "pd.Series(ada_improved.feature_importances_, index=X_train.columns).sort_values(ascending=False)"
   ]
  },
  {
   "cell_type": "markdown",
   "id": "8d432c9a-a640-47c8-8ee6-1c4de3d28b2a",
   "metadata": {},
   "source": [
    "### Removing features that have a score of less than 0.001"
   ]
  },
  {
   "cell_type": "code",
   "execution_count": 90,
   "id": "8c271acd-c8f7-474a-b2ca-53e33859102e",
   "metadata": {},
   "outputs": [
    {
     "name": "stdout",
     "output_type": "stream",
     "text": [
      "Results:\n",
      "----------------------------------------\n",
      "Training score | -393730265.7874065\n",
      "----------------------------------------\n",
      "Validation score | -918380939.4225947\n",
      "----------------------------------------\n"
     ]
    }
   ],
   "source": [
    "feats_to_remove = [\"year_2016\", \"year_2020\", \"year_2017\", \"year_2014\", \"year_2015\"]\n",
    "X_trainset_3 = pd.DataFrame(X_trainset, columns=X.columns).drop(feats_to_remove, axis=1)\n",
    "X_valset_3 = pd.DataFrame(X_valset, columns=X.columns).drop(feats_to_remove, axis=1)\n",
    "\n",
    "base = DecisionTreeRegressor(criterion=\"friedman_mse\", max_features=20, max_depth=20, min_samples_split=3, min_samples_leaf=1)\n",
    "ada_improved = AdaBoostRegressor(estimator=base)\n",
    "\n",
    "ada_improved.fit(X_trainset_3, y_trainset)\n",
    "print(\"Results:\")\n",
    "print(\"----------------------------------------\")\n",
    "train_pred = ada_improved.predict(X_trainset_3)\n",
    "train_score = mean_squared_error(y_trainset, train_pred)\n",
    "print(f\"Training score | -{train_score}\")\n",
    "print(\"----------------------------------------\")\n",
    "\n",
    "val_pred = ada_improved.predict(X_valset_3)\n",
    "val_score = mean_squared_error(y_valset, val_pred)\n",
    "print(f\"Validation score | -{val_score}\")\n",
    "print(\"----------------------------------------\")"
   ]
  },
  {
   "cell_type": "markdown",
   "id": "4f7a94d0-8e22-4207-a794-9837debc542f",
   "metadata": {},
   "source": [
    "There is marginal changes to the training and validation score after feature selection hence we will be keeping the full dataset for further finetuning."
   ]
  },
  {
   "cell_type": "markdown",
   "id": "73490277-539b-4263-8a5f-59e73ca50815",
   "metadata": {},
   "source": [
    "## 5.3 Hyper-parameter Tuning"
   ]
  },
  {
   "cell_type": "markdown",
   "id": "e990bffd-527a-4a86-971d-532f96feeadf",
   "metadata": {},
   "source": [
    "### 5.1.3.1) Hyper-parameter 1: Changing the `loss function`"
   ]
  },
  {
   "cell_type": "code",
   "execution_count": 91,
   "id": "99382a9b-49aa-47d5-819c-c1b4d6d062c2",
   "metadata": {},
   "outputs": [
    {
     "name": "stdout",
     "output_type": "stream",
     "text": [
      "Results for AdaBoost Regressor using loss function of linear:\n",
      "----------------------------------------\n",
      "Training score | -346585103.3224654\n",
      "----------------------------------------\n",
      "Validation score | -902763567.5613929\n",
      "----------------------------------------\n",
      "Results for AdaBoost Regressor using loss function of exponential:\n",
      "----------------------------------------\n",
      "Training score | -334726710.1749085\n",
      "----------------------------------------\n",
      "Validation score | -900886061.1224322\n",
      "----------------------------------------\n",
      "Results for AdaBoost Regressor using loss function of square:\n",
      "----------------------------------------\n",
      "Training score | -358308568.983586\n",
      "----------------------------------------\n",
      "Validation score | -900353450.1959186\n",
      "----------------------------------------\n"
     ]
    }
   ],
   "source": [
    "loss_functions = [\"linear\", \"exponential\", \"square\"]\n",
    "\n",
    "for lf in loss_functions:\n",
    "    base = DecisionTreeRegressor(criterion=\"friedman_mse\", max_features=20, max_depth=20, min_samples_split=3, min_samples_leaf=1)\n",
    "    ada_improved = AdaBoostRegressor(estimator=base, n_estimators=34, loss=lf)\n",
    "    ada_improved.fit(X_trainset, y_trainset)\n",
    "    print(f\"Results for AdaBoost Regressor using loss function of {lf}:\")    \n",
    "    print(\"----------------------------------------\")\n",
    "    train_pred = ada_improved.predict(X_trainset)\n",
    "    train_score = mean_squared_error(y_trainset, train_pred)\n",
    "    print(f\"Training score | -{train_score}\")\n",
    "    print(\"----------------------------------------\")\n",
    "    \n",
    "    val_pred = ada_improved.predict(X_valset)\n",
    "    val_score = mean_squared_error(y_valset, val_pred)\n",
    "    print(f\"Validation score | -{val_score}\")\n",
    "    print(\"----------------------------------------\")"
   ]
  },
  {
   "cell_type": "markdown",
   "id": "153f08fe-46fb-4459-9d7f-60e239fad5de",
   "metadata": {},
   "source": [
    "We will choose the `exponential loss function` as it has the lowest training score and the validation score is similar to the square loss function."
   ]
  },
  {
   "cell_type": "markdown",
   "id": "03f2048d-8e2e-4991-93c4-efe05b5b015a",
   "metadata": {},
   "source": [
    "### 5.1.3.2) Hyper-parameter 2 and 3: Changing the `n_estimators` and `learning_rate`\n",
    "There is a trade-off between number of estimators and learning rate as a higher number of estimators will be able to capture more complex pattern but at the risk of over-fitting whereas a higher learning rate will increase the weight of each individual estimator at each boosting iteration. There is a need to balance between the two in order to ensure that the model can generalise well to unseen data."
   ]
  },
  {
   "cell_type": "code",
   "execution_count": 95,
   "id": "cc0fe94c-9d5f-44c4-9200-c888cc7c8f27",
   "metadata": {},
   "outputs": [
    {
     "name": "stdout",
     "output_type": "stream",
     "text": [
      "Results for AdaBoost Regressor of n_estimators = 50 & learning_rate = 0.1:\n",
      "----------------------------------------\n",
      "Training score | -322402576.7261285\n",
      "----------------------------------------\n",
      "Validation score | -913936895.7898034\n",
      "----------------------------------------\n",
      "Results for AdaBoost Regressor of n_estimators = 50 & learning_rate = 0.2:\n",
      "----------------------------------------\n",
      "Training score | -301281253.40936786\n",
      "----------------------------------------\n",
      "Validation score | -900217821.754231\n",
      "----------------------------------------\n",
      "Results for AdaBoost Regressor of n_estimators = 50 & learning_rate = 0.3:\n",
      "----------------------------------------\n",
      "Training score | -295199708.2024847\n",
      "----------------------------------------\n",
      "Validation score | -903417819.619978\n",
      "----------------------------------------\n",
      "Results for AdaBoost Regressor of n_estimators = 50 & learning_rate = 0.4:\n",
      "----------------------------------------\n",
      "Training score | -296527956.3520165\n",
      "----------------------------------------\n",
      "Validation score | -898081697.1688622\n",
      "----------------------------------------\n",
      "Results for AdaBoost Regressor of n_estimators = 50 & learning_rate = 0.5:\n",
      "----------------------------------------\n",
      "Training score | -307209462.02022785\n",
      "----------------------------------------\n",
      "Validation score | -889568705.7088892\n",
      "----------------------------------------\n",
      "Results for AdaBoost Regressor of n_estimators = 60 & learning_rate = 0.1:\n",
      "----------------------------------------\n",
      "Training score | -311413910.0208946\n",
      "----------------------------------------\n",
      "Validation score | -907278380.6418884\n",
      "----------------------------------------\n",
      "Results for AdaBoost Regressor of n_estimators = 60 & learning_rate = 0.2:\n",
      "----------------------------------------\n",
      "Training score | -294505517.2085315\n",
      "----------------------------------------\n",
      "Validation score | -894266985.489457\n",
      "----------------------------------------\n",
      "Results for AdaBoost Regressor of n_estimators = 60 & learning_rate = 0.3:\n",
      "----------------------------------------\n",
      "Training score | -296677145.3844135\n",
      "----------------------------------------\n",
      "Validation score | -890360370.1206768\n",
      "----------------------------------------\n",
      "Results for AdaBoost Regressor of n_estimators = 60 & learning_rate = 0.4:\n",
      "----------------------------------------\n",
      "Training score | -301057180.10529286\n",
      "----------------------------------------\n",
      "Validation score | -891812995.1248211\n",
      "----------------------------------------\n",
      "Results for AdaBoost Regressor of n_estimators = 60 & learning_rate = 0.5:\n",
      "----------------------------------------\n",
      "Training score | -313991947.17300034\n",
      "----------------------------------------\n",
      "Validation score | -883254453.6502216\n",
      "----------------------------------------\n",
      "Results for AdaBoost Regressor of n_estimators = 70 & learning_rate = 0.1:\n",
      "----------------------------------------\n",
      "Training score | -303449771.1760972\n",
      "----------------------------------------\n",
      "Validation score | -905798390.5175335\n",
      "----------------------------------------\n",
      "Results for AdaBoost Regressor of n_estimators = 70 & learning_rate = 0.2:\n",
      "----------------------------------------\n",
      "Training score | -292955864.8795992\n",
      "----------------------------------------\n",
      "Validation score | -896665044.2894058\n",
      "----------------------------------------\n",
      "Results for AdaBoost Regressor of n_estimators = 70 & learning_rate = 0.3:\n",
      "----------------------------------------\n",
      "Training score | -294903861.98893887\n",
      "----------------------------------------\n",
      "Validation score | -888763333.3041805\n",
      "----------------------------------------\n",
      "Results for AdaBoost Regressor of n_estimators = 70 & learning_rate = 0.4:\n",
      "----------------------------------------\n",
      "Training score | -306017074.87728614\n",
      "----------------------------------------\n",
      "Validation score | -882423419.6674768\n",
      "----------------------------------------\n",
      "Results for AdaBoost Regressor of n_estimators = 70 & learning_rate = 0.5:\n",
      "----------------------------------------\n",
      "Training score | -322667655.874444\n",
      "----------------------------------------\n",
      "Validation score | -879910489.6693447\n",
      "----------------------------------------\n",
      "Results for AdaBoost Regressor of n_estimators = 80 & learning_rate = 0.1:\n",
      "----------------------------------------\n",
      "Training score | -298439308.73608816\n",
      "----------------------------------------\n",
      "Validation score | -899661113.4872439\n",
      "----------------------------------------\n",
      "Results for AdaBoost Regressor of n_estimators = 80 & learning_rate = 0.2:\n",
      "----------------------------------------\n",
      "Training score | -290879769.20869297\n",
      "----------------------------------------\n",
      "Validation score | -894501455.6680893\n",
      "----------------------------------------\n",
      "Results for AdaBoost Regressor of n_estimators = 80 & learning_rate = 0.3:\n",
      "----------------------------------------\n",
      "Training score | -298070168.64020294\n",
      "----------------------------------------\n",
      "Validation score | -886591303.6746916\n",
      "----------------------------------------\n",
      "Results for AdaBoost Regressor of n_estimators = 80 & learning_rate = 0.4:\n",
      "----------------------------------------\n",
      "Training score | -312650795.34000516\n",
      "----------------------------------------\n",
      "Validation score | -878016382.610604\n",
      "----------------------------------------\n",
      "Results for AdaBoost Regressor of n_estimators = 80 & learning_rate = 0.5:\n",
      "----------------------------------------\n",
      "Training score | -330079071.4791396\n",
      "----------------------------------------\n",
      "Validation score | -878021967.322191\n",
      "----------------------------------------\n",
      "Results for AdaBoost Regressor of n_estimators = 90 & learning_rate = 0.1:\n",
      "----------------------------------------\n",
      "Training score | -296747298.2453155\n",
      "----------------------------------------\n",
      "Validation score | -901075637.2013882\n",
      "----------------------------------------\n",
      "Results for AdaBoost Regressor of n_estimators = 90 & learning_rate = 0.2:\n",
      "----------------------------------------\n",
      "Training score | -290235411.77697355\n",
      "----------------------------------------\n",
      "Validation score | -888421519.9258031\n",
      "----------------------------------------\n",
      "Results for AdaBoost Regressor of n_estimators = 90 & learning_rate = 0.3:\n",
      "----------------------------------------\n",
      "Training score | -300873524.1385517\n",
      "----------------------------------------\n",
      "Validation score | -876188918.4690939\n",
      "----------------------------------------\n",
      "Results for AdaBoost Regressor of n_estimators = 90 & learning_rate = 0.4:\n",
      "----------------------------------------\n",
      "Training score | -321082888.7435018\n",
      "----------------------------------------\n",
      "Validation score | -874476484.1635643\n",
      "----------------------------------------\n",
      "Results for AdaBoost Regressor of n_estimators = 90 & learning_rate = 0.5:\n",
      "----------------------------------------\n",
      "Training score | -348942623.17072093\n",
      "----------------------------------------\n",
      "Validation score | -880856931.9917086\n",
      "----------------------------------------\n"
     ]
    }
   ],
   "source": [
    "n_estimators_range = range(50,100,10)\n",
    "learning_rate_range = [0.1,0.2,0.3,0.4,0.5]\n",
    "\n",
    "for n_est in n_estimators_range:\n",
    "    for lr in learning_rate_range:\n",
    "        \n",
    "        base = DecisionTreeRegressor(criterion=\"friedman_mse\", max_features=20, max_depth=20, \n",
    "                                     min_samples_split=3, min_samples_leaf=1)\n",
    "        ada_improved = AdaBoostRegressor(estimator=base, n_estimators=n_est, learning_rate=lr, loss=\"exponential\")\n",
    "        ada_improved.fit(X_trainset, y_trainset)\n",
    "        print(f\"Results for AdaBoost Regressor of n_estimators = {n_est} & learning_rate = {lr}:\")\n",
    "        print(\"----------------------------------------\")\n",
    "        train_pred = ada_improved.predict(X_trainset)\n",
    "        train_score = mean_squared_error(y_trainset, train_pred)\n",
    "        print(f\"Training score | -{train_score}\")\n",
    "        print(\"----------------------------------------\")\n",
    "        \n",
    "        val_pred = ada_improved.predict(X_valset)\n",
    "        val_score = mean_squared_error(y_valset, val_pred)\n",
    "        print(f\"Validation score | -{val_score}\")\n",
    "        print(\"----------------------------------------\")"
   ]
  },
  {
   "cell_type": "markdown",
   "id": "c31f11c1-d273-4a38-888e-d1edf22f6ecf",
   "metadata": {},
   "source": [
    "The optimal `n_estimators` and `learning_rate` is **90** and **0.3** respectively. Validation scores generally increases as n_estimators and learning rate increases. However, a higher value may also lead to overfitting to training data and cause the validation score to drop. When n_estimator is 90, the training score decreases with increasing learning rate but the validation score increases instead. Hence we will choose 0.3 as the learning rate to to balance the both and prevent \"overshooting\" the optimal minimum point. "
   ]
  },
  {
   "cell_type": "markdown",
   "id": "faebc16b-1dd0-4d46-b706-6d5e8ac20cc6",
   "metadata": {},
   "source": [
    "## 5.4)`5-fold cross validation` to evaluate the Adaboost Regressor with the chosen parameters"
   ]
  },
  {
   "cell_type": "code",
   "execution_count": 96,
   "id": "f65f1026-c699-4c95-8f5f-e1cb4f352410",
   "metadata": {},
   "outputs": [
    {
     "name": "stdout",
     "output_type": "stream",
     "text": [
      "The mean score is -893836530.0688108\n"
     ]
    }
   ],
   "source": [
    "base = DecisionTreeRegressor(criterion=\"friedman_mse\", max_features=20, max_depth=20, \n",
    "                                     min_samples_split=3, min_samples_leaf=1)\n",
    "ada_final = AdaBoostRegressor(estimator=base, n_estimators=90, learning_rate=0.3, loss=\"exponential\")\n",
    "cv_scores = cross_val_score(ada_final, X_train, y_train, cv=5, scoring='neg_mean_squared_error')\n",
    "print(f\"The mean score is {np.mean(cv_scores)}\")"
   ]
  },
  {
   "cell_type": "markdown",
   "id": "426c13c0-3500-40bb-b89c-6bb2958742fb",
   "metadata": {},
   "source": [
    "## 5.5) Predicting test set using fitted model"
   ]
  },
  {
   "cell_type": "code",
   "execution_count": 97,
   "id": "b315bc3c-5881-4788-9af0-140091434c65",
   "metadata": {},
   "outputs": [
    {
     "name": "stdout",
     "output_type": "stream",
     "text": [
      "Test MSE | 856806023.9205062\n",
      "Test MAE | 21143.352264480905\n",
      "Test R2 Score | 0.9604178510699684\n"
     ]
    }
   ],
   "source": [
    "ada_final.fit(X_train, y_train)\n",
    "\n",
    "test_pred = ada_final.predict(X_test)\n",
    "test_MSE = mean_squared_error(y_test, test_pred)\n",
    "test_MAE = mean_absolute_error(y_test, test_pred)\n",
    "test_R2 = r2_score(y_test, test_pred)\n",
    "print(f\"Test MSE | {test_MSE}\")\n",
    "print(f\"Test MAE | {test_MAE}\")\n",
    "print(f\"Test R2 Score | {test_R2}\")"
   ]
  },
  {
   "cell_type": "markdown",
   "id": "38b96f21-be09-40e3-ba7b-b42bbeb02628",
   "metadata": {},
   "source": [
    "# 6) Boosting: XGBoost Regressor"
   ]
  },
  {
   "cell_type": "markdown",
   "id": "797b8529-032b-4005-a2e3-87827fc608a8",
   "metadata": {},
   "source": [
    "## 6.1) Training a baseline `XGBoost Regressor`"
   ]
  },
  {
   "cell_type": "markdown",
   "id": "2b0952e1-b2e9-40c4-a9a5-52a7e3a5044a",
   "metadata": {},
   "source": [
    "Training a `baseline XGBoost`"
   ]
  },
  {
   "cell_type": "code",
   "execution_count": 98,
   "id": "0c71e659-2508-4517-9121-463777980f33",
   "metadata": {},
   "outputs": [
    {
     "name": "stdout",
     "output_type": "stream",
     "text": [
      "The mean score is -956396398.2247485\n"
     ]
    }
   ],
   "source": [
    "from xgboost import XGBRegressor\n",
    "\n",
    "xgb_base = XGBRegressor(objective='reg:squarederror')\n",
    "val_scores = cross_val_score(xgb_base, X_train_scaled, y_train, cv=3, scoring='neg_mean_squared_error')\n",
    "print(f\"The mean score is {np.mean(val_scores)}\")"
   ]
  },
  {
   "cell_type": "code",
   "execution_count": 99,
   "id": "cda4b181-bae2-4480-ae24-af07c3035c7c",
   "metadata": {},
   "outputs": [
    {
     "name": "stdout",
     "output_type": "stream",
     "text": [
      "Results:\n",
      "----------------------------------------\n",
      "Training score | -810115773.8510789\n",
      "----------------------------------------\n",
      "Validation score | -941283223.1357386\n",
      "----------------------------------------\n"
     ]
    }
   ],
   "source": [
    "# default: {eta:0.3, n_estimators=100, gamma:0, max_depth:6, min_child_weight:1, min_delta_step:0, subsample:1, \n",
    "#       lambda:1, alpha:0}\n",
    "xgb_base = XGBRegressor(objective='reg:squarederror')\n",
    "xgb_base.fit(X_trainset, y_trainset)\n",
    "print(\"Results:\")\n",
    "print(\"----------------------------------------\")\n",
    "train_pred = xgb_base.predict(X_trainset)\n",
    "train_score = mean_squared_error(y_trainset, train_pred)\n",
    "print(f\"Training score | -{train_score}\")\n",
    "print(\"----------------------------------------\")\n",
    "\n",
    "val_pred = xgb_base.predict(X_valset)\n",
    "val_score = mean_squared_error(y_valset, val_pred)\n",
    "print(f\"Validation score | -{val_score}\")\n",
    "print(\"----------------------------------------\")"
   ]
  },
  {
   "cell_type": "markdown",
   "id": "e1dcc703-febe-4796-b408-1d72f671bb69",
   "metadata": {},
   "source": [
    "## 6.2) Feature Selection\n",
    "### Examining the `feature_importances_`"
   ]
  },
  {
   "cell_type": "code",
   "execution_count": 100,
   "id": "428bc8a2-e1ed-491f-b409-6df06bf1b185",
   "metadata": {},
   "outputs": [
    {
     "data": {
      "text/plain": [
       "upmarket_model_index           0.203692\n",
       "upmarket_school_index          0.135298\n",
       "floor_area_sqm                 0.132641\n",
       "upmarket_mrt_index             0.086163\n",
       "year_2013                      0.058838\n",
       "upmarket_mall_index            0.057569\n",
       "upmarket_town_index            0.054459\n",
       "storey_type_Lower              0.052111\n",
       "year_2021                      0.047214\n",
       "year_2012                      0.022319\n",
       "occupancy_period               0.021776\n",
       "upmarket_green_index           0.020837\n",
       "year_2019                      0.012448\n",
       "year_2018                      0.011456\n",
       "storey_type_Middle             0.010428\n",
       "Nearest Mall Distance          0.009006\n",
       "Nearest MRT Distance           0.008709\n",
       "crimes_recorded                0.008592\n",
       "year_2014                      0.008471\n",
       "Nearest Green Area Distance    0.006821\n",
       "year_2020                      0.006567\n",
       "Nearest School Distance        0.005111\n",
       "Nearest NPC Distance           0.004565\n",
       "storey_type_Upper              0.004112\n",
       "year_2017                      0.003511\n",
       "year_2015                      0.002429\n",
       "Number of Bus Stops            0.002366\n",
       "Nearest Bus Stop Distance      0.001307\n",
       "year_2016                      0.001182\n",
       "dtype: float32"
      ]
     },
     "execution_count": 100,
     "metadata": {},
     "output_type": "execute_result"
    }
   ],
   "source": [
    "pd.Series(xgb_base.feature_importances_, index=X_train.columns).sort_values(ascending=False)"
   ]
  },
  {
   "cell_type": "markdown",
   "id": "e922c8bb-7542-4ce7-b02a-5b0a9a575e6b",
   "metadata": {},
   "source": [
    "### Removing features that have scores less than 0.01"
   ]
  },
  {
   "cell_type": "code",
   "execution_count": 101,
   "id": "acb9ab64-8dbc-4687-b890-fd003bf24601",
   "metadata": {},
   "outputs": [
    {
     "name": "stdout",
     "output_type": "stream",
     "text": [
      "Results:\n",
      "----------------------------------------\n",
      "Training score | -960281637.0763879\n",
      "----------------------------------------\n",
      "Validation score | -1058326160.0404351\n",
      "----------------------------------------\n"
     ]
    }
   ],
   "source": [
    "feats_to_remove = [\"Nearest MRT Distance\",\"Nearest Mall Distance\",\"crimes_recorded\",\"year_2014\",\"year_2018\",\"year_2020\",\n",
    "                   \"Nearest School Distance\",\"Nearest Green Area Distance\",\"Nearest NPC Distance\",\"Number of Bus Stops\",\"year_2015\",\n",
    "                  \"year_2017\",\"Nearest Bus Stop Distance\",\"year_2016\"]\n",
    "X_trainset_4 = pd.DataFrame(X_trainset, columns=X.columns).drop(feats_to_remove, axis=1)\n",
    "X_valset_4 = pd.DataFrame(X_valset, columns=X.columns).drop(feats_to_remove, axis=1)\n",
    "\n",
    "xgb_base = XGBRegressor(objective='reg:squarederror')\n",
    "xgb_base.fit(X_trainset_4, y_trainset)\n",
    "print(\"Results:\")\n",
    "print(\"----------------------------------------\")\n",
    "train_pred = xgb_base.predict(X_trainset_4)\n",
    "train_score = mean_squared_error(y_trainset, train_pred)\n",
    "print(f\"Training score | -{train_score}\")\n",
    "print(\"----------------------------------------\")\n",
    "\n",
    "val_pred = xgb_base.predict(X_valset_4)\n",
    "val_score = mean_squared_error(y_valset, val_pred)\n",
    "print(f\"Validation score | -{val_score}\")\n",
    "print(\"----------------------------------------\")"
   ]
  },
  {
   "cell_type": "markdown",
   "id": "376552dd-d85f-4b3e-9d41-4d526e3481ba",
   "metadata": {},
   "source": [
    "The model performs worse when we remove features that have importance score less than 0.01, hence we will keep all the features."
   ]
  },
  {
   "cell_type": "markdown",
   "id": "15335e62-c540-4309-9d0c-931ff3824b44",
   "metadata": {},
   "source": [
    "## 6.3) Hyper-parameter Tuning"
   ]
  },
  {
   "cell_type": "markdown",
   "id": "e7ca40fc-1452-404a-a29c-a7283994f22c",
   "metadata": {},
   "source": [
    "### 5.2.3.1) Hyper-parameter 1: Tuning `max_depth`"
   ]
  },
  {
   "cell_type": "code",
   "execution_count": 102,
   "id": "83f705a6-7906-4ce1-870c-62e88bdd4aa4",
   "metadata": {},
   "outputs": [
    {
     "name": "stdout",
     "output_type": "stream",
     "text": [
      "Results for XGBoost of max_depth = 1:\n",
      "----------------------------------------\n",
      "Training score | -4142275197.7394257\n",
      "----------------------------------------\n",
      "Validation score | -4202561218.926388\n",
      "----------------------------------------\n",
      "Results for XGBoost of max_depth = 2:\n",
      "----------------------------------------\n",
      "Training score | -2550939892.815018\n",
      "----------------------------------------\n",
      "Validation score | -2621984245.0530195\n",
      "----------------------------------------\n",
      "Results for XGBoost of max_depth = 3:\n",
      "----------------------------------------\n",
      "Training score | -1726743818.3823\n",
      "----------------------------------------\n",
      "Validation score | -1782205902.7624228\n",
      "----------------------------------------\n",
      "Results for XGBoost of max_depth = 4:\n",
      "----------------------------------------\n",
      "Training score | -1255687329.3819718\n",
      "----------------------------------------\n",
      "Validation score | -1321964108.752977\n",
      "----------------------------------------\n",
      "Results for XGBoost of max_depth = 5:\n",
      "----------------------------------------\n",
      "Training score | -976403040.521966\n",
      "----------------------------------------\n",
      "Validation score | -1059050525.0277911\n",
      "----------------------------------------\n",
      "Results for XGBoost of max_depth = 6:\n",
      "----------------------------------------\n",
      "Training score | -810115773.8510789\n",
      "----------------------------------------\n",
      "Validation score | -941283223.1357386\n",
      "----------------------------------------\n",
      "Results for XGBoost of max_depth = 7:\n",
      "----------------------------------------\n",
      "Training score | -682204447.7626432\n",
      "----------------------------------------\n",
      "Validation score | -878955951.7883844\n",
      "----------------------------------------\n",
      "Results for XGBoost of max_depth = 8:\n",
      "----------------------------------------\n",
      "Training score | -565964365.906214\n",
      "----------------------------------------\n",
      "Validation score | -842002538.7900573\n",
      "----------------------------------------\n",
      "Results for XGBoost of max_depth = 9:\n",
      "----------------------------------------\n",
      "Training score | -466840790.3454571\n",
      "----------------------------------------\n",
      "Validation score | -828743308.0232749\n",
      "----------------------------------------\n",
      "Results for XGBoost of max_depth = 10:\n",
      "----------------------------------------\n",
      "Training score | -378727578.8789315\n",
      "----------------------------------------\n",
      "Validation score | -832314557.2098938\n",
      "----------------------------------------\n",
      "Results for XGBoost of max_depth = 11:\n",
      "----------------------------------------\n",
      "Training score | -291431981.3492282\n",
      "----------------------------------------\n",
      "Validation score | -856172910.2410334\n",
      "----------------------------------------\n",
      "Results for XGBoost of max_depth = 12:\n",
      "----------------------------------------\n",
      "Training score | -232691180.56927082\n",
      "----------------------------------------\n",
      "Validation score | -875867808.9876248\n",
      "----------------------------------------\n"
     ]
    }
   ],
   "source": [
    "max_depth_range = range(1,13)\n",
    "for md in max_depth_range:\n",
    "    xgb_improved = XGBRegressor(objective='reg:squarederror', max_depth=md)\n",
    "    xgb_improved.fit(X_trainset, y_trainset)\n",
    "    print(f\"Results for XGBoost of max_depth = {md}:\")\n",
    "    print(\"----------------------------------------\")\n",
    "    train_pred = xgb_improved.predict(X_trainset)\n",
    "    train_score = mean_squared_error(y_trainset, train_pred)\n",
    "    print(f\"Training score | -{train_score}\")\n",
    "    print(\"----------------------------------------\")\n",
    "    \n",
    "    val_pred = xgb_improved.predict(X_valset)\n",
    "    val_score = mean_squared_error(y_valset, val_pred)\n",
    "    print(f\"Validation score | -{val_score}\")\n",
    "    print(\"----------------------------------------\")"
   ]
  },
  {
   "cell_type": "markdown",
   "id": "a50ad27c-c924-4f5f-82ff-019bc521de47",
   "metadata": {},
   "source": [
    "Generally, the scores increases as max_depth increases. However, validation score starts decreasing as the max_depth exceeds 9 which means that there is an overfitting. Hence the optimal `max_depth` is **9**."
   ]
  },
  {
   "cell_type": "markdown",
   "id": "1fe884f4-c808-4082-9c85-d0ee43960e75",
   "metadata": {},
   "source": [
    "### 5.2.3.2) Hyper-parameter 2 and 3: Tuning `eta` (learning_rate) and `n_estimators`"
   ]
  },
  {
   "cell_type": "code",
   "execution_count": 103,
   "id": "1993878e-a467-4d6c-aaee-bc03b7b684f1",
   "metadata": {},
   "outputs": [
    {
     "name": "stdout",
     "output_type": "stream",
     "text": [
      "Results for XGBoost of eta = 0.01 & n_estimators = 100:\n",
      "----------------------------------------\n",
      "Training score | -5095402976.825143\n",
      "----------------------------------------\n",
      "Validation score | -5226064177.514582\n",
      "----------------------------------------\n",
      "Results for XGBoost of eta = 0.01 & n_estimators = 200:\n",
      "----------------------------------------\n",
      "Training score | -2138221742.5414276\n",
      "----------------------------------------\n",
      "Validation score | -2267249278.2732463\n",
      "----------------------------------------\n",
      "Results for XGBoost of eta = 0.01 & n_estimators = 300:\n",
      "----------------------------------------\n",
      "Training score | -1340299232.1068568\n",
      "----------------------------------------\n",
      "Validation score | -1477674896.4434829\n",
      "----------------------------------------\n",
      "Results for XGBoost of eta = 0.01 & n_estimators = 400:\n",
      "----------------------------------------\n",
      "Training score | -1035866878.0512499\n",
      "----------------------------------------\n",
      "Validation score | -1186669136.3750682\n",
      "----------------------------------------\n",
      "Results for XGBoost of eta = 0.05 & n_estimators = 100:\n",
      "----------------------------------------\n",
      "Training score | -870929850.9510593\n",
      "----------------------------------------\n",
      "Validation score | -1032369436.9739864\n",
      "----------------------------------------\n",
      "Results for XGBoost of eta = 0.05 & n_estimators = 200:\n",
      "----------------------------------------\n",
      "Training score | -627354603.884689\n",
      "----------------------------------------\n",
      "Validation score | -835325094.1131827\n",
      "----------------------------------------\n",
      "Results for XGBoost of eta = 0.05 & n_estimators = 300:\n",
      "----------------------------------------\n",
      "Training score | -548548668.1240922\n",
      "----------------------------------------\n",
      "Validation score | -793714486.8422257\n",
      "----------------------------------------\n",
      "Results for XGBoost of eta = 0.05 & n_estimators = 400:\n",
      "----------------------------------------\n",
      "Training score | -501980183.0928671\n",
      "----------------------------------------\n",
      "Validation score | -777940485.1014204\n",
      "----------------------------------------\n",
      "Results for XGBoost of eta = 0.1 & n_estimators = 100:\n",
      "----------------------------------------\n",
      "Training score | -634924808.4380507\n",
      "----------------------------------------\n",
      "Validation score | -845251041.6577669\n",
      "----------------------------------------\n",
      "Results for XGBoost of eta = 0.1 & n_estimators = 200:\n",
      "----------------------------------------\n",
      "Training score | -503366702.7771041\n",
      "----------------------------------------\n",
      "Validation score | -784783631.3269855\n",
      "----------------------------------------\n",
      "Results for XGBoost of eta = 0.1 & n_estimators = 300:\n",
      "----------------------------------------\n",
      "Training score | -437857119.69819564\n",
      "----------------------------------------\n",
      "Validation score | -773689306.8988328\n",
      "----------------------------------------\n",
      "Results for XGBoost of eta = 0.1 & n_estimators = 400:\n",
      "----------------------------------------\n",
      "Training score | -395738287.0707746\n",
      "----------------------------------------\n",
      "Validation score | -771110768.3769119\n",
      "----------------------------------------\n",
      "Results for XGBoost of eta = 0.2 & n_estimators = 100:\n",
      "----------------------------------------\n",
      "Training score | -514863799.7937328\n",
      "----------------------------------------\n",
      "Validation score | -806000509.2196475\n",
      "----------------------------------------\n",
      "Results for XGBoost of eta = 0.2 & n_estimators = 200:\n",
      "----------------------------------------\n",
      "Training score | -400642606.31685066\n",
      "----------------------------------------\n",
      "Validation score | -796163908.0974587\n",
      "----------------------------------------\n",
      "Results for XGBoost of eta = 0.2 & n_estimators = 300:\n",
      "----------------------------------------\n",
      "Training score | -336530439.5823169\n",
      "----------------------------------------\n",
      "Validation score | -802555855.3619907\n",
      "----------------------------------------\n",
      "Results for XGBoost of eta = 0.2 & n_estimators = 400:\n",
      "----------------------------------------\n",
      "Training score | -293202669.4789015\n",
      "----------------------------------------\n",
      "Validation score | -815592443.2784071\n",
      "----------------------------------------\n"
     ]
    }
   ],
   "source": [
    "eta_range = [0.01, 0.05, 0.1, 0.2]\n",
    "n_estimators_range = [100, 200, 300, 400]\n",
    "\n",
    "for eta in eta_range:\n",
    "    for n_est in n_estimators_range:\n",
    "            xgb_improved = XGBRegressor(objective='reg:squarederror', max_depth=9, eta=eta, n_estimators=n_est)\n",
    "            xgb_improved.fit(X_trainset, y_trainset)\n",
    "            print(f\"Results for XGBoost of eta = {eta} & n_estimators = {n_est}:\")\n",
    "            print(\"----------------------------------------\")\n",
    "            train_pred = xgb_improved.predict(X_trainset)\n",
    "            train_score = mean_squared_error(y_trainset, train_pred)\n",
    "            print(f\"Training score | -{train_score}\")\n",
    "            print(\"----------------------------------------\")\n",
    "            \n",
    "            val_pred = xgb_improved.predict(X_valset)\n",
    "            val_score = mean_squared_error(y_valset, val_pred)\n",
    "            print(f\"Validation score | -{val_score}\")\n",
    "            print(\"----------------------------------------\")"
   ]
  },
  {
   "cell_type": "markdown",
   "id": "a260ef42-0b73-4862-800a-eae19796a57c",
   "metadata": {},
   "source": [
    "Generally, as `n_estimators` increases within the same `eta`, the scores also increases. However, when `eta` is 0.2, the validation scores dropped instead with increasing `n_estimators`. This is due to overfitting. Hence I will explore a range of `eta` that is less than 0.1 while increasing the number of `n_estimators`."
   ]
  },
  {
   "cell_type": "code",
   "execution_count": 104,
   "id": "831a3e3b-ab66-473b-90ac-d7285150db6a",
   "metadata": {},
   "outputs": [
    {
     "name": "stdout",
     "output_type": "stream",
     "text": [
      "Results for XGBoost of eta = 0.04 & n_estimators = 500:\n",
      "----------------------------------------\n",
      "Training score | -504542108.2225351\n",
      "----------------------------------------\n",
      "Validation score | -777202666.0673424\n",
      "----------------------------------------\n",
      "Results for XGBoost of eta = 0.04 & n_estimators = 550:\n",
      "----------------------------------------\n",
      "Training score | -489232292.686671\n",
      "----------------------------------------\n",
      "Validation score | -773179051.5205541\n",
      "----------------------------------------\n",
      "Results for XGBoost of eta = 0.04 & n_estimators = 600:\n",
      "----------------------------------------\n",
      "Training score | -474365457.9541011\n",
      "----------------------------------------\n",
      "Validation score | -770033651.3526621\n",
      "----------------------------------------\n",
      "Results for XGBoost of eta = 0.04 & n_estimators = 650:\n",
      "----------------------------------------\n",
      "Training score | -461886796.44151676\n",
      "----------------------------------------\n",
      "Validation score | -767891760.9713769\n",
      "----------------------------------------\n",
      "Results for XGBoost of eta = 0.04 & n_estimators = 700:\n",
      "----------------------------------------\n",
      "Training score | -451879453.78935844\n",
      "----------------------------------------\n",
      "Validation score | -766866194.1711172\n",
      "----------------------------------------\n",
      "Results for XGBoost of eta = 0.04 & n_estimators = 750:\n",
      "----------------------------------------\n",
      "Training score | -442705717.43700576\n",
      "----------------------------------------\n",
      "Validation score | -766292667.0803499\n",
      "----------------------------------------\n",
      "Results for XGBoost of eta = 0.04 & n_estimators = 800:\n",
      "----------------------------------------\n",
      "Training score | -431437699.1363511\n",
      "----------------------------------------\n",
      "Validation score | -765112800.8294891\n",
      "----------------------------------------\n",
      "Results for XGBoost of eta = 0.05 & n_estimators = 500:\n",
      "----------------------------------------\n",
      "Training score | -464588057.78038365\n",
      "----------------------------------------\n",
      "Validation score | -769093630.2407154\n",
      "----------------------------------------\n",
      "Results for XGBoost of eta = 0.05 & n_estimators = 550:\n",
      "----------------------------------------\n",
      "Training score | -451013237.2720376\n",
      "----------------------------------------\n",
      "Validation score | -766995775.8459823\n",
      "----------------------------------------\n",
      "Results for XGBoost of eta = 0.05 & n_estimators = 600:\n",
      "----------------------------------------\n",
      "Training score | -439280533.72701186\n",
      "----------------------------------------\n",
      "Validation score | -765766492.3517196\n",
      "----------------------------------------\n",
      "Results for XGBoost of eta = 0.05 & n_estimators = 650:\n",
      "----------------------------------------\n",
      "Training score | -426237217.6564869\n",
      "----------------------------------------\n",
      "Validation score | -764533941.9040086\n",
      "----------------------------------------\n",
      "Results for XGBoost of eta = 0.05 & n_estimators = 700:\n",
      "----------------------------------------\n",
      "Training score | -415173740.8493661\n",
      "----------------------------------------\n",
      "Validation score | -763640715.4025213\n",
      "----------------------------------------\n",
      "Results for XGBoost of eta = 0.05 & n_estimators = 750:\n",
      "----------------------------------------\n",
      "Training score | -404397158.9974782\n",
      "----------------------------------------\n",
      "Validation score | -762974818.2006804\n",
      "----------------------------------------\n",
      "Results for XGBoost of eta = 0.05 & n_estimators = 800:\n",
      "----------------------------------------\n",
      "Training score | -395474702.61934143\n",
      "----------------------------------------\n",
      "Validation score | -762863307.5891755\n",
      "----------------------------------------\n",
      "Results for XGBoost of eta = 0.06 & n_estimators = 500:\n",
      "----------------------------------------\n",
      "Training score | -438405368.4352713\n",
      "----------------------------------------\n",
      "Validation score | -765321658.2778298\n",
      "----------------------------------------\n",
      "Results for XGBoost of eta = 0.06 & n_estimators = 550:\n",
      "----------------------------------------\n",
      "Training score | -423640979.3655661\n",
      "----------------------------------------\n",
      "Validation score | -764459047.1475974\n",
      "----------------------------------------\n",
      "Results for XGBoost of eta = 0.06 & n_estimators = 600:\n",
      "----------------------------------------\n",
      "Training score | -410794995.8838887\n",
      "----------------------------------------\n",
      "Validation score | -764319747.3202266\n",
      "----------------------------------------\n",
      "Results for XGBoost of eta = 0.06 & n_estimators = 650:\n",
      "----------------------------------------\n",
      "Training score | -396699674.7696577\n",
      "----------------------------------------\n",
      "Validation score | -763941268.7005987\n",
      "----------------------------------------\n",
      "Results for XGBoost of eta = 0.06 & n_estimators = 700:\n",
      "----------------------------------------\n",
      "Training score | -385460664.15483904\n",
      "----------------------------------------\n",
      "Validation score | -764232853.5325966\n",
      "----------------------------------------\n",
      "Results for XGBoost of eta = 0.06 & n_estimators = 750:\n",
      "----------------------------------------\n",
      "Training score | -375929389.5248757\n",
      "----------------------------------------\n",
      "Validation score | -765127523.8180323\n",
      "----------------------------------------\n",
      "Results for XGBoost of eta = 0.06 & n_estimators = 800:\n",
      "----------------------------------------\n",
      "Training score | -366155734.96306473\n",
      "----------------------------------------\n",
      "Validation score | -765799703.7442095\n",
      "----------------------------------------\n"
     ]
    }
   ],
   "source": [
    "eta_range = [0.04,0.05,0.06]\n",
    "n_estimators_range = [500,550,600,650,700,750,800]\n",
    "\n",
    "for eta in eta_range:\n",
    "    for n_est in n_estimators_range:\n",
    "            xgb_improved = XGBRegressor(objective='reg:squarederror', max_depth=9, eta=eta, n_estimators=n_est)\n",
    "            xgb_improved.fit(X_trainset, y_trainset)\n",
    "            print(f\"Results for XGBoost of eta = {eta} & n_estimators = {n_est}:\")\n",
    "            print(\"----------------------------------------\")\n",
    "            train_pred = xgb_improved.predict(X_trainset)\n",
    "            train_score = mean_squared_error(y_trainset, train_pred)\n",
    "            print(f\"Training score | -{train_score}\")\n",
    "            print(\"----------------------------------------\")\n",
    "            \n",
    "            val_pred = xgb_improved.predict(X_valset)\n",
    "            val_score = mean_squared_error(y_valset, val_pred)\n",
    "            print(f\"Validation score | -{val_score}\")\n",
    "            print(\"----------------------------------------\")"
   ]
  },
  {
   "cell_type": "markdown",
   "id": "7f96038b-ebfc-4cff-b393-d8f38cb9d597",
   "metadata": {},
   "source": [
    "The most optimal values of `n_estimators` and `eta` are **650** and **0.06** respectively. This is because having more estimators will correct the error made by the previous estimator and aim to reduce the loss. Since the number of estimators is high, the learning rate will control the influence of each estimator to prevent overfitting and allow the boosting algorithm to converge on the optimal model. The validation score starts dropping when eta is 0.06 and n_estimators exceeds 650 which could reflect overfitting. "
   ]
  },
  {
   "cell_type": "markdown",
   "id": "95b257d8-4311-4916-b3ec-1962c2bc5858",
   "metadata": {},
   "source": [
    "### 5.2.3.3) Hyper-parameter 4: Changing `lambda` (L2 Regularization)"
   ]
  },
  {
   "cell_type": "code",
   "execution_count": 105,
   "id": "d90521c9-ed02-482b-aff6-39e517615d08",
   "metadata": {
    "scrolled": true
   },
   "outputs": [
    {
     "name": "stdout",
     "output_type": "stream",
     "text": [
      "Results for XGBoost of lambda = 1:\n",
      "----------------------------------------\n",
      "Training score | -396699674.7696577\n",
      "----------------------------------------\n",
      "Validation score | -763941268.7005987\n",
      "----------------------------------------\n",
      "Results for XGBoost of lambda = 3:\n",
      "----------------------------------------\n",
      "Training score | -420239187.42783993\n",
      "----------------------------------------\n",
      "Validation score | -764473507.0674019\n",
      "----------------------------------------\n",
      "Results for XGBoost of lambda = 5:\n",
      "----------------------------------------\n",
      "Training score | -434127177.65280277\n",
      "----------------------------------------\n",
      "Validation score | -762287643.7137346\n",
      "----------------------------------------\n",
      "Results for XGBoost of lambda = 5.2:\n",
      "----------------------------------------\n",
      "Training score | -435718260.43480057\n",
      "----------------------------------------\n",
      "Validation score | -761548793.7773962\n",
      "----------------------------------------\n",
      "Results for XGBoost of lambda = 5.5:\n",
      "----------------------------------------\n",
      "Training score | -439942302.27465606\n",
      "----------------------------------------\n",
      "Validation score | -761531978.12743\n",
      "----------------------------------------\n",
      "Results for XGBoost of lambda = 5.8:\n",
      "----------------------------------------\n",
      "Training score | -438637721.222102\n",
      "----------------------------------------\n",
      "Validation score | -760327349.936955\n",
      "----------------------------------------\n",
      "Results for XGBoost of lambda = 6:\n",
      "----------------------------------------\n",
      "Training score | -432708845.9502644\n",
      "----------------------------------------\n",
      "Validation score | -759737728.2618998\n",
      "----------------------------------------\n"
     ]
    }
   ],
   "source": [
    "lambda_range = [1,3,5,5.2,5.5,5.8,6]\n",
    "for ld in lambda_range:\n",
    "    xgb_improved = XGBRegressor(objective='reg:squarederror', max_depth=9, n_estimators=650, eta=0.06, reg_lambda=ld)\n",
    "    xgb_improved.fit(X_trainset, y_trainset)\n",
    "    print(f\"Results for XGBoost of lambda = {ld}:\")\n",
    "    print(\"----------------------------------------\")\n",
    "    train_pred = xgb_improved.predict(X_trainset)\n",
    "    train_score = mean_squared_error(y_trainset, train_pred)\n",
    "    print(f\"Training score | -{train_score}\")\n",
    "    print(\"----------------------------------------\")\n",
    "    \n",
    "    val_pred = xgb_improved.predict(X_valset)\n",
    "    val_score = mean_squared_error(y_valset, val_pred)\n",
    "    print(f\"Validation score | -{val_score}\")\n",
    "    print(\"----------------------------------------\")"
   ]
  },
  {
   "cell_type": "markdown",
   "id": "e2b35c9b-513c-4bc5-a4c5-cbe5f30eb4b4",
   "metadata": {},
   "source": [
    "A higher value of lambda will penalise the sum of square of the model weights more and is added to the loss function to reduce overfitting. As seen, the training scores generally decreases as value of `lambda` increases but validation scores increases which means the model is generalizing better to unseen data. Hence the optimal value of `lambda` that yields the best score is **6** as it has the highest validation score and a relatively high training score compared to other values."
   ]
  },
  {
   "cell_type": "markdown",
   "id": "ab669b1b-d5d0-4350-b50d-a2d2e7c22f0f",
   "metadata": {},
   "source": [
    "## 6.4) `5-fold cross validation` to evaluate the XGBoost Regressor with the chosen parameters"
   ]
  },
  {
   "cell_type": "code",
   "execution_count": 106,
   "id": "0d412cf3-2f7f-4353-8715-f44325346537",
   "metadata": {},
   "outputs": [
    {
     "name": "stdout",
     "output_type": "stream",
     "text": [
      "The mean score is -768986120.8656132\n"
     ]
    }
   ],
   "source": [
    "xgb_final = XGBRegressor(objective='reg:squarederror', max_depth=9, n_estimators=650, eta=0.06, reg_lambda=6)\n",
    "cv_scores = cross_val_score(xgb_final, X_train, y_train, cv=5, scoring='neg_mean_squared_error')\n",
    "print(f\"The mean score is {np.mean(cv_scores)}\")"
   ]
  },
  {
   "cell_type": "markdown",
   "id": "4b5e3a3b-2cd0-4391-9980-07507bcd1f3a",
   "metadata": {},
   "source": [
    "## 6.5) Predicting test set using fitted model"
   ]
  },
  {
   "cell_type": "code",
   "execution_count": 107,
   "id": "fb617cae-e510-4567-892c-482ff0539f5d",
   "metadata": {},
   "outputs": [
    {
     "name": "stdout",
     "output_type": "stream",
     "text": [
      "Test MSE | 745534116.2202036\n",
      "Test MAE | 20030.049255977374\n",
      "Test R2 Score | 0.9655583158885616\n"
     ]
    }
   ],
   "source": [
    "xgb_final.fit(X_train, y_train)\n",
    "\n",
    "test_pred = xgb_final.predict(X_test)\n",
    "test_MSE = mean_squared_error(y_test, test_pred)\n",
    "test_MAE = mean_absolute_error(y_test, test_pred)\n",
    "test_R2 = r2_score(y_test, test_pred)\n",
    "print(f\"Test MSE | {test_MSE}\")\n",
    "print(f\"Test MAE | {test_MAE}\")\n",
    "print(f\"Test R2 Score | {test_R2}\")"
   ]
  },
  {
   "cell_type": "markdown",
   "id": "aa37b517-4b88-41a3-87e3-a80c12f17c07",
   "metadata": {},
   "source": [
    "# Comparison of performances of all models"
   ]
  },
  {
   "cell_type": "markdown",
   "id": "9aff8d09-e8d2-4714-8214-3a8674328f2e",
   "metadata": {},
   "source": [
    "### Summary of all model performances:\n",
    "| Model                   | Mean Square Error | Mean Absolute Error | R2-score |\n",
    "|-------------------------|-------------------|---------------------|----------|\n",
    "|1) `Lasso Regression`    | 6025195388        |  57858              | 0.72165  |\n",
    "|2) `Ridge Regression`    | 6025194994        |  57858              | 0.72165  |\n",
    "|3) `K Nearest Neighbour` | 1615971029        |  26848              | 0.92535  |\n",
    "|4) `Decision Tree`       | 1126052155        |  24093              | 0.94798  |\n",
    "|5) `Random Forest`       | 814176143         |  20835              | 0.96239  |\n",
    "|6) `AdaBoost`            | 856806024         |  21143              | 0.96042  |\n",
    "|7) `XGBoost`             | 745534116         |  20030              | 0.96556  |"
   ]
  },
  {
   "cell_type": "markdown",
   "id": "e911e7a1-a1f9-4c78-8370-69ffacb8b253",
   "metadata": {},
   "source": [
    "### Evaluation of the results\n",
    "\n",
    "1. **Mean Square Error (MSE)**:\n",
    "MSE measures the average squared difference between the estimated values and the actual value. A lower MSE indicates a better fit of the model to the data.\n",
    "- `Lasso Regression` and `Ridge Regression` have identical MSEs of approximately 6.03 billion, which suggests that they have similar   performance in terms of the average squared errors.\n",
    "- `K Nearest Neighbour` has a significantly higher MSE of approximately 16.16 billion, indicating that on average, the squared errors are larger for this model.\n",
    "- `Decision Tree` has a lower MSE of approximately 1.12 billion, which is an improvement over the K Nearest Neighbour model.\n",
    "- `Random Forest` and `AdaBoost` have even lower MSEs of approximately 814 million and 857 million, respectively, indicating better performance.\n",
    "- `XGBoost` has the lowest MSE of approximately 745 million, suggesting it has the best fit among the models listed.\n",
    "  \n",
    "2. **Mean Absolute Error (MAE)**:\n",
    "MAE measures the average absolute difference between the estimated values and the actual value. A lower MAE indicates a model with better predictive accuracy.\n",
    "- `Lasso Regression` and `Ridge Regression` again have identical MAEs of 57,858, which is relatively high compared to the other models.\n",
    "- `K Nearest Neighbour` has a lower MAE of 26,848, showing an improvement in predictive accuracy.\n",
    "- `Decision Tree` has an even lower MAE of 24,093.\n",
    "- `Random Forest`, `AdaBoost`, and `XGBoost` have the lowest MAEs of 20,835, 21,143, and 20,030, respectively, indicating that these models have the best predictive accuracy.\n",
    "  \n",
    "3. **R2-score**:\n",
    "The R2-score, also known as the coefficient of determination, measures the proportion of the variance in the dependent variable that is predictable from the independent variables. An R2-score of 1 indicates perfect prediction, while a score of 0 indicates that the model does not improve prediction over the mean.\n",
    "- `Lasso Regression` and `Ridge Regression` have an R2-score of 0.72165, which is decent but suggests that around 28% of the variance in the resale flat prices is not captured by these models.\n",
    "- `K Nearest Neighbour` has a higher R2-score of 0.92535, indicating that it captures more variance in the flat prices.\n",
    "- `Decision Tree` has an even higher R2-score of 0.94798.\n",
    "- `Random Forest`, `AdaBoost`, and `XGBoost` have the highest R2-scores of 0.96239, 0.96042, and 0.96556, respectively, indicating that these models are the most effective at capturing the variance in the resale flat prices.\n",
    "\n",
    "4. **Possible Explanations for Performance**:\n",
    "The performance of these models can be influenced by several factors.\n",
    "\n",
    "- **Model Complexity / feature dimensonality**: Models like `Random Forest` and `XGBoost` are ensemble methods that combine multiple decision trees to improve predictive performance and reduce overfitting. This complexity can help them capture more nuanced patterns in the data, leading to lower errors and higher R2-scores. On the other hand, since our dataset has a high number of features (28 before feature selection), `linear regression` and `KNN` may suffer from curse of dimensionality whereby the feature space becomes so large that the model cannot effectively learn from the data. For `KNN`, it also makes it difficult for the algorithm to identify the nearest neighbour. As for `linear regression`, the relationship between the features may be non-linear hence the model performance is poor as it assumes linearity. This could possibly explain the much higher MSE and MAE for `linear regression` and `KNN` compared to other models. As for `decision tree`, even though it can handle non-linear data, there could be too many interactions between the variables that are too complex for one tree to capture all the nuances without overfitting. This is why `decision tree` has a slightly better performance than `linear regression` and `KNN` but still far worse than ensemble methods.\n",
    "\n",
    "- **Regularization**: `Lasso and Ridge Regression` include regularization terms to prevent overfitting, which can be beneficial when dealing with multicollinearity or when the dataset has fewer observations than features. However, if the regularization is too strong, it might lead to underfitting, which could explain the higher errors compared to ensemble methods. A more in-depth fine-tuning can be carried out to balance the trade-off.\n",
    "\n",
    "- **Hyperparameters**: The performance of `K Nearest Neighbour` can be highly sensitive to the choice of 'k' (the number of nearest neighbors considered). If 'k' is not optimally chosen, the model might not perform well. A more in-depth fine-tuning can be carried out to find a more optimal k to improve its performance.\n",
    "\n",
    "- **Data Characteristics**: The nature of the data, such as the presence of outliers, noise, and the number of features, can affect the performance of the models. For instance, MSE is more sensitive to outliers than MAE, which might explain why models with lower MSEs also tend to have lower MAEs. There could still be some noise and outliers present in the dataset which makes linear models more susceptible to poor performance and overfitting.\n",
    "\n",
    "**In conclusion, ensemble methods like Random Forest, AdaBoost, and XGBoost are performing the best in predicting the price of resale flats in Singapore. They have the lowest MSE and MAE, and the highest R2-scores, indicating that they are able to predict the resale flat prices with greater accuracy and capture more variance in the data compared to the other models.**"
   ]
  },
  {
   "cell_type": "markdown",
   "id": "742d0ee4-fe7d-4d90-adbf-0d035341f156",
   "metadata": {},
   "source": [
    "# Conclusion / Future Work"
   ]
  },
  {
   "cell_type": "markdown",
   "id": "2ffb0dda-de61-496c-8f4d-d0b7b4e274de",
   "metadata": {},
   "source": [
    "In this project, we studied the HDB resale price in Singapore to build a model that can predict its price given a comprehensive set of parameters as the prices can be influenced by a range of different factors. **We also managed to exercise our creativity and tap on existing publications in this domain to improve the quality of our datasets as well as model training:**\n",
    "\n",
    "1. We made use of the OneMap API to get the coordinates of educational institutions, shopping malls, police stations, green areas, MRT and bus stations and Singapore, and subsequently find the distance between them and the resale flats as we know that the prices are influenced by nearby amenities and public transport network. We also included crime rate data by town as we believe that this could also affect the price of resale flat in the area. This feature extraction process enriched our dataset and allowed our model to learn the data better.\n",
    "   \n",
    "2. Instead of doing one-hot encoding for all our categorical features (e.g. town, nearest MRT) which will blow up the dimensionality of our dataset (leading to curse of dimensionality), we implemented a novel method of encoding them by first grouping them by the categorical feature and taking the median price of each group minus the overall median price of the dataset and finally doing a min-max normalization to get an index representing each group in the feature. The group with a higher median price will have a higher index which also represent that flats in that group are generally more expensive and considered more \"upmarket\". \n",
    "\n",
    "3. We trained multiple ML models and came up with a rigorous and robust methodology to fine-tune each model by looking into each of their hyper-parameters. We were able to significantly improve the final performance of the models compared to the baseline model after the fine-tuning process. We also implemented good ML techniques and practices in our training process by utilizing train-val-test split, feature selection and cross-validation.\n",
    "\n",
    "<hr>\n",
    "\n",
    "**However, we also recognized that there are still room for improvements in our project:**\n",
    "1. Since our dataset include a wide range of years from 2012 to 2021, we did not consider that some of the amenities such as MRT station and malls may not be built there yet hence there could be inaccuracies in our data leading to bias and noise. Moving forward, we can just collect more datapoints for one particular year alone which will allow us to filter out the amenitites that have been built there at the point of the resale.\n",
    "   \n",
    "2. We did not consider economic and political factors in our data such as inflation rate and the change in housing policies as it makes the data processing too complex for our project and may lead to more errors. However, we do recognise that it is an important aspect that could affect the prices of resale flat drastically. While it is not substantial, including year as a feature inside the data could contain some information on these factors. For example, resale flats sold in 2021 could all be much higher compared to previous years due to Covid and similarly those sold in 2024 will also be higher due to increase in GST. Nevertheless, moving forward we can explicitly include economic and political features inside the data to make it even more robust."
   ]
  }
 ],
 "metadata": {
  "kernelspec": {
   "display_name": "Python 3 (ipykernel)",
   "language": "python",
   "name": "python3"
  },
  "language_info": {
   "codemirror_mode": {
    "name": "ipython",
    "version": 3
   },
   "file_extension": ".py",
   "mimetype": "text/x-python",
   "name": "python",
   "nbconvert_exporter": "python",
   "pygments_lexer": "ipython3",
   "version": "3.11.7"
  }
 },
 "nbformat": 4,
 "nbformat_minor": 5
}
